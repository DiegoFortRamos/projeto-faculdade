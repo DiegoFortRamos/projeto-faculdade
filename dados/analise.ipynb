{
 "cells": [
  {
   "cell_type": "code",
   "execution_count": 112,
   "metadata": {},
   "outputs": [],
   "source": [
    "import pandas as pd\n",
    "\n",
    "dados = pd.read_csv('arquivo.csv',sep=',')\n",
    "\n"
   ]
  },
  {
   "cell_type": "code",
   "execution_count": 113,
   "metadata": {},
   "outputs": [
    {
     "data": {
      "text/html": [
       "<div>\n",
       "<style scoped>\n",
       "    .dataframe tbody tr th:only-of-type {\n",
       "        vertical-align: middle;\n",
       "    }\n",
       "\n",
       "    .dataframe tbody tr th {\n",
       "        vertical-align: top;\n",
       "    }\n",
       "\n",
       "    .dataframe thead th {\n",
       "        text-align: right;\n",
       "    }\n",
       "</style>\n",
       "<table border=\"1\" class=\"dataframe\">\n",
       "  <thead>\n",
       "    <tr style=\"text-align: right;\">\n",
       "      <th></th>\n",
       "      <th>Ativo</th>\n",
       "      <th>Razão social</th>\n",
       "      <th>Data cadastro</th>\n",
       "      <th>Endereço</th>\n",
       "      <th>Cidade</th>\n",
       "      <th>UF</th>\n",
       "      <th>Bairro</th>\n",
       "      <th>CEP</th>\n",
       "    </tr>\n",
       "  </thead>\n",
       "  <tbody>\n",
       "    <tr>\n",
       "      <th>0</th>\n",
       "      <td>Sim</td>\n",
       "      <td>ARIANE PEREIRA DA SILVA</td>\n",
       "      <td>01-07-2023</td>\n",
       "      <td>Rua do Monte</td>\n",
       "      <td>Rio de Janeiro</td>\n",
       "      <td>RJ</td>\n",
       "      <td>Gamboa</td>\n",
       "      <td>20221-130</td>\n",
       "    </tr>\n",
       "    <tr>\n",
       "      <th>1</th>\n",
       "      <td>Não</td>\n",
       "      <td>Monica Soares</td>\n",
       "      <td>04-07-2023</td>\n",
       "      <td>Rua da América</td>\n",
       "      <td>Rio de Janeiro</td>\n",
       "      <td>RJ</td>\n",
       "      <td>Santo Cristo</td>\n",
       "      <td>20220-590</td>\n",
       "    </tr>\n",
       "    <tr>\n",
       "      <th>2</th>\n",
       "      <td>Sim</td>\n",
       "      <td>Richard Lemos Martins da Silva</td>\n",
       "      <td>04-07-2023</td>\n",
       "      <td>Rua Senador Pompeu</td>\n",
       "      <td>Rio de Janeiro</td>\n",
       "      <td>RJ</td>\n",
       "      <td>Centro</td>\n",
       "      <td>20221-291</td>\n",
       "    </tr>\n",
       "    <tr>\n",
       "      <th>3</th>\n",
       "      <td>Sim</td>\n",
       "      <td>Dilma Maria de Jesus</td>\n",
       "      <td>05-07-2023</td>\n",
       "      <td>Rua da América</td>\n",
       "      <td>Rio de Janeiro</td>\n",
       "      <td>RJ</td>\n",
       "      <td>Santo Cristo</td>\n",
       "      <td>20210-910</td>\n",
       "    </tr>\n",
       "    <tr>\n",
       "      <th>4</th>\n",
       "      <td>Sim</td>\n",
       "      <td>Jorge Ramiro da Silva</td>\n",
       "      <td>06-07-2023</td>\n",
       "      <td>Rua da Bica</td>\n",
       "      <td>Rio de Janeiro</td>\n",
       "      <td>RJ</td>\n",
       "      <td>Gamboa</td>\n",
       "      <td>20221-330</td>\n",
       "    </tr>\n",
       "  </tbody>\n",
       "</table>\n",
       "</div>"
      ],
      "text/plain": [
       "  Ativo                    Razão social Data cadastro            Endereço  \\\n",
       "0   Sim         ARIANE PEREIRA DA SILVA    01-07-2023        Rua do Monte   \n",
       "1   Não                   Monica Soares    04-07-2023      Rua da América   \n",
       "2   Sim  Richard Lemos Martins da Silva    04-07-2023  Rua Senador Pompeu   \n",
       "3   Sim            Dilma Maria de Jesus    05-07-2023      Rua da América   \n",
       "4   Sim           Jorge Ramiro da Silva    06-07-2023         Rua da Bica   \n",
       "\n",
       "           Cidade  UF        Bairro        CEP  \n",
       "0  Rio de Janeiro  RJ        Gamboa  20221-130  \n",
       "1  Rio de Janeiro  RJ  Santo Cristo  20220-590  \n",
       "2  Rio de Janeiro  RJ        Centro  20221-291  \n",
       "3  Rio de Janeiro  RJ  Santo Cristo  20210-910  \n",
       "4  Rio de Janeiro  RJ        Gamboa  20221-330  "
      ]
     },
     "execution_count": 113,
     "metadata": {},
     "output_type": "execute_result"
    }
   ],
   "source": [
    "dados.head()"
   ]
  },
  {
   "cell_type": "markdown",
   "metadata": {},
   "source": [
    "TIRAR COLUNAS QUE NÃO VÃO SERVIR PARA NOSSA ANALISE"
   ]
  },
  {
   "cell_type": "code",
   "execution_count": null,
   "metadata": {},
   "outputs": [],
   "source": [
    "dados = dados.drop(columns=['Razão social'])\n",
    "dados = dados.drop(columns=['CEP'])\n"
   ]
  },
  {
   "cell_type": "code",
   "execution_count": 114,
   "metadata": {},
   "outputs": [
    {
     "data": {
      "text/html": [
       "<div>\n",
       "<style scoped>\n",
       "    .dataframe tbody tr th:only-of-type {\n",
       "        vertical-align: middle;\n",
       "    }\n",
       "\n",
       "    .dataframe tbody tr th {\n",
       "        vertical-align: top;\n",
       "    }\n",
       "\n",
       "    .dataframe thead th {\n",
       "        text-align: right;\n",
       "    }\n",
       "</style>\n",
       "<table border=\"1\" class=\"dataframe\">\n",
       "  <thead>\n",
       "    <tr style=\"text-align: right;\">\n",
       "      <th></th>\n",
       "      <th>Ativo</th>\n",
       "      <th>Razão social</th>\n",
       "      <th>Data cadastro</th>\n",
       "      <th>Endereço</th>\n",
       "      <th>Cidade</th>\n",
       "      <th>UF</th>\n",
       "      <th>Bairro</th>\n",
       "      <th>CEP</th>\n",
       "    </tr>\n",
       "  </thead>\n",
       "  <tbody>\n",
       "    <tr>\n",
       "      <th>0</th>\n",
       "      <td>Sim</td>\n",
       "      <td>ARIANE PEREIRA DA SILVA</td>\n",
       "      <td>01-07-2023</td>\n",
       "      <td>Rua do Monte</td>\n",
       "      <td>Rio de Janeiro</td>\n",
       "      <td>RJ</td>\n",
       "      <td>Gamboa</td>\n",
       "      <td>20221-130</td>\n",
       "    </tr>\n",
       "    <tr>\n",
       "      <th>1</th>\n",
       "      <td>Não</td>\n",
       "      <td>Monica Soares</td>\n",
       "      <td>04-07-2023</td>\n",
       "      <td>Rua da América</td>\n",
       "      <td>Rio de Janeiro</td>\n",
       "      <td>RJ</td>\n",
       "      <td>Santo Cristo</td>\n",
       "      <td>20220-590</td>\n",
       "    </tr>\n",
       "    <tr>\n",
       "      <th>2</th>\n",
       "      <td>Sim</td>\n",
       "      <td>Richard Lemos Martins da Silva</td>\n",
       "      <td>04-07-2023</td>\n",
       "      <td>Rua Senador Pompeu</td>\n",
       "      <td>Rio de Janeiro</td>\n",
       "      <td>RJ</td>\n",
       "      <td>Centro</td>\n",
       "      <td>20221-291</td>\n",
       "    </tr>\n",
       "    <tr>\n",
       "      <th>3</th>\n",
       "      <td>Sim</td>\n",
       "      <td>Dilma Maria de Jesus</td>\n",
       "      <td>05-07-2023</td>\n",
       "      <td>Rua da América</td>\n",
       "      <td>Rio de Janeiro</td>\n",
       "      <td>RJ</td>\n",
       "      <td>Santo Cristo</td>\n",
       "      <td>20210-910</td>\n",
       "    </tr>\n",
       "    <tr>\n",
       "      <th>4</th>\n",
       "      <td>Sim</td>\n",
       "      <td>Jorge Ramiro da Silva</td>\n",
       "      <td>06-07-2023</td>\n",
       "      <td>Rua da Bica</td>\n",
       "      <td>Rio de Janeiro</td>\n",
       "      <td>RJ</td>\n",
       "      <td>Gamboa</td>\n",
       "      <td>20221-330</td>\n",
       "    </tr>\n",
       "  </tbody>\n",
       "</table>\n",
       "</div>"
      ],
      "text/plain": [
       "  Ativo                    Razão social Data cadastro            Endereço  \\\n",
       "0   Sim         ARIANE PEREIRA DA SILVA    01-07-2023        Rua do Monte   \n",
       "1   Não                   Monica Soares    04-07-2023      Rua da América   \n",
       "2   Sim  Richard Lemos Martins da Silva    04-07-2023  Rua Senador Pompeu   \n",
       "3   Sim            Dilma Maria de Jesus    05-07-2023      Rua da América   \n",
       "4   Sim           Jorge Ramiro da Silva    06-07-2023         Rua da Bica   \n",
       "\n",
       "           Cidade  UF        Bairro        CEP  \n",
       "0  Rio de Janeiro  RJ        Gamboa  20221-130  \n",
       "1  Rio de Janeiro  RJ  Santo Cristo  20220-590  \n",
       "2  Rio de Janeiro  RJ        Centro  20221-291  \n",
       "3  Rio de Janeiro  RJ  Santo Cristo  20210-910  \n",
       "4  Rio de Janeiro  RJ        Gamboa  20221-330  "
      ]
     },
     "execution_count": 114,
     "metadata": {},
     "output_type": "execute_result"
    }
   ],
   "source": [
    "dados.head()"
   ]
  },
  {
   "cell_type": "markdown",
   "metadata": {},
   "source": [
    "Analisando os dados"
   ]
  },
  {
   "cell_type": "code",
   "execution_count": 115,
   "metadata": {},
   "outputs": [
    {
     "data": {
      "application/vnd.plotly.v1+json": {
       "config": {
        "plotlyServerURL": "https://plot.ly"
       },
       "data": [
        {
         "alignmentgroup": "True",
         "bingroup": "x",
         "hovertemplate": "Ativo=%{x}<br>count=%{y}<extra></extra>",
         "legendgroup": "",
         "marker": {
          "color": "#636efa",
          "pattern": {
           "shape": ""
          }
         },
         "name": "",
         "offsetgroup": "",
         "orientation": "v",
         "showlegend": false,
         "texttemplate": "%{value}",
         "type": "histogram",
         "x": [
          "Sim",
          "Não",
          "Sim",
          "Sim",
          "Sim",
          "Sim",
          "Sim",
          "Sim",
          "Sim",
          "Sim",
          "Não",
          "Sim",
          "Sim",
          "Sim",
          "Sim",
          "Sim",
          "Sim",
          "Sim",
          "Sim",
          "Sim",
          "Sim",
          "Sim",
          "Sim",
          "Sim",
          "Sim",
          "Sim",
          "Sim",
          "Sim",
          "Sim",
          "Sim",
          "Sim",
          "Sim",
          "Sim",
          "Sim",
          "Sim",
          "Sim",
          "Sim",
          "Sim",
          "Sim",
          "Sim",
          "Sim",
          "Sim",
          "Sim",
          "Sim",
          "Sim",
          "Sim",
          "Sim",
          "Sim",
          "Não",
          "Sim",
          "Sim",
          "Sim",
          "Sim",
          "Não",
          "Sim",
          "Sim",
          "Sim",
          "Sim",
          "Sim",
          "Sim",
          "Sim",
          "Não",
          "Sim",
          "Sim",
          "Sim",
          "Sim",
          "Sim",
          "Não",
          "Sim",
          "Sim",
          "Sim",
          "Sim",
          "Sim",
          "Sim",
          "Sim",
          "Sim",
          "Sim",
          "Sim",
          "Sim",
          "Sim",
          "Sim",
          "Sim",
          "Sim",
          "Sim",
          "Sim",
          "Não",
          "Sim",
          "Sim",
          "Sim",
          "Sim",
          "Sim",
          "Sim",
          "Sim",
          "Sim",
          "Sim",
          "Sim",
          "Sim",
          "Não",
          "Sim",
          "Sim",
          "Sim",
          "Sim",
          "Sim",
          "Sim",
          "Sim",
          "Sim",
          "Sim",
          "Sim",
          "Sim",
          "Sim",
          "Sim",
          "Sim",
          "Sim",
          "Sim",
          "Sim",
          "Sim",
          "Sim",
          "Sim",
          "Sim",
          "Sim",
          "Sim",
          "Sim",
          "Sim",
          "Sim",
          "Sim",
          "Sim",
          "Sim",
          "Sim",
          "Sim",
          "Sim",
          "Sim",
          "Sim",
          "Sim",
          "Sim",
          "Sim",
          "Sim",
          "Sim",
          "Sim",
          "Sim",
          "Sim",
          "Sim",
          "Sim",
          "Sim",
          "Sim",
          "Sim",
          "Sim",
          "Sim",
          "Sim",
          "Sim",
          "Sim",
          "Sim",
          "Sim",
          "Sim",
          "Sim",
          "Sim",
          "Sim",
          "Sim",
          "Sim",
          "Sim",
          "Sim",
          "Sim",
          "Sim",
          "Sim",
          "Não",
          "Sim",
          "Sim",
          "Sim",
          "Sim",
          "Sim",
          "Sim",
          "Sim",
          "Sim",
          "Sim",
          "Sim",
          "Sim",
          "Sim",
          "Sim",
          "Sim",
          "Sim",
          "Sim",
          "Sim",
          "Não",
          "Sim",
          "Sim",
          "Sim",
          "Sim",
          "Sim",
          "Sim",
          "Sim",
          "Sim",
          "Sim",
          "Sim",
          "Sim",
          "Sim",
          "Não",
          "Sim",
          "Sim",
          "Sim",
          "Sim",
          "Sim",
          "Sim",
          "Sim",
          "Sim",
          "Sim",
          "Não",
          "Sim",
          "Sim",
          "Sim",
          "Sim",
          "Sim",
          "Sim",
          "Sim",
          "Sim",
          "Sim",
          "Sim",
          "Sim",
          "Sim",
          "Sim",
          "Não",
          "Sim",
          "Sim",
          "Sim",
          "Sim",
          "Sim",
          "Sim",
          "Sim",
          "Sim",
          "Sim",
          "Sim",
          "Sim",
          "Sim",
          "Sim",
          "Sim",
          "Não",
          "Sim",
          "Sim",
          "Sim",
          "Sim",
          "Sim",
          "Sim",
          "Sim",
          "Sim",
          "Sim",
          "Sim",
          "Sim",
          "Sim",
          "Sim",
          "Sim",
          "Sim",
          "Sim",
          "Sim",
          "Sim",
          "Sim",
          "Não",
          "Sim",
          "Sim",
          "Sim",
          "Sim",
          "Sim",
          "Sim",
          "Sim",
          "Sim",
          "Sim",
          "Sim",
          "Sim",
          "Não",
          "Sim",
          "Sim",
          "Sim",
          "Sim",
          "Sim",
          "Sim",
          "Sim",
          "Sim",
          "Sim",
          "Sim",
          "Sim",
          "Sim",
          "Sim",
          "Sim",
          "Sim",
          "Sim",
          "Sim",
          "Sim",
          "Sim",
          "Sim",
          "Sim",
          "Sim",
          "Sim",
          "Sim",
          "Sim",
          "Sim",
          "Sim",
          "Sim",
          "Sim",
          "Sim",
          "Sim",
          "Sim",
          "Sim",
          "Sim",
          "Sim",
          "Sim",
          "Sim",
          "Sim",
          "Sim",
          "Sim",
          "Sim",
          "Não",
          "Sim",
          "Sim",
          "Sim",
          "Sim",
          "Sim",
          "Sim",
          "Sim",
          "Sim",
          "Sim",
          "Sim",
          "Sim",
          "Sim",
          "Sim",
          "Sim",
          "Sim",
          "Sim",
          "Sim",
          "Sim",
          "Sim",
          "Sim",
          "Sim",
          "Não",
          "Sim",
          "Sim",
          "Sim",
          "Sim",
          "Sim",
          "Sim",
          "Sim",
          "Sim",
          "Sim",
          "Sim",
          "Sim",
          "Sim",
          "Sim",
          "Sim",
          "Sim",
          "Sim",
          "Sim",
          "Sim",
          "Sim",
          "Sim",
          "Sim",
          "Sim",
          "Sim",
          "Sim",
          "Sim",
          "Sim",
          "Sim",
          "Sim",
          "Sim",
          "Sim",
          "Sim",
          "Sim",
          "Sim",
          "Sim",
          "Sim",
          "Sim",
          "Sim",
          "Sim"
         ],
         "xaxis": "x",
         "yaxis": "y"
        }
       ],
       "layout": {
        "barmode": "relative",
        "legend": {
         "tracegroupgap": 0
        },
        "margin": {
         "t": 60
        },
        "template": {
         "data": {
          "bar": [
           {
            "error_x": {
             "color": "#2a3f5f"
            },
            "error_y": {
             "color": "#2a3f5f"
            },
            "marker": {
             "line": {
              "color": "#E5ECF6",
              "width": 0.5
             },
             "pattern": {
              "fillmode": "overlay",
              "size": 10,
              "solidity": 0.2
             }
            },
            "type": "bar"
           }
          ],
          "barpolar": [
           {
            "marker": {
             "line": {
              "color": "#E5ECF6",
              "width": 0.5
             },
             "pattern": {
              "fillmode": "overlay",
              "size": 10,
              "solidity": 0.2
             }
            },
            "type": "barpolar"
           }
          ],
          "carpet": [
           {
            "aaxis": {
             "endlinecolor": "#2a3f5f",
             "gridcolor": "white",
             "linecolor": "white",
             "minorgridcolor": "white",
             "startlinecolor": "#2a3f5f"
            },
            "baxis": {
             "endlinecolor": "#2a3f5f",
             "gridcolor": "white",
             "linecolor": "white",
             "minorgridcolor": "white",
             "startlinecolor": "#2a3f5f"
            },
            "type": "carpet"
           }
          ],
          "choropleth": [
           {
            "colorbar": {
             "outlinewidth": 0,
             "ticks": ""
            },
            "type": "choropleth"
           }
          ],
          "contour": [
           {
            "colorbar": {
             "outlinewidth": 0,
             "ticks": ""
            },
            "colorscale": [
             [
              0,
              "#0d0887"
             ],
             [
              0.1111111111111111,
              "#46039f"
             ],
             [
              0.2222222222222222,
              "#7201a8"
             ],
             [
              0.3333333333333333,
              "#9c179e"
             ],
             [
              0.4444444444444444,
              "#bd3786"
             ],
             [
              0.5555555555555556,
              "#d8576b"
             ],
             [
              0.6666666666666666,
              "#ed7953"
             ],
             [
              0.7777777777777778,
              "#fb9f3a"
             ],
             [
              0.8888888888888888,
              "#fdca26"
             ],
             [
              1,
              "#f0f921"
             ]
            ],
            "type": "contour"
           }
          ],
          "contourcarpet": [
           {
            "colorbar": {
             "outlinewidth": 0,
             "ticks": ""
            },
            "type": "contourcarpet"
           }
          ],
          "heatmap": [
           {
            "colorbar": {
             "outlinewidth": 0,
             "ticks": ""
            },
            "colorscale": [
             [
              0,
              "#0d0887"
             ],
             [
              0.1111111111111111,
              "#46039f"
             ],
             [
              0.2222222222222222,
              "#7201a8"
             ],
             [
              0.3333333333333333,
              "#9c179e"
             ],
             [
              0.4444444444444444,
              "#bd3786"
             ],
             [
              0.5555555555555556,
              "#d8576b"
             ],
             [
              0.6666666666666666,
              "#ed7953"
             ],
             [
              0.7777777777777778,
              "#fb9f3a"
             ],
             [
              0.8888888888888888,
              "#fdca26"
             ],
             [
              1,
              "#f0f921"
             ]
            ],
            "type": "heatmap"
           }
          ],
          "heatmapgl": [
           {
            "colorbar": {
             "outlinewidth": 0,
             "ticks": ""
            },
            "colorscale": [
             [
              0,
              "#0d0887"
             ],
             [
              0.1111111111111111,
              "#46039f"
             ],
             [
              0.2222222222222222,
              "#7201a8"
             ],
             [
              0.3333333333333333,
              "#9c179e"
             ],
             [
              0.4444444444444444,
              "#bd3786"
             ],
             [
              0.5555555555555556,
              "#d8576b"
             ],
             [
              0.6666666666666666,
              "#ed7953"
             ],
             [
              0.7777777777777778,
              "#fb9f3a"
             ],
             [
              0.8888888888888888,
              "#fdca26"
             ],
             [
              1,
              "#f0f921"
             ]
            ],
            "type": "heatmapgl"
           }
          ],
          "histogram": [
           {
            "marker": {
             "pattern": {
              "fillmode": "overlay",
              "size": 10,
              "solidity": 0.2
             }
            },
            "type": "histogram"
           }
          ],
          "histogram2d": [
           {
            "colorbar": {
             "outlinewidth": 0,
             "ticks": ""
            },
            "colorscale": [
             [
              0,
              "#0d0887"
             ],
             [
              0.1111111111111111,
              "#46039f"
             ],
             [
              0.2222222222222222,
              "#7201a8"
             ],
             [
              0.3333333333333333,
              "#9c179e"
             ],
             [
              0.4444444444444444,
              "#bd3786"
             ],
             [
              0.5555555555555556,
              "#d8576b"
             ],
             [
              0.6666666666666666,
              "#ed7953"
             ],
             [
              0.7777777777777778,
              "#fb9f3a"
             ],
             [
              0.8888888888888888,
              "#fdca26"
             ],
             [
              1,
              "#f0f921"
             ]
            ],
            "type": "histogram2d"
           }
          ],
          "histogram2dcontour": [
           {
            "colorbar": {
             "outlinewidth": 0,
             "ticks": ""
            },
            "colorscale": [
             [
              0,
              "#0d0887"
             ],
             [
              0.1111111111111111,
              "#46039f"
             ],
             [
              0.2222222222222222,
              "#7201a8"
             ],
             [
              0.3333333333333333,
              "#9c179e"
             ],
             [
              0.4444444444444444,
              "#bd3786"
             ],
             [
              0.5555555555555556,
              "#d8576b"
             ],
             [
              0.6666666666666666,
              "#ed7953"
             ],
             [
              0.7777777777777778,
              "#fb9f3a"
             ],
             [
              0.8888888888888888,
              "#fdca26"
             ],
             [
              1,
              "#f0f921"
             ]
            ],
            "type": "histogram2dcontour"
           }
          ],
          "mesh3d": [
           {
            "colorbar": {
             "outlinewidth": 0,
             "ticks": ""
            },
            "type": "mesh3d"
           }
          ],
          "parcoords": [
           {
            "line": {
             "colorbar": {
              "outlinewidth": 0,
              "ticks": ""
             }
            },
            "type": "parcoords"
           }
          ],
          "pie": [
           {
            "automargin": true,
            "type": "pie"
           }
          ],
          "scatter": [
           {
            "fillpattern": {
             "fillmode": "overlay",
             "size": 10,
             "solidity": 0.2
            },
            "type": "scatter"
           }
          ],
          "scatter3d": [
           {
            "line": {
             "colorbar": {
              "outlinewidth": 0,
              "ticks": ""
             }
            },
            "marker": {
             "colorbar": {
              "outlinewidth": 0,
              "ticks": ""
             }
            },
            "type": "scatter3d"
           }
          ],
          "scattercarpet": [
           {
            "marker": {
             "colorbar": {
              "outlinewidth": 0,
              "ticks": ""
             }
            },
            "type": "scattercarpet"
           }
          ],
          "scattergeo": [
           {
            "marker": {
             "colorbar": {
              "outlinewidth": 0,
              "ticks": ""
             }
            },
            "type": "scattergeo"
           }
          ],
          "scattergl": [
           {
            "marker": {
             "colorbar": {
              "outlinewidth": 0,
              "ticks": ""
             }
            },
            "type": "scattergl"
           }
          ],
          "scattermapbox": [
           {
            "marker": {
             "colorbar": {
              "outlinewidth": 0,
              "ticks": ""
             }
            },
            "type": "scattermapbox"
           }
          ],
          "scatterpolar": [
           {
            "marker": {
             "colorbar": {
              "outlinewidth": 0,
              "ticks": ""
             }
            },
            "type": "scatterpolar"
           }
          ],
          "scatterpolargl": [
           {
            "marker": {
             "colorbar": {
              "outlinewidth": 0,
              "ticks": ""
             }
            },
            "type": "scatterpolargl"
           }
          ],
          "scatterternary": [
           {
            "marker": {
             "colorbar": {
              "outlinewidth": 0,
              "ticks": ""
             }
            },
            "type": "scatterternary"
           }
          ],
          "surface": [
           {
            "colorbar": {
             "outlinewidth": 0,
             "ticks": ""
            },
            "colorscale": [
             [
              0,
              "#0d0887"
             ],
             [
              0.1111111111111111,
              "#46039f"
             ],
             [
              0.2222222222222222,
              "#7201a8"
             ],
             [
              0.3333333333333333,
              "#9c179e"
             ],
             [
              0.4444444444444444,
              "#bd3786"
             ],
             [
              0.5555555555555556,
              "#d8576b"
             ],
             [
              0.6666666666666666,
              "#ed7953"
             ],
             [
              0.7777777777777778,
              "#fb9f3a"
             ],
             [
              0.8888888888888888,
              "#fdca26"
             ],
             [
              1,
              "#f0f921"
             ]
            ],
            "type": "surface"
           }
          ],
          "table": [
           {
            "cells": {
             "fill": {
              "color": "#EBF0F8"
             },
             "line": {
              "color": "white"
             }
            },
            "header": {
             "fill": {
              "color": "#C8D4E3"
             },
             "line": {
              "color": "white"
             }
            },
            "type": "table"
           }
          ]
         },
         "layout": {
          "annotationdefaults": {
           "arrowcolor": "#2a3f5f",
           "arrowhead": 0,
           "arrowwidth": 1
          },
          "autotypenumbers": "strict",
          "coloraxis": {
           "colorbar": {
            "outlinewidth": 0,
            "ticks": ""
           }
          },
          "colorscale": {
           "diverging": [
            [
             0,
             "#8e0152"
            ],
            [
             0.1,
             "#c51b7d"
            ],
            [
             0.2,
             "#de77ae"
            ],
            [
             0.3,
             "#f1b6da"
            ],
            [
             0.4,
             "#fde0ef"
            ],
            [
             0.5,
             "#f7f7f7"
            ],
            [
             0.6,
             "#e6f5d0"
            ],
            [
             0.7,
             "#b8e186"
            ],
            [
             0.8,
             "#7fbc41"
            ],
            [
             0.9,
             "#4d9221"
            ],
            [
             1,
             "#276419"
            ]
           ],
           "sequential": [
            [
             0,
             "#0d0887"
            ],
            [
             0.1111111111111111,
             "#46039f"
            ],
            [
             0.2222222222222222,
             "#7201a8"
            ],
            [
             0.3333333333333333,
             "#9c179e"
            ],
            [
             0.4444444444444444,
             "#bd3786"
            ],
            [
             0.5555555555555556,
             "#d8576b"
            ],
            [
             0.6666666666666666,
             "#ed7953"
            ],
            [
             0.7777777777777778,
             "#fb9f3a"
            ],
            [
             0.8888888888888888,
             "#fdca26"
            ],
            [
             1,
             "#f0f921"
            ]
           ],
           "sequentialminus": [
            [
             0,
             "#0d0887"
            ],
            [
             0.1111111111111111,
             "#46039f"
            ],
            [
             0.2222222222222222,
             "#7201a8"
            ],
            [
             0.3333333333333333,
             "#9c179e"
            ],
            [
             0.4444444444444444,
             "#bd3786"
            ],
            [
             0.5555555555555556,
             "#d8576b"
            ],
            [
             0.6666666666666666,
             "#ed7953"
            ],
            [
             0.7777777777777778,
             "#fb9f3a"
            ],
            [
             0.8888888888888888,
             "#fdca26"
            ],
            [
             1,
             "#f0f921"
            ]
           ]
          },
          "colorway": [
           "#636efa",
           "#EF553B",
           "#00cc96",
           "#ab63fa",
           "#FFA15A",
           "#19d3f3",
           "#FF6692",
           "#B6E880",
           "#FF97FF",
           "#FECB52"
          ],
          "font": {
           "color": "#2a3f5f"
          },
          "geo": {
           "bgcolor": "white",
           "lakecolor": "white",
           "landcolor": "#E5ECF6",
           "showlakes": true,
           "showland": true,
           "subunitcolor": "white"
          },
          "hoverlabel": {
           "align": "left"
          },
          "hovermode": "closest",
          "mapbox": {
           "style": "light"
          },
          "paper_bgcolor": "white",
          "plot_bgcolor": "#E5ECF6",
          "polar": {
           "angularaxis": {
            "gridcolor": "white",
            "linecolor": "white",
            "ticks": ""
           },
           "bgcolor": "#E5ECF6",
           "radialaxis": {
            "gridcolor": "white",
            "linecolor": "white",
            "ticks": ""
           }
          },
          "scene": {
           "xaxis": {
            "backgroundcolor": "#E5ECF6",
            "gridcolor": "white",
            "gridwidth": 2,
            "linecolor": "white",
            "showbackground": true,
            "ticks": "",
            "zerolinecolor": "white"
           },
           "yaxis": {
            "backgroundcolor": "#E5ECF6",
            "gridcolor": "white",
            "gridwidth": 2,
            "linecolor": "white",
            "showbackground": true,
            "ticks": "",
            "zerolinecolor": "white"
           },
           "zaxis": {
            "backgroundcolor": "#E5ECF6",
            "gridcolor": "white",
            "gridwidth": 2,
            "linecolor": "white",
            "showbackground": true,
            "ticks": "",
            "zerolinecolor": "white"
           }
          },
          "shapedefaults": {
           "line": {
            "color": "#2a3f5f"
           }
          },
          "ternary": {
           "aaxis": {
            "gridcolor": "white",
            "linecolor": "white",
            "ticks": ""
           },
           "baxis": {
            "gridcolor": "white",
            "linecolor": "white",
            "ticks": ""
           },
           "bgcolor": "#E5ECF6",
           "caxis": {
            "gridcolor": "white",
            "linecolor": "white",
            "ticks": ""
           }
          },
          "title": {
           "x": 0.05
          },
          "xaxis": {
           "automargin": true,
           "gridcolor": "white",
           "linecolor": "white",
           "ticks": "",
           "title": {
            "standoff": 15
           },
           "zerolinecolor": "white",
           "zerolinewidth": 2
          },
          "yaxis": {
           "automargin": true,
           "gridcolor": "white",
           "linecolor": "white",
           "ticks": "",
           "title": {
            "standoff": 15
           },
           "zerolinecolor": "white",
           "zerolinewidth": 2
          }
         }
        },
        "xaxis": {
         "anchor": "y",
         "domain": [
          0,
          1
         ],
         "title": {
          "text": "Ativo"
         }
        },
        "yaxis": {
         "anchor": "x",
         "domain": [
          0,
          1
         ],
         "title": {
          "text": "count"
         }
        }
       }
      },
      "text/html": [
       "<div>                            <div id=\"4e2d3a8f-7455-4fd1-bb07-fd5a38292f01\" class=\"plotly-graph-div\" style=\"height:525px; width:100%;\"></div>            <script type=\"text/javascript\">                require([\"plotly\"], function(Plotly) {                    window.PLOTLYENV=window.PLOTLYENV || {};                                    if (document.getElementById(\"4e2d3a8f-7455-4fd1-bb07-fd5a38292f01\")) {                    Plotly.newPlot(                        \"4e2d3a8f-7455-4fd1-bb07-fd5a38292f01\",                        [{\"alignmentgroup\":\"True\",\"bingroup\":\"x\",\"hovertemplate\":\"Ativo=%{x}\\u003cbr\\u003ecount=%{y}\\u003cextra\\u003e\\u003c\\u002fextra\\u003e\",\"legendgroup\":\"\",\"marker\":{\"color\":\"#636efa\",\"pattern\":{\"shape\":\"\"}},\"name\":\"\",\"offsetgroup\":\"\",\"orientation\":\"v\",\"showlegend\":false,\"texttemplate\":\"%{value}\",\"x\":[\"Sim\",\"N\\u00e3o\",\"Sim\",\"Sim\",\"Sim\",\"Sim\",\"Sim\",\"Sim\",\"Sim\",\"Sim\",\"N\\u00e3o\",\"Sim\",\"Sim\",\"Sim\",\"Sim\",\"Sim\",\"Sim\",\"Sim\",\"Sim\",\"Sim\",\"Sim\",\"Sim\",\"Sim\",\"Sim\",\"Sim\",\"Sim\",\"Sim\",\"Sim\",\"Sim\",\"Sim\",\"Sim\",\"Sim\",\"Sim\",\"Sim\",\"Sim\",\"Sim\",\"Sim\",\"Sim\",\"Sim\",\"Sim\",\"Sim\",\"Sim\",\"Sim\",\"Sim\",\"Sim\",\"Sim\",\"Sim\",\"Sim\",\"N\\u00e3o\",\"Sim\",\"Sim\",\"Sim\",\"Sim\",\"N\\u00e3o\",\"Sim\",\"Sim\",\"Sim\",\"Sim\",\"Sim\",\"Sim\",\"Sim\",\"N\\u00e3o\",\"Sim\",\"Sim\",\"Sim\",\"Sim\",\"Sim\",\"N\\u00e3o\",\"Sim\",\"Sim\",\"Sim\",\"Sim\",\"Sim\",\"Sim\",\"Sim\",\"Sim\",\"Sim\",\"Sim\",\"Sim\",\"Sim\",\"Sim\",\"Sim\",\"Sim\",\"Sim\",\"Sim\",\"N\\u00e3o\",\"Sim\",\"Sim\",\"Sim\",\"Sim\",\"Sim\",\"Sim\",\"Sim\",\"Sim\",\"Sim\",\"Sim\",\"Sim\",\"N\\u00e3o\",\"Sim\",\"Sim\",\"Sim\",\"Sim\",\"Sim\",\"Sim\",\"Sim\",\"Sim\",\"Sim\",\"Sim\",\"Sim\",\"Sim\",\"Sim\",\"Sim\",\"Sim\",\"Sim\",\"Sim\",\"Sim\",\"Sim\",\"Sim\",\"Sim\",\"Sim\",\"Sim\",\"Sim\",\"Sim\",\"Sim\",\"Sim\",\"Sim\",\"Sim\",\"Sim\",\"Sim\",\"Sim\",\"Sim\",\"Sim\",\"Sim\",\"Sim\",\"Sim\",\"Sim\",\"Sim\",\"Sim\",\"Sim\",\"Sim\",\"Sim\",\"Sim\",\"Sim\",\"Sim\",\"Sim\",\"Sim\",\"Sim\",\"Sim\",\"Sim\",\"Sim\",\"Sim\",\"Sim\",\"Sim\",\"Sim\",\"Sim\",\"Sim\",\"Sim\",\"Sim\",\"Sim\",\"Sim\",\"Sim\",\"Sim\",\"Sim\",\"N\\u00e3o\",\"Sim\",\"Sim\",\"Sim\",\"Sim\",\"Sim\",\"Sim\",\"Sim\",\"Sim\",\"Sim\",\"Sim\",\"Sim\",\"Sim\",\"Sim\",\"Sim\",\"Sim\",\"Sim\",\"Sim\",\"N\\u00e3o\",\"Sim\",\"Sim\",\"Sim\",\"Sim\",\"Sim\",\"Sim\",\"Sim\",\"Sim\",\"Sim\",\"Sim\",\"Sim\",\"Sim\",\"N\\u00e3o\",\"Sim\",\"Sim\",\"Sim\",\"Sim\",\"Sim\",\"Sim\",\"Sim\",\"Sim\",\"Sim\",\"N\\u00e3o\",\"Sim\",\"Sim\",\"Sim\",\"Sim\",\"Sim\",\"Sim\",\"Sim\",\"Sim\",\"Sim\",\"Sim\",\"Sim\",\"Sim\",\"Sim\",\"N\\u00e3o\",\"Sim\",\"Sim\",\"Sim\",\"Sim\",\"Sim\",\"Sim\",\"Sim\",\"Sim\",\"Sim\",\"Sim\",\"Sim\",\"Sim\",\"Sim\",\"Sim\",\"N\\u00e3o\",\"Sim\",\"Sim\",\"Sim\",\"Sim\",\"Sim\",\"Sim\",\"Sim\",\"Sim\",\"Sim\",\"Sim\",\"Sim\",\"Sim\",\"Sim\",\"Sim\",\"Sim\",\"Sim\",\"Sim\",\"Sim\",\"Sim\",\"N\\u00e3o\",\"Sim\",\"Sim\",\"Sim\",\"Sim\",\"Sim\",\"Sim\",\"Sim\",\"Sim\",\"Sim\",\"Sim\",\"Sim\",\"N\\u00e3o\",\"Sim\",\"Sim\",\"Sim\",\"Sim\",\"Sim\",\"Sim\",\"Sim\",\"Sim\",\"Sim\",\"Sim\",\"Sim\",\"Sim\",\"Sim\",\"Sim\",\"Sim\",\"Sim\",\"Sim\",\"Sim\",\"Sim\",\"Sim\",\"Sim\",\"Sim\",\"Sim\",\"Sim\",\"Sim\",\"Sim\",\"Sim\",\"Sim\",\"Sim\",\"Sim\",\"Sim\",\"Sim\",\"Sim\",\"Sim\",\"Sim\",\"Sim\",\"Sim\",\"Sim\",\"Sim\",\"Sim\",\"Sim\",\"N\\u00e3o\",\"Sim\",\"Sim\",\"Sim\",\"Sim\",\"Sim\",\"Sim\",\"Sim\",\"Sim\",\"Sim\",\"Sim\",\"Sim\",\"Sim\",\"Sim\",\"Sim\",\"Sim\",\"Sim\",\"Sim\",\"Sim\",\"Sim\",\"Sim\",\"Sim\",\"N\\u00e3o\",\"Sim\",\"Sim\",\"Sim\",\"Sim\",\"Sim\",\"Sim\",\"Sim\",\"Sim\",\"Sim\",\"Sim\",\"Sim\",\"Sim\",\"Sim\",\"Sim\",\"Sim\",\"Sim\",\"Sim\",\"Sim\",\"Sim\",\"Sim\",\"Sim\",\"Sim\",\"Sim\",\"Sim\",\"Sim\",\"Sim\",\"Sim\",\"Sim\",\"Sim\",\"Sim\",\"Sim\",\"Sim\",\"Sim\",\"Sim\",\"Sim\",\"Sim\",\"Sim\",\"Sim\"],\"xaxis\":\"x\",\"yaxis\":\"y\",\"type\":\"histogram\"}],                        {\"template\":{\"data\":{\"histogram2dcontour\":[{\"type\":\"histogram2dcontour\",\"colorbar\":{\"outlinewidth\":0,\"ticks\":\"\"},\"colorscale\":[[0.0,\"#0d0887\"],[0.1111111111111111,\"#46039f\"],[0.2222222222222222,\"#7201a8\"],[0.3333333333333333,\"#9c179e\"],[0.4444444444444444,\"#bd3786\"],[0.5555555555555556,\"#d8576b\"],[0.6666666666666666,\"#ed7953\"],[0.7777777777777778,\"#fb9f3a\"],[0.8888888888888888,\"#fdca26\"],[1.0,\"#f0f921\"]]}],\"choropleth\":[{\"type\":\"choropleth\",\"colorbar\":{\"outlinewidth\":0,\"ticks\":\"\"}}],\"histogram2d\":[{\"type\":\"histogram2d\",\"colorbar\":{\"outlinewidth\":0,\"ticks\":\"\"},\"colorscale\":[[0.0,\"#0d0887\"],[0.1111111111111111,\"#46039f\"],[0.2222222222222222,\"#7201a8\"],[0.3333333333333333,\"#9c179e\"],[0.4444444444444444,\"#bd3786\"],[0.5555555555555556,\"#d8576b\"],[0.6666666666666666,\"#ed7953\"],[0.7777777777777778,\"#fb9f3a\"],[0.8888888888888888,\"#fdca26\"],[1.0,\"#f0f921\"]]}],\"heatmap\":[{\"type\":\"heatmap\",\"colorbar\":{\"outlinewidth\":0,\"ticks\":\"\"},\"colorscale\":[[0.0,\"#0d0887\"],[0.1111111111111111,\"#46039f\"],[0.2222222222222222,\"#7201a8\"],[0.3333333333333333,\"#9c179e\"],[0.4444444444444444,\"#bd3786\"],[0.5555555555555556,\"#d8576b\"],[0.6666666666666666,\"#ed7953\"],[0.7777777777777778,\"#fb9f3a\"],[0.8888888888888888,\"#fdca26\"],[1.0,\"#f0f921\"]]}],\"heatmapgl\":[{\"type\":\"heatmapgl\",\"colorbar\":{\"outlinewidth\":0,\"ticks\":\"\"},\"colorscale\":[[0.0,\"#0d0887\"],[0.1111111111111111,\"#46039f\"],[0.2222222222222222,\"#7201a8\"],[0.3333333333333333,\"#9c179e\"],[0.4444444444444444,\"#bd3786\"],[0.5555555555555556,\"#d8576b\"],[0.6666666666666666,\"#ed7953\"],[0.7777777777777778,\"#fb9f3a\"],[0.8888888888888888,\"#fdca26\"],[1.0,\"#f0f921\"]]}],\"contourcarpet\":[{\"type\":\"contourcarpet\",\"colorbar\":{\"outlinewidth\":0,\"ticks\":\"\"}}],\"contour\":[{\"type\":\"contour\",\"colorbar\":{\"outlinewidth\":0,\"ticks\":\"\"},\"colorscale\":[[0.0,\"#0d0887\"],[0.1111111111111111,\"#46039f\"],[0.2222222222222222,\"#7201a8\"],[0.3333333333333333,\"#9c179e\"],[0.4444444444444444,\"#bd3786\"],[0.5555555555555556,\"#d8576b\"],[0.6666666666666666,\"#ed7953\"],[0.7777777777777778,\"#fb9f3a\"],[0.8888888888888888,\"#fdca26\"],[1.0,\"#f0f921\"]]}],\"surface\":[{\"type\":\"surface\",\"colorbar\":{\"outlinewidth\":0,\"ticks\":\"\"},\"colorscale\":[[0.0,\"#0d0887\"],[0.1111111111111111,\"#46039f\"],[0.2222222222222222,\"#7201a8\"],[0.3333333333333333,\"#9c179e\"],[0.4444444444444444,\"#bd3786\"],[0.5555555555555556,\"#d8576b\"],[0.6666666666666666,\"#ed7953\"],[0.7777777777777778,\"#fb9f3a\"],[0.8888888888888888,\"#fdca26\"],[1.0,\"#f0f921\"]]}],\"mesh3d\":[{\"type\":\"mesh3d\",\"colorbar\":{\"outlinewidth\":0,\"ticks\":\"\"}}],\"scatter\":[{\"fillpattern\":{\"fillmode\":\"overlay\",\"size\":10,\"solidity\":0.2},\"type\":\"scatter\"}],\"parcoords\":[{\"type\":\"parcoords\",\"line\":{\"colorbar\":{\"outlinewidth\":0,\"ticks\":\"\"}}}],\"scatterpolargl\":[{\"type\":\"scatterpolargl\",\"marker\":{\"colorbar\":{\"outlinewidth\":0,\"ticks\":\"\"}}}],\"bar\":[{\"error_x\":{\"color\":\"#2a3f5f\"},\"error_y\":{\"color\":\"#2a3f5f\"},\"marker\":{\"line\":{\"color\":\"#E5ECF6\",\"width\":0.5},\"pattern\":{\"fillmode\":\"overlay\",\"size\":10,\"solidity\":0.2}},\"type\":\"bar\"}],\"scattergeo\":[{\"type\":\"scattergeo\",\"marker\":{\"colorbar\":{\"outlinewidth\":0,\"ticks\":\"\"}}}],\"scatterpolar\":[{\"type\":\"scatterpolar\",\"marker\":{\"colorbar\":{\"outlinewidth\":0,\"ticks\":\"\"}}}],\"histogram\":[{\"marker\":{\"pattern\":{\"fillmode\":\"overlay\",\"size\":10,\"solidity\":0.2}},\"type\":\"histogram\"}],\"scattergl\":[{\"type\":\"scattergl\",\"marker\":{\"colorbar\":{\"outlinewidth\":0,\"ticks\":\"\"}}}],\"scatter3d\":[{\"type\":\"scatter3d\",\"line\":{\"colorbar\":{\"outlinewidth\":0,\"ticks\":\"\"}},\"marker\":{\"colorbar\":{\"outlinewidth\":0,\"ticks\":\"\"}}}],\"scattermapbox\":[{\"type\":\"scattermapbox\",\"marker\":{\"colorbar\":{\"outlinewidth\":0,\"ticks\":\"\"}}}],\"scatterternary\":[{\"type\":\"scatterternary\",\"marker\":{\"colorbar\":{\"outlinewidth\":0,\"ticks\":\"\"}}}],\"scattercarpet\":[{\"type\":\"scattercarpet\",\"marker\":{\"colorbar\":{\"outlinewidth\":0,\"ticks\":\"\"}}}],\"carpet\":[{\"aaxis\":{\"endlinecolor\":\"#2a3f5f\",\"gridcolor\":\"white\",\"linecolor\":\"white\",\"minorgridcolor\":\"white\",\"startlinecolor\":\"#2a3f5f\"},\"baxis\":{\"endlinecolor\":\"#2a3f5f\",\"gridcolor\":\"white\",\"linecolor\":\"white\",\"minorgridcolor\":\"white\",\"startlinecolor\":\"#2a3f5f\"},\"type\":\"carpet\"}],\"table\":[{\"cells\":{\"fill\":{\"color\":\"#EBF0F8\"},\"line\":{\"color\":\"white\"}},\"header\":{\"fill\":{\"color\":\"#C8D4E3\"},\"line\":{\"color\":\"white\"}},\"type\":\"table\"}],\"barpolar\":[{\"marker\":{\"line\":{\"color\":\"#E5ECF6\",\"width\":0.5},\"pattern\":{\"fillmode\":\"overlay\",\"size\":10,\"solidity\":0.2}},\"type\":\"barpolar\"}],\"pie\":[{\"automargin\":true,\"type\":\"pie\"}]},\"layout\":{\"autotypenumbers\":\"strict\",\"colorway\":[\"#636efa\",\"#EF553B\",\"#00cc96\",\"#ab63fa\",\"#FFA15A\",\"#19d3f3\",\"#FF6692\",\"#B6E880\",\"#FF97FF\",\"#FECB52\"],\"font\":{\"color\":\"#2a3f5f\"},\"hovermode\":\"closest\",\"hoverlabel\":{\"align\":\"left\"},\"paper_bgcolor\":\"white\",\"plot_bgcolor\":\"#E5ECF6\",\"polar\":{\"bgcolor\":\"#E5ECF6\",\"angularaxis\":{\"gridcolor\":\"white\",\"linecolor\":\"white\",\"ticks\":\"\"},\"radialaxis\":{\"gridcolor\":\"white\",\"linecolor\":\"white\",\"ticks\":\"\"}},\"ternary\":{\"bgcolor\":\"#E5ECF6\",\"aaxis\":{\"gridcolor\":\"white\",\"linecolor\":\"white\",\"ticks\":\"\"},\"baxis\":{\"gridcolor\":\"white\",\"linecolor\":\"white\",\"ticks\":\"\"},\"caxis\":{\"gridcolor\":\"white\",\"linecolor\":\"white\",\"ticks\":\"\"}},\"coloraxis\":{\"colorbar\":{\"outlinewidth\":0,\"ticks\":\"\"}},\"colorscale\":{\"sequential\":[[0.0,\"#0d0887\"],[0.1111111111111111,\"#46039f\"],[0.2222222222222222,\"#7201a8\"],[0.3333333333333333,\"#9c179e\"],[0.4444444444444444,\"#bd3786\"],[0.5555555555555556,\"#d8576b\"],[0.6666666666666666,\"#ed7953\"],[0.7777777777777778,\"#fb9f3a\"],[0.8888888888888888,\"#fdca26\"],[1.0,\"#f0f921\"]],\"sequentialminus\":[[0.0,\"#0d0887\"],[0.1111111111111111,\"#46039f\"],[0.2222222222222222,\"#7201a8\"],[0.3333333333333333,\"#9c179e\"],[0.4444444444444444,\"#bd3786\"],[0.5555555555555556,\"#d8576b\"],[0.6666666666666666,\"#ed7953\"],[0.7777777777777778,\"#fb9f3a\"],[0.8888888888888888,\"#fdca26\"],[1.0,\"#f0f921\"]],\"diverging\":[[0,\"#8e0152\"],[0.1,\"#c51b7d\"],[0.2,\"#de77ae\"],[0.3,\"#f1b6da\"],[0.4,\"#fde0ef\"],[0.5,\"#f7f7f7\"],[0.6,\"#e6f5d0\"],[0.7,\"#b8e186\"],[0.8,\"#7fbc41\"],[0.9,\"#4d9221\"],[1,\"#276419\"]]},\"xaxis\":{\"gridcolor\":\"white\",\"linecolor\":\"white\",\"ticks\":\"\",\"title\":{\"standoff\":15},\"zerolinecolor\":\"white\",\"automargin\":true,\"zerolinewidth\":2},\"yaxis\":{\"gridcolor\":\"white\",\"linecolor\":\"white\",\"ticks\":\"\",\"title\":{\"standoff\":15},\"zerolinecolor\":\"white\",\"automargin\":true,\"zerolinewidth\":2},\"scene\":{\"xaxis\":{\"backgroundcolor\":\"#E5ECF6\",\"gridcolor\":\"white\",\"linecolor\":\"white\",\"showbackground\":true,\"ticks\":\"\",\"zerolinecolor\":\"white\",\"gridwidth\":2},\"yaxis\":{\"backgroundcolor\":\"#E5ECF6\",\"gridcolor\":\"white\",\"linecolor\":\"white\",\"showbackground\":true,\"ticks\":\"\",\"zerolinecolor\":\"white\",\"gridwidth\":2},\"zaxis\":{\"backgroundcolor\":\"#E5ECF6\",\"gridcolor\":\"white\",\"linecolor\":\"white\",\"showbackground\":true,\"ticks\":\"\",\"zerolinecolor\":\"white\",\"gridwidth\":2}},\"shapedefaults\":{\"line\":{\"color\":\"#2a3f5f\"}},\"annotationdefaults\":{\"arrowcolor\":\"#2a3f5f\",\"arrowhead\":0,\"arrowwidth\":1},\"geo\":{\"bgcolor\":\"white\",\"landcolor\":\"#E5ECF6\",\"subunitcolor\":\"white\",\"showland\":true,\"showlakes\":true,\"lakecolor\":\"white\"},\"title\":{\"x\":0.05},\"mapbox\":{\"style\":\"light\"}}},\"xaxis\":{\"anchor\":\"y\",\"domain\":[0.0,1.0],\"title\":{\"text\":\"Ativo\"}},\"yaxis\":{\"anchor\":\"x\",\"domain\":[0.0,1.0],\"title\":{\"text\":\"count\"}},\"legend\":{\"tracegroupgap\":0},\"margin\":{\"t\":60},\"barmode\":\"relative\"},                        {\"responsive\": true}                    ).then(function(){\n",
       "                            \n",
       "var gd = document.getElementById('4e2d3a8f-7455-4fd1-bb07-fd5a38292f01');\n",
       "var x = new MutationObserver(function (mutations, observer) {{\n",
       "        var display = window.getComputedStyle(gd).display;\n",
       "        if (!display || display === 'none') {{\n",
       "            console.log([gd, 'removed!']);\n",
       "            Plotly.purge(gd);\n",
       "            observer.disconnect();\n",
       "        }}\n",
       "}});\n",
       "\n",
       "// Listen for the removal of the full notebook cells\n",
       "var notebookContainer = gd.closest('#notebook-container');\n",
       "if (notebookContainer) {{\n",
       "    x.observe(notebookContainer, {childList: true});\n",
       "}}\n",
       "\n",
       "// Listen for the clearing of the current output cell\n",
       "var outputEl = gd.closest('.output');\n",
       "if (outputEl) {{\n",
       "    x.observe(outputEl, {childList: true});\n",
       "}}\n",
       "\n",
       "                        })                };                });            </script>        </div>"
      ]
     },
     "metadata": {},
     "output_type": "display_data"
    }
   ],
   "source": [
    "import plotly.express as px\n",
    "\n",
    "px.histogram(dados,x='Ativo',text_auto=True)"
   ]
  },
  {
   "cell_type": "code",
   "execution_count": 116,
   "metadata": {},
   "outputs": [
    {
     "data": {
      "application/vnd.plotly.v1+json": {
       "config": {
        "plotlyServerURL": "https://plot.ly"
       },
       "data": [
        {
         "alignmentgroup": "True",
         "bingroup": "x",
         "hovertemplate": "Ativo=Sim<br>Bairro=%{x}<br>count=%{y}<extra></extra>",
         "legendgroup": "Sim",
         "marker": {
          "color": "#636efa",
          "pattern": {
           "shape": ""
          }
         },
         "name": "Sim",
         "offsetgroup": "Sim",
         "orientation": "v",
         "showlegend": true,
         "texttemplate": "%{value}",
         "type": "histogram",
         "x": [
          "Gamboa",
          "Centro",
          "Santo Cristo",
          "Gamboa",
          "Centro",
          "Gamboa",
          "Gamboa",
          "Praça da Bandeira",
          "Centro",
          "Gamboa",
          "Gamboa",
          "Gamboa",
          "Santo Cristo",
          "Santo Cristo",
          "Santo Cristo",
          "Santo Cristo",
          "Gamboa",
          "Santo Cristo",
          "Gamboa",
          "Gamboa",
          "Centro",
          "Gamboa",
          "Centro",
          "Gamboa",
          "Gamboa",
          "Gamboa",
          "Gamboa",
          "Santo Cristo",
          "Santo Cristo",
          "Centro",
          "Santo Cristo",
          "Gamboa",
          "Santo Cristo",
          "Santo Cristo",
          "Santo Cristo",
          "Gamboa",
          "Santo Cristo",
          "Centro",
          "Santo Cristo",
          "Santo Cristo",
          "Santo Cristo",
          "Gamboa",
          "Gamboa",
          "Centro",
          "Gamboa",
          "Gamboa",
          "Santo Cristo",
          "Gamboa",
          "Santo Cristo",
          "Santo Cristo",
          "Gamboa",
          "Gamboa",
          "Gamboa",
          "Gamboa",
          "Gamboa",
          "Centro",
          "Gamboa",
          "Santo Cristo",
          "Gamboa",
          "Centro",
          "Gamboa",
          "Santo Cristo",
          "Gamboa",
          "Santo Cristo",
          "Santo Cristo",
          "Gamboa",
          "Santo Cristo",
          "Centro",
          "Santo Cristo",
          "Gamboa",
          "Gamboa",
          "Gamboa",
          "Santo Cristo",
          "Gamboa",
          "Santo Cristo",
          "Santo Cristo",
          "Gamboa",
          "Santo Cristo",
          "Santo Cristo",
          "Santo Cristo",
          "Gamboa",
          "Santo Cristo",
          "Gamboa",
          "Gamboa",
          "Santo Cristo",
          "Gamboa",
          "Gamboa",
          "Gamboa",
          "Santo Cristo",
          "Santo Cristo",
          "Santo Cristo",
          "Gamboa",
          "Gamboa",
          "Gamboa",
          "Gamboa",
          "Saúde",
          "Santo Cristo",
          "Santo Cristo",
          "Centro",
          "Santo Cristo",
          "Santo Cristo",
          "Gamboa",
          "Santo Cristo",
          "Centro",
          "Santo Cristo",
          "Gamboa",
          "Gamboa",
          "Santo Cristo",
          "Santo Cristo",
          "Gamboa",
          "Gamboa",
          "Centro",
          "Gamboa",
          "Santo Cristo",
          "Gamboa",
          "Centro",
          "Gamboa",
          "Gamboa",
          "Gamboa",
          "Santo Cristo",
          "Centro",
          "Gamboa",
          "Santo Cristo",
          "Gamboa",
          "Gamboa",
          "Gamboa",
          "Gamboa",
          "Gamboa",
          "Santo Cristo",
          "Santo Cristo",
          "Santo Cristo",
          "Santo Cristo",
          "Santo Cristo",
          "Gamboa",
          "Gamboa",
          "Santo Cristo",
          "Gamboa",
          "Santo Cristo",
          "Gamboa",
          "Santo Cristo",
          "Gamboa",
          "Gamboa",
          "Santo Cristo",
          "Santo Cristo",
          "Gamboa",
          "Gamboa",
          "Gamboa",
          "Santo Cristo",
          "Gamboa",
          "Gamboa",
          "Gamboa",
          "Gamboa",
          "Centro",
          "Gamboa",
          "Gamboa",
          "Santo Cristo",
          "Centro",
          "Santo Cristo",
          "Gamboa",
          "Centro",
          "Gamboa",
          "Gamboa",
          "Centro",
          "Gamboa",
          "Gamboa",
          "Santo Cristo",
          "Santo Cristo",
          "Gamboa",
          "Santo Cristo",
          "Gamboa",
          "Gamboa",
          "Gamboa",
          "Gamboa",
          "Centro",
          "Santo Cristo",
          "Centro",
          "Gamboa",
          "Gamboa",
          "Gamboa",
          "Gamboa",
          "Santo Cristo",
          "Centro",
          "Gamboa",
          "Gamboa",
          "Gamboa",
          "Gamboa",
          "Gamboa",
          "Gamboa",
          "Centro",
          "Santo Cristo",
          "Santo Cristo",
          "Santo Cristo",
          "Centro",
          "Centro",
          "Gamboa",
          "Gamboa",
          "Santo Cristo",
          "Gamboa",
          "Santo Cristo",
          "Santo Cristo",
          "Gamboa",
          "Gamboa",
          "Gamboa",
          "Centro",
          "Gamboa",
          "Gamboa",
          "Gamboa",
          "Gamboa",
          "Centro",
          "Santo Cristo",
          "Gamboa",
          "Santo Cristo",
          "Santo Cristo",
          "Gamboa",
          "Santo Cristo",
          "Santo Cristo",
          "Gamboa",
          "Centro",
          "Gamboa",
          "Gamboa",
          "Santo Cristo",
          "Santo Cristo",
          "Centro",
          "Gamboa",
          "Santo Cristo",
          "Santo Cristo",
          "Gamboa",
          "Gamboa",
          "Santo Cristo",
          "Santo Cristo",
          "Centro",
          "Gamboa",
          "Gamboa",
          "Santo Cristo",
          "Gamboa",
          "Centro",
          "Gamboa",
          "Gamboa",
          "Centro",
          "Santo Cristo",
          "Gamboa",
          "Gamboa",
          "Gamboa",
          "Gamboa",
          "Santo Cristo",
          "Gamboa",
          "Gamboa",
          "Centro",
          "Centro",
          "Gamboa",
          "Gamboa",
          "Gamboa",
          "Santo Cristo",
          "Centro",
          "Centro",
          "Santo Cristo",
          "Centro",
          "Gamboa",
          "Santo Cristo",
          "Santo Cristo",
          "Gamboa",
          "Gamboa",
          "Gamboa",
          "Gamboa",
          "Gamboa",
          "Santo Cristo",
          "Gamboa",
          "Gamboa",
          "Centro",
          "Centro",
          "Gamboa",
          "Gamboa",
          "Gamboa",
          "Gamboa",
          "Centro",
          "Gamboa",
          "Gamboa",
          "Gamboa",
          "Santo Cristo",
          "Centro",
          "Centro",
          "Gamboa",
          "Santo Cristo",
          "Santo Cristo",
          "Santo Cristo",
          "Santo Cristo",
          "Gamboa",
          "Santo Cristo",
          "Gamboa",
          "Centro",
          "Centro",
          "Gamboa",
          "Santo Cristo",
          "Santo Cristo",
          "Centro",
          "Gamboa",
          "Gamboa",
          "Gamboa",
          "Gamboa",
          "Santo Cristo",
          "Centro",
          "Cidade Nova",
          "Santo Cristo",
          "Gamboa",
          "Gamboa",
          "Gamboa",
          "Centro",
          "Santo Cristo",
          "Gamboa",
          "Gamboa",
          "Centro",
          "Gamboa",
          "Gamboa",
          "Gamboa",
          "Centro",
          "Santo Cristo",
          "Centro",
          "Gamboa",
          "Santo Cristo",
          "Centro",
          "Gamboa",
          "Gamboa",
          "Santo Cristo",
          "Santo Cristo",
          "Santo Cristo",
          "Gamboa",
          "Santo Cristo",
          "Santo Cristo",
          "Centro",
          "Gamboa",
          "Santo Cristo",
          "Saúde",
          "Santo Cristo",
          "Gamboa",
          "Santo Cristo",
          "Gamboa",
          "Gamboa",
          "Santo Cristo",
          "Santo Cristo",
          "Centro",
          "Gamboa",
          "Santo Cristo",
          "Gamboa",
          "Gamboa",
          "Gamboa",
          "Centro",
          "Gamboa",
          "Gamboa",
          "Gamboa",
          "Santo Cristo"
         ],
         "xaxis": "x",
         "yaxis": "y"
        },
        {
         "alignmentgroup": "True",
         "bingroup": "x",
         "hovertemplate": "Ativo=Não<br>Bairro=%{x}<br>count=%{y}<extra></extra>",
         "legendgroup": "Não",
         "marker": {
          "color": "#EF553B",
          "pattern": {
           "shape": ""
          }
         },
         "name": "Não",
         "offsetgroup": "Não",
         "orientation": "v",
         "showlegend": true,
         "texttemplate": "%{value}",
         "type": "histogram",
         "x": [
          "Santo Cristo",
          "Santo Cristo",
          "Centro",
          "Gamboa",
          "Gamboa",
          "Santo Cristo",
          "Gamboa",
          "Centro",
          "Gamboa",
          "Santo Cristo",
          "Santo Cristo",
          "Centro",
          "Centro",
          "Centro",
          "Centro",
          "Santo Cristo",
          "Centro",
          "Centro"
         ],
         "xaxis": "x",
         "yaxis": "y"
        }
       ],
       "layout": {
        "barmode": "group",
        "legend": {
         "title": {
          "text": "Ativo"
         },
         "tracegroupgap": 0
        },
        "margin": {
         "t": 60
        },
        "template": {
         "data": {
          "bar": [
           {
            "error_x": {
             "color": "#2a3f5f"
            },
            "error_y": {
             "color": "#2a3f5f"
            },
            "marker": {
             "line": {
              "color": "#E5ECF6",
              "width": 0.5
             },
             "pattern": {
              "fillmode": "overlay",
              "size": 10,
              "solidity": 0.2
             }
            },
            "type": "bar"
           }
          ],
          "barpolar": [
           {
            "marker": {
             "line": {
              "color": "#E5ECF6",
              "width": 0.5
             },
             "pattern": {
              "fillmode": "overlay",
              "size": 10,
              "solidity": 0.2
             }
            },
            "type": "barpolar"
           }
          ],
          "carpet": [
           {
            "aaxis": {
             "endlinecolor": "#2a3f5f",
             "gridcolor": "white",
             "linecolor": "white",
             "minorgridcolor": "white",
             "startlinecolor": "#2a3f5f"
            },
            "baxis": {
             "endlinecolor": "#2a3f5f",
             "gridcolor": "white",
             "linecolor": "white",
             "minorgridcolor": "white",
             "startlinecolor": "#2a3f5f"
            },
            "type": "carpet"
           }
          ],
          "choropleth": [
           {
            "colorbar": {
             "outlinewidth": 0,
             "ticks": ""
            },
            "type": "choropleth"
           }
          ],
          "contour": [
           {
            "colorbar": {
             "outlinewidth": 0,
             "ticks": ""
            },
            "colorscale": [
             [
              0,
              "#0d0887"
             ],
             [
              0.1111111111111111,
              "#46039f"
             ],
             [
              0.2222222222222222,
              "#7201a8"
             ],
             [
              0.3333333333333333,
              "#9c179e"
             ],
             [
              0.4444444444444444,
              "#bd3786"
             ],
             [
              0.5555555555555556,
              "#d8576b"
             ],
             [
              0.6666666666666666,
              "#ed7953"
             ],
             [
              0.7777777777777778,
              "#fb9f3a"
             ],
             [
              0.8888888888888888,
              "#fdca26"
             ],
             [
              1,
              "#f0f921"
             ]
            ],
            "type": "contour"
           }
          ],
          "contourcarpet": [
           {
            "colorbar": {
             "outlinewidth": 0,
             "ticks": ""
            },
            "type": "contourcarpet"
           }
          ],
          "heatmap": [
           {
            "colorbar": {
             "outlinewidth": 0,
             "ticks": ""
            },
            "colorscale": [
             [
              0,
              "#0d0887"
             ],
             [
              0.1111111111111111,
              "#46039f"
             ],
             [
              0.2222222222222222,
              "#7201a8"
             ],
             [
              0.3333333333333333,
              "#9c179e"
             ],
             [
              0.4444444444444444,
              "#bd3786"
             ],
             [
              0.5555555555555556,
              "#d8576b"
             ],
             [
              0.6666666666666666,
              "#ed7953"
             ],
             [
              0.7777777777777778,
              "#fb9f3a"
             ],
             [
              0.8888888888888888,
              "#fdca26"
             ],
             [
              1,
              "#f0f921"
             ]
            ],
            "type": "heatmap"
           }
          ],
          "heatmapgl": [
           {
            "colorbar": {
             "outlinewidth": 0,
             "ticks": ""
            },
            "colorscale": [
             [
              0,
              "#0d0887"
             ],
             [
              0.1111111111111111,
              "#46039f"
             ],
             [
              0.2222222222222222,
              "#7201a8"
             ],
             [
              0.3333333333333333,
              "#9c179e"
             ],
             [
              0.4444444444444444,
              "#bd3786"
             ],
             [
              0.5555555555555556,
              "#d8576b"
             ],
             [
              0.6666666666666666,
              "#ed7953"
             ],
             [
              0.7777777777777778,
              "#fb9f3a"
             ],
             [
              0.8888888888888888,
              "#fdca26"
             ],
             [
              1,
              "#f0f921"
             ]
            ],
            "type": "heatmapgl"
           }
          ],
          "histogram": [
           {
            "marker": {
             "pattern": {
              "fillmode": "overlay",
              "size": 10,
              "solidity": 0.2
             }
            },
            "type": "histogram"
           }
          ],
          "histogram2d": [
           {
            "colorbar": {
             "outlinewidth": 0,
             "ticks": ""
            },
            "colorscale": [
             [
              0,
              "#0d0887"
             ],
             [
              0.1111111111111111,
              "#46039f"
             ],
             [
              0.2222222222222222,
              "#7201a8"
             ],
             [
              0.3333333333333333,
              "#9c179e"
             ],
             [
              0.4444444444444444,
              "#bd3786"
             ],
             [
              0.5555555555555556,
              "#d8576b"
             ],
             [
              0.6666666666666666,
              "#ed7953"
             ],
             [
              0.7777777777777778,
              "#fb9f3a"
             ],
             [
              0.8888888888888888,
              "#fdca26"
             ],
             [
              1,
              "#f0f921"
             ]
            ],
            "type": "histogram2d"
           }
          ],
          "histogram2dcontour": [
           {
            "colorbar": {
             "outlinewidth": 0,
             "ticks": ""
            },
            "colorscale": [
             [
              0,
              "#0d0887"
             ],
             [
              0.1111111111111111,
              "#46039f"
             ],
             [
              0.2222222222222222,
              "#7201a8"
             ],
             [
              0.3333333333333333,
              "#9c179e"
             ],
             [
              0.4444444444444444,
              "#bd3786"
             ],
             [
              0.5555555555555556,
              "#d8576b"
             ],
             [
              0.6666666666666666,
              "#ed7953"
             ],
             [
              0.7777777777777778,
              "#fb9f3a"
             ],
             [
              0.8888888888888888,
              "#fdca26"
             ],
             [
              1,
              "#f0f921"
             ]
            ],
            "type": "histogram2dcontour"
           }
          ],
          "mesh3d": [
           {
            "colorbar": {
             "outlinewidth": 0,
             "ticks": ""
            },
            "type": "mesh3d"
           }
          ],
          "parcoords": [
           {
            "line": {
             "colorbar": {
              "outlinewidth": 0,
              "ticks": ""
             }
            },
            "type": "parcoords"
           }
          ],
          "pie": [
           {
            "automargin": true,
            "type": "pie"
           }
          ],
          "scatter": [
           {
            "fillpattern": {
             "fillmode": "overlay",
             "size": 10,
             "solidity": 0.2
            },
            "type": "scatter"
           }
          ],
          "scatter3d": [
           {
            "line": {
             "colorbar": {
              "outlinewidth": 0,
              "ticks": ""
             }
            },
            "marker": {
             "colorbar": {
              "outlinewidth": 0,
              "ticks": ""
             }
            },
            "type": "scatter3d"
           }
          ],
          "scattercarpet": [
           {
            "marker": {
             "colorbar": {
              "outlinewidth": 0,
              "ticks": ""
             }
            },
            "type": "scattercarpet"
           }
          ],
          "scattergeo": [
           {
            "marker": {
             "colorbar": {
              "outlinewidth": 0,
              "ticks": ""
             }
            },
            "type": "scattergeo"
           }
          ],
          "scattergl": [
           {
            "marker": {
             "colorbar": {
              "outlinewidth": 0,
              "ticks": ""
             }
            },
            "type": "scattergl"
           }
          ],
          "scattermapbox": [
           {
            "marker": {
             "colorbar": {
              "outlinewidth": 0,
              "ticks": ""
             }
            },
            "type": "scattermapbox"
           }
          ],
          "scatterpolar": [
           {
            "marker": {
             "colorbar": {
              "outlinewidth": 0,
              "ticks": ""
             }
            },
            "type": "scatterpolar"
           }
          ],
          "scatterpolargl": [
           {
            "marker": {
             "colorbar": {
              "outlinewidth": 0,
              "ticks": ""
             }
            },
            "type": "scatterpolargl"
           }
          ],
          "scatterternary": [
           {
            "marker": {
             "colorbar": {
              "outlinewidth": 0,
              "ticks": ""
             }
            },
            "type": "scatterternary"
           }
          ],
          "surface": [
           {
            "colorbar": {
             "outlinewidth": 0,
             "ticks": ""
            },
            "colorscale": [
             [
              0,
              "#0d0887"
             ],
             [
              0.1111111111111111,
              "#46039f"
             ],
             [
              0.2222222222222222,
              "#7201a8"
             ],
             [
              0.3333333333333333,
              "#9c179e"
             ],
             [
              0.4444444444444444,
              "#bd3786"
             ],
             [
              0.5555555555555556,
              "#d8576b"
             ],
             [
              0.6666666666666666,
              "#ed7953"
             ],
             [
              0.7777777777777778,
              "#fb9f3a"
             ],
             [
              0.8888888888888888,
              "#fdca26"
             ],
             [
              1,
              "#f0f921"
             ]
            ],
            "type": "surface"
           }
          ],
          "table": [
           {
            "cells": {
             "fill": {
              "color": "#EBF0F8"
             },
             "line": {
              "color": "white"
             }
            },
            "header": {
             "fill": {
              "color": "#C8D4E3"
             },
             "line": {
              "color": "white"
             }
            },
            "type": "table"
           }
          ]
         },
         "layout": {
          "annotationdefaults": {
           "arrowcolor": "#2a3f5f",
           "arrowhead": 0,
           "arrowwidth": 1
          },
          "autotypenumbers": "strict",
          "coloraxis": {
           "colorbar": {
            "outlinewidth": 0,
            "ticks": ""
           }
          },
          "colorscale": {
           "diverging": [
            [
             0,
             "#8e0152"
            ],
            [
             0.1,
             "#c51b7d"
            ],
            [
             0.2,
             "#de77ae"
            ],
            [
             0.3,
             "#f1b6da"
            ],
            [
             0.4,
             "#fde0ef"
            ],
            [
             0.5,
             "#f7f7f7"
            ],
            [
             0.6,
             "#e6f5d0"
            ],
            [
             0.7,
             "#b8e186"
            ],
            [
             0.8,
             "#7fbc41"
            ],
            [
             0.9,
             "#4d9221"
            ],
            [
             1,
             "#276419"
            ]
           ],
           "sequential": [
            [
             0,
             "#0d0887"
            ],
            [
             0.1111111111111111,
             "#46039f"
            ],
            [
             0.2222222222222222,
             "#7201a8"
            ],
            [
             0.3333333333333333,
             "#9c179e"
            ],
            [
             0.4444444444444444,
             "#bd3786"
            ],
            [
             0.5555555555555556,
             "#d8576b"
            ],
            [
             0.6666666666666666,
             "#ed7953"
            ],
            [
             0.7777777777777778,
             "#fb9f3a"
            ],
            [
             0.8888888888888888,
             "#fdca26"
            ],
            [
             1,
             "#f0f921"
            ]
           ],
           "sequentialminus": [
            [
             0,
             "#0d0887"
            ],
            [
             0.1111111111111111,
             "#46039f"
            ],
            [
             0.2222222222222222,
             "#7201a8"
            ],
            [
             0.3333333333333333,
             "#9c179e"
            ],
            [
             0.4444444444444444,
             "#bd3786"
            ],
            [
             0.5555555555555556,
             "#d8576b"
            ],
            [
             0.6666666666666666,
             "#ed7953"
            ],
            [
             0.7777777777777778,
             "#fb9f3a"
            ],
            [
             0.8888888888888888,
             "#fdca26"
            ],
            [
             1,
             "#f0f921"
            ]
           ]
          },
          "colorway": [
           "#636efa",
           "#EF553B",
           "#00cc96",
           "#ab63fa",
           "#FFA15A",
           "#19d3f3",
           "#FF6692",
           "#B6E880",
           "#FF97FF",
           "#FECB52"
          ],
          "font": {
           "color": "#2a3f5f"
          },
          "geo": {
           "bgcolor": "white",
           "lakecolor": "white",
           "landcolor": "#E5ECF6",
           "showlakes": true,
           "showland": true,
           "subunitcolor": "white"
          },
          "hoverlabel": {
           "align": "left"
          },
          "hovermode": "closest",
          "mapbox": {
           "style": "light"
          },
          "paper_bgcolor": "white",
          "plot_bgcolor": "#E5ECF6",
          "polar": {
           "angularaxis": {
            "gridcolor": "white",
            "linecolor": "white",
            "ticks": ""
           },
           "bgcolor": "#E5ECF6",
           "radialaxis": {
            "gridcolor": "white",
            "linecolor": "white",
            "ticks": ""
           }
          },
          "scene": {
           "xaxis": {
            "backgroundcolor": "#E5ECF6",
            "gridcolor": "white",
            "gridwidth": 2,
            "linecolor": "white",
            "showbackground": true,
            "ticks": "",
            "zerolinecolor": "white"
           },
           "yaxis": {
            "backgroundcolor": "#E5ECF6",
            "gridcolor": "white",
            "gridwidth": 2,
            "linecolor": "white",
            "showbackground": true,
            "ticks": "",
            "zerolinecolor": "white"
           },
           "zaxis": {
            "backgroundcolor": "#E5ECF6",
            "gridcolor": "white",
            "gridwidth": 2,
            "linecolor": "white",
            "showbackground": true,
            "ticks": "",
            "zerolinecolor": "white"
           }
          },
          "shapedefaults": {
           "line": {
            "color": "#2a3f5f"
           }
          },
          "ternary": {
           "aaxis": {
            "gridcolor": "white",
            "linecolor": "white",
            "ticks": ""
           },
           "baxis": {
            "gridcolor": "white",
            "linecolor": "white",
            "ticks": ""
           },
           "bgcolor": "#E5ECF6",
           "caxis": {
            "gridcolor": "white",
            "linecolor": "white",
            "ticks": ""
           }
          },
          "title": {
           "x": 0.05
          },
          "xaxis": {
           "automargin": true,
           "gridcolor": "white",
           "linecolor": "white",
           "ticks": "",
           "title": {
            "standoff": 15
           },
           "zerolinecolor": "white",
           "zerolinewidth": 2
          },
          "yaxis": {
           "automargin": true,
           "gridcolor": "white",
           "linecolor": "white",
           "ticks": "",
           "title": {
            "standoff": 15
           },
           "zerolinecolor": "white",
           "zerolinewidth": 2
          }
         }
        },
        "xaxis": {
         "anchor": "y",
         "domain": [
          0,
          1
         ],
         "title": {
          "text": "Bairro"
         }
        },
        "yaxis": {
         "anchor": "x",
         "domain": [
          0,
          1
         ],
         "title": {
          "text": "count"
         }
        }
       }
      },
      "text/html": [
       "<div>                            <div id=\"edeb64e4-5f89-47a7-80ad-c7fe4a35aded\" class=\"plotly-graph-div\" style=\"height:525px; width:100%;\"></div>            <script type=\"text/javascript\">                require([\"plotly\"], function(Plotly) {                    window.PLOTLYENV=window.PLOTLYENV || {};                                    if (document.getElementById(\"edeb64e4-5f89-47a7-80ad-c7fe4a35aded\")) {                    Plotly.newPlot(                        \"edeb64e4-5f89-47a7-80ad-c7fe4a35aded\",                        [{\"alignmentgroup\":\"True\",\"bingroup\":\"x\",\"hovertemplate\":\"Ativo=Sim\\u003cbr\\u003eBairro=%{x}\\u003cbr\\u003ecount=%{y}\\u003cextra\\u003e\\u003c\\u002fextra\\u003e\",\"legendgroup\":\"Sim\",\"marker\":{\"color\":\"#636efa\",\"pattern\":{\"shape\":\"\"}},\"name\":\"Sim\",\"offsetgroup\":\"Sim\",\"orientation\":\"v\",\"showlegend\":true,\"texttemplate\":\"%{value}\",\"x\":[\"Gamboa\",\"Centro\",\"Santo Cristo\",\"Gamboa\",\"Centro\",\"Gamboa\",\"Gamboa\",\"Pra\\u00e7a da Bandeira\",\"Centro\",\"Gamboa\",\"Gamboa\",\"Gamboa\",\"Santo Cristo\",\"Santo Cristo\",\"Santo Cristo\",\"Santo Cristo\",\"Gamboa\",\"Santo Cristo\",\"Gamboa\",\"Gamboa\",\"Centro\",\"Gamboa\",\"Centro\",\"Gamboa\",\"Gamboa\",\"Gamboa\",\"Gamboa\",\"Santo Cristo\",\"Santo Cristo\",\"Centro\",\"Santo Cristo\",\"Gamboa\",\"Santo Cristo\",\"Santo Cristo\",\"Santo Cristo\",\"Gamboa\",\"Santo Cristo\",\"Centro\",\"Santo Cristo\",\"Santo Cristo\",\"Santo Cristo\",\"Gamboa\",\"Gamboa\",\"Centro\",\"Gamboa\",\"Gamboa\",\"Santo Cristo\",\"Gamboa\",\"Santo Cristo\",\"Santo Cristo\",\"Gamboa\",\"Gamboa\",\"Gamboa\",\"Gamboa\",\"Gamboa\",\"Centro\",\"Gamboa\",\"Santo Cristo\",\"Gamboa\",\"Centro\",\"Gamboa\",\"Santo Cristo\",\"Gamboa\",\"Santo Cristo\",\"Santo Cristo\",\"Gamboa\",\"Santo Cristo\",\"Centro\",\"Santo Cristo\",\"Gamboa\",\"Gamboa\",\"Gamboa\",\"Santo Cristo\",\"Gamboa\",\"Santo Cristo\",\"Santo Cristo\",\"Gamboa\",\"Santo Cristo\",\"Santo Cristo\",\"Santo Cristo\",\"Gamboa\",\"Santo Cristo\",\"Gamboa\",\"Gamboa\",\"Santo Cristo\",\"Gamboa\",\"Gamboa\",\"Gamboa\",\"Santo Cristo\",\"Santo Cristo\",\"Santo Cristo\",\"Gamboa\",\"Gamboa\",\"Gamboa\",\"Gamboa\",\"Sa\\u00fade\",\"Santo Cristo\",\"Santo Cristo\",\"Centro\",\"Santo Cristo\",\"Santo Cristo\",\"Gamboa\",\"Santo Cristo\",\"Centro\",\"Santo Cristo\",\"Gamboa\",\"Gamboa\",\"Santo Cristo\",\"Santo Cristo\",\"Gamboa\",\"Gamboa\",\"Centro\",\"Gamboa\",\"Santo Cristo\",\"Gamboa\",\"Centro\",\"Gamboa\",\"Gamboa\",\"Gamboa\",\"Santo Cristo\",\"Centro\",\"Gamboa\",\"Santo Cristo\",\"Gamboa\",\"Gamboa\",\"Gamboa\",\"Gamboa\",\"Gamboa\",\"Santo Cristo\",\"Santo Cristo\",\"Santo Cristo\",\"Santo Cristo\",\"Santo Cristo\",\"Gamboa\",\"Gamboa\",\"Santo Cristo\",\"Gamboa\",\"Santo Cristo\",\"Gamboa\",\"Santo Cristo\",\"Gamboa\",\"Gamboa\",\"Santo Cristo\",\"Santo Cristo\",\"Gamboa\",\"Gamboa\",\"Gamboa\",\"Santo Cristo\",\"Gamboa\",\"Gamboa\",\"Gamboa\",\"Gamboa\",\"Centro\",\"Gamboa\",\"Gamboa\",\"Santo Cristo\",\"Centro\",\"Santo Cristo\",\"Gamboa\",\"Centro\",\"Gamboa\",\"Gamboa\",\"Centro\",\"Gamboa\",\"Gamboa\",\"Santo Cristo\",\"Santo Cristo\",\"Gamboa\",\"Santo Cristo\",\"Gamboa\",\"Gamboa\",\"Gamboa\",\"Gamboa\",\"Centro\",\"Santo Cristo\",\"Centro\",\"Gamboa\",\"Gamboa\",\"Gamboa\",\"Gamboa\",\"Santo Cristo\",\"Centro\",\"Gamboa\",\"Gamboa\",\"Gamboa\",\"Gamboa\",\"Gamboa\",\"Gamboa\",\"Centro\",\"Santo Cristo\",\"Santo Cristo\",\"Santo Cristo\",\"Centro\",\"Centro\",\"Gamboa\",\"Gamboa\",\"Santo Cristo\",\"Gamboa\",\"Santo Cristo\",\"Santo Cristo\",\"Gamboa\",\"Gamboa\",\"Gamboa\",\"Centro\",\"Gamboa\",\"Gamboa\",\"Gamboa\",\"Gamboa\",\"Centro\",\"Santo Cristo\",\"Gamboa\",\"Santo Cristo\",\"Santo Cristo\",\"Gamboa\",\"Santo Cristo\",\"Santo Cristo\",\"Gamboa\",\"Centro\",\"Gamboa\",\"Gamboa\",\"Santo Cristo\",\"Santo Cristo\",\"Centro\",\"Gamboa\",\"Santo Cristo\",\"Santo Cristo\",\"Gamboa\",\"Gamboa\",\"Santo Cristo\",\"Santo Cristo\",\"Centro\",\"Gamboa\",\"Gamboa\",\"Santo Cristo\",\"Gamboa\",\"Centro\",\"Gamboa\",\"Gamboa\",\"Centro\",\"Santo Cristo\",\"Gamboa\",\"Gamboa\",\"Gamboa\",\"Gamboa\",\"Santo Cristo\",\"Gamboa\",\"Gamboa\",\"Centro\",\"Centro\",\"Gamboa\",\"Gamboa\",\"Gamboa\",\"Santo Cristo\",\"Centro\",\"Centro\",\"Santo Cristo\",\"Centro\",\"Gamboa\",\"Santo Cristo\",\"Santo Cristo\",\"Gamboa\",\"Gamboa\",\"Gamboa\",\"Gamboa\",\"Gamboa\",\"Santo Cristo\",\"Gamboa\",\"Gamboa\",\"Centro\",\"Centro\",\"Gamboa\",\"Gamboa\",\"Gamboa\",\"Gamboa\",\"Centro\",\"Gamboa\",\"Gamboa\",\"Gamboa\",\"Santo Cristo\",\"Centro\",\"Centro\",\"Gamboa\",\"Santo Cristo\",\"Santo Cristo\",\"Santo Cristo\",\"Santo Cristo\",\"Gamboa\",\"Santo Cristo\",\"Gamboa\",\"Centro\",\"Centro\",\"Gamboa\",\"Santo Cristo\",\"Santo Cristo\",\"Centro\",\"Gamboa\",\"Gamboa\",\"Gamboa\",\"Gamboa\",\"Santo Cristo\",\"Centro\",\"Cidade Nova\",\"Santo Cristo\",\"Gamboa\",\"Gamboa\",\"Gamboa\",\"Centro\",\"Santo Cristo\",\"Gamboa\",\"Gamboa\",\"Centro\",\"Gamboa\",\"Gamboa\",\"Gamboa\",\"Centro\",\"Santo Cristo\",\"Centro\",\"Gamboa\",\"Santo Cristo\",\"Centro\",\"Gamboa\",\"Gamboa\",\"Santo Cristo\",\"Santo Cristo\",\"Santo Cristo\",\"Gamboa\",\"Santo Cristo\",\"Santo Cristo\",\"Centro\",\"Gamboa\",\"Santo Cristo\",\"Sa\\u00fade\",\"Santo Cristo\",\"Gamboa\",\"Santo Cristo\",\"Gamboa\",\"Gamboa\",\"Santo Cristo\",\"Santo Cristo\",\"Centro\",\"Gamboa\",\"Santo Cristo\",\"Gamboa\",\"Gamboa\",\"Gamboa\",\"Centro\",\"Gamboa\",\"Gamboa\",\"Gamboa\",\"Santo Cristo\"],\"xaxis\":\"x\",\"yaxis\":\"y\",\"type\":\"histogram\"},{\"alignmentgroup\":\"True\",\"bingroup\":\"x\",\"hovertemplate\":\"Ativo=N\\u00e3o\\u003cbr\\u003eBairro=%{x}\\u003cbr\\u003ecount=%{y}\\u003cextra\\u003e\\u003c\\u002fextra\\u003e\",\"legendgroup\":\"N\\u00e3o\",\"marker\":{\"color\":\"#EF553B\",\"pattern\":{\"shape\":\"\"}},\"name\":\"N\\u00e3o\",\"offsetgroup\":\"N\\u00e3o\",\"orientation\":\"v\",\"showlegend\":true,\"texttemplate\":\"%{value}\",\"x\":[\"Santo Cristo\",\"Santo Cristo\",\"Centro\",\"Gamboa\",\"Gamboa\",\"Santo Cristo\",\"Gamboa\",\"Centro\",\"Gamboa\",\"Santo Cristo\",\"Santo Cristo\",\"Centro\",\"Centro\",\"Centro\",\"Centro\",\"Santo Cristo\",\"Centro\",\"Centro\"],\"xaxis\":\"x\",\"yaxis\":\"y\",\"type\":\"histogram\"}],                        {\"template\":{\"data\":{\"histogram2dcontour\":[{\"type\":\"histogram2dcontour\",\"colorbar\":{\"outlinewidth\":0,\"ticks\":\"\"},\"colorscale\":[[0.0,\"#0d0887\"],[0.1111111111111111,\"#46039f\"],[0.2222222222222222,\"#7201a8\"],[0.3333333333333333,\"#9c179e\"],[0.4444444444444444,\"#bd3786\"],[0.5555555555555556,\"#d8576b\"],[0.6666666666666666,\"#ed7953\"],[0.7777777777777778,\"#fb9f3a\"],[0.8888888888888888,\"#fdca26\"],[1.0,\"#f0f921\"]]}],\"choropleth\":[{\"type\":\"choropleth\",\"colorbar\":{\"outlinewidth\":0,\"ticks\":\"\"}}],\"histogram2d\":[{\"type\":\"histogram2d\",\"colorbar\":{\"outlinewidth\":0,\"ticks\":\"\"},\"colorscale\":[[0.0,\"#0d0887\"],[0.1111111111111111,\"#46039f\"],[0.2222222222222222,\"#7201a8\"],[0.3333333333333333,\"#9c179e\"],[0.4444444444444444,\"#bd3786\"],[0.5555555555555556,\"#d8576b\"],[0.6666666666666666,\"#ed7953\"],[0.7777777777777778,\"#fb9f3a\"],[0.8888888888888888,\"#fdca26\"],[1.0,\"#f0f921\"]]}],\"heatmap\":[{\"type\":\"heatmap\",\"colorbar\":{\"outlinewidth\":0,\"ticks\":\"\"},\"colorscale\":[[0.0,\"#0d0887\"],[0.1111111111111111,\"#46039f\"],[0.2222222222222222,\"#7201a8\"],[0.3333333333333333,\"#9c179e\"],[0.4444444444444444,\"#bd3786\"],[0.5555555555555556,\"#d8576b\"],[0.6666666666666666,\"#ed7953\"],[0.7777777777777778,\"#fb9f3a\"],[0.8888888888888888,\"#fdca26\"],[1.0,\"#f0f921\"]]}],\"heatmapgl\":[{\"type\":\"heatmapgl\",\"colorbar\":{\"outlinewidth\":0,\"ticks\":\"\"},\"colorscale\":[[0.0,\"#0d0887\"],[0.1111111111111111,\"#46039f\"],[0.2222222222222222,\"#7201a8\"],[0.3333333333333333,\"#9c179e\"],[0.4444444444444444,\"#bd3786\"],[0.5555555555555556,\"#d8576b\"],[0.6666666666666666,\"#ed7953\"],[0.7777777777777778,\"#fb9f3a\"],[0.8888888888888888,\"#fdca26\"],[1.0,\"#f0f921\"]]}],\"contourcarpet\":[{\"type\":\"contourcarpet\",\"colorbar\":{\"outlinewidth\":0,\"ticks\":\"\"}}],\"contour\":[{\"type\":\"contour\",\"colorbar\":{\"outlinewidth\":0,\"ticks\":\"\"},\"colorscale\":[[0.0,\"#0d0887\"],[0.1111111111111111,\"#46039f\"],[0.2222222222222222,\"#7201a8\"],[0.3333333333333333,\"#9c179e\"],[0.4444444444444444,\"#bd3786\"],[0.5555555555555556,\"#d8576b\"],[0.6666666666666666,\"#ed7953\"],[0.7777777777777778,\"#fb9f3a\"],[0.8888888888888888,\"#fdca26\"],[1.0,\"#f0f921\"]]}],\"surface\":[{\"type\":\"surface\",\"colorbar\":{\"outlinewidth\":0,\"ticks\":\"\"},\"colorscale\":[[0.0,\"#0d0887\"],[0.1111111111111111,\"#46039f\"],[0.2222222222222222,\"#7201a8\"],[0.3333333333333333,\"#9c179e\"],[0.4444444444444444,\"#bd3786\"],[0.5555555555555556,\"#d8576b\"],[0.6666666666666666,\"#ed7953\"],[0.7777777777777778,\"#fb9f3a\"],[0.8888888888888888,\"#fdca26\"],[1.0,\"#f0f921\"]]}],\"mesh3d\":[{\"type\":\"mesh3d\",\"colorbar\":{\"outlinewidth\":0,\"ticks\":\"\"}}],\"scatter\":[{\"fillpattern\":{\"fillmode\":\"overlay\",\"size\":10,\"solidity\":0.2},\"type\":\"scatter\"}],\"parcoords\":[{\"type\":\"parcoords\",\"line\":{\"colorbar\":{\"outlinewidth\":0,\"ticks\":\"\"}}}],\"scatterpolargl\":[{\"type\":\"scatterpolargl\",\"marker\":{\"colorbar\":{\"outlinewidth\":0,\"ticks\":\"\"}}}],\"bar\":[{\"error_x\":{\"color\":\"#2a3f5f\"},\"error_y\":{\"color\":\"#2a3f5f\"},\"marker\":{\"line\":{\"color\":\"#E5ECF6\",\"width\":0.5},\"pattern\":{\"fillmode\":\"overlay\",\"size\":10,\"solidity\":0.2}},\"type\":\"bar\"}],\"scattergeo\":[{\"type\":\"scattergeo\",\"marker\":{\"colorbar\":{\"outlinewidth\":0,\"ticks\":\"\"}}}],\"scatterpolar\":[{\"type\":\"scatterpolar\",\"marker\":{\"colorbar\":{\"outlinewidth\":0,\"ticks\":\"\"}}}],\"histogram\":[{\"marker\":{\"pattern\":{\"fillmode\":\"overlay\",\"size\":10,\"solidity\":0.2}},\"type\":\"histogram\"}],\"scattergl\":[{\"type\":\"scattergl\",\"marker\":{\"colorbar\":{\"outlinewidth\":0,\"ticks\":\"\"}}}],\"scatter3d\":[{\"type\":\"scatter3d\",\"line\":{\"colorbar\":{\"outlinewidth\":0,\"ticks\":\"\"}},\"marker\":{\"colorbar\":{\"outlinewidth\":0,\"ticks\":\"\"}}}],\"scattermapbox\":[{\"type\":\"scattermapbox\",\"marker\":{\"colorbar\":{\"outlinewidth\":0,\"ticks\":\"\"}}}],\"scatterternary\":[{\"type\":\"scatterternary\",\"marker\":{\"colorbar\":{\"outlinewidth\":0,\"ticks\":\"\"}}}],\"scattercarpet\":[{\"type\":\"scattercarpet\",\"marker\":{\"colorbar\":{\"outlinewidth\":0,\"ticks\":\"\"}}}],\"carpet\":[{\"aaxis\":{\"endlinecolor\":\"#2a3f5f\",\"gridcolor\":\"white\",\"linecolor\":\"white\",\"minorgridcolor\":\"white\",\"startlinecolor\":\"#2a3f5f\"},\"baxis\":{\"endlinecolor\":\"#2a3f5f\",\"gridcolor\":\"white\",\"linecolor\":\"white\",\"minorgridcolor\":\"white\",\"startlinecolor\":\"#2a3f5f\"},\"type\":\"carpet\"}],\"table\":[{\"cells\":{\"fill\":{\"color\":\"#EBF0F8\"},\"line\":{\"color\":\"white\"}},\"header\":{\"fill\":{\"color\":\"#C8D4E3\"},\"line\":{\"color\":\"white\"}},\"type\":\"table\"}],\"barpolar\":[{\"marker\":{\"line\":{\"color\":\"#E5ECF6\",\"width\":0.5},\"pattern\":{\"fillmode\":\"overlay\",\"size\":10,\"solidity\":0.2}},\"type\":\"barpolar\"}],\"pie\":[{\"automargin\":true,\"type\":\"pie\"}]},\"layout\":{\"autotypenumbers\":\"strict\",\"colorway\":[\"#636efa\",\"#EF553B\",\"#00cc96\",\"#ab63fa\",\"#FFA15A\",\"#19d3f3\",\"#FF6692\",\"#B6E880\",\"#FF97FF\",\"#FECB52\"],\"font\":{\"color\":\"#2a3f5f\"},\"hovermode\":\"closest\",\"hoverlabel\":{\"align\":\"left\"},\"paper_bgcolor\":\"white\",\"plot_bgcolor\":\"#E5ECF6\",\"polar\":{\"bgcolor\":\"#E5ECF6\",\"angularaxis\":{\"gridcolor\":\"white\",\"linecolor\":\"white\",\"ticks\":\"\"},\"radialaxis\":{\"gridcolor\":\"white\",\"linecolor\":\"white\",\"ticks\":\"\"}},\"ternary\":{\"bgcolor\":\"#E5ECF6\",\"aaxis\":{\"gridcolor\":\"white\",\"linecolor\":\"white\",\"ticks\":\"\"},\"baxis\":{\"gridcolor\":\"white\",\"linecolor\":\"white\",\"ticks\":\"\"},\"caxis\":{\"gridcolor\":\"white\",\"linecolor\":\"white\",\"ticks\":\"\"}},\"coloraxis\":{\"colorbar\":{\"outlinewidth\":0,\"ticks\":\"\"}},\"colorscale\":{\"sequential\":[[0.0,\"#0d0887\"],[0.1111111111111111,\"#46039f\"],[0.2222222222222222,\"#7201a8\"],[0.3333333333333333,\"#9c179e\"],[0.4444444444444444,\"#bd3786\"],[0.5555555555555556,\"#d8576b\"],[0.6666666666666666,\"#ed7953\"],[0.7777777777777778,\"#fb9f3a\"],[0.8888888888888888,\"#fdca26\"],[1.0,\"#f0f921\"]],\"sequentialminus\":[[0.0,\"#0d0887\"],[0.1111111111111111,\"#46039f\"],[0.2222222222222222,\"#7201a8\"],[0.3333333333333333,\"#9c179e\"],[0.4444444444444444,\"#bd3786\"],[0.5555555555555556,\"#d8576b\"],[0.6666666666666666,\"#ed7953\"],[0.7777777777777778,\"#fb9f3a\"],[0.8888888888888888,\"#fdca26\"],[1.0,\"#f0f921\"]],\"diverging\":[[0,\"#8e0152\"],[0.1,\"#c51b7d\"],[0.2,\"#de77ae\"],[0.3,\"#f1b6da\"],[0.4,\"#fde0ef\"],[0.5,\"#f7f7f7\"],[0.6,\"#e6f5d0\"],[0.7,\"#b8e186\"],[0.8,\"#7fbc41\"],[0.9,\"#4d9221\"],[1,\"#276419\"]]},\"xaxis\":{\"gridcolor\":\"white\",\"linecolor\":\"white\",\"ticks\":\"\",\"title\":{\"standoff\":15},\"zerolinecolor\":\"white\",\"automargin\":true,\"zerolinewidth\":2},\"yaxis\":{\"gridcolor\":\"white\",\"linecolor\":\"white\",\"ticks\":\"\",\"title\":{\"standoff\":15},\"zerolinecolor\":\"white\",\"automargin\":true,\"zerolinewidth\":2},\"scene\":{\"xaxis\":{\"backgroundcolor\":\"#E5ECF6\",\"gridcolor\":\"white\",\"linecolor\":\"white\",\"showbackground\":true,\"ticks\":\"\",\"zerolinecolor\":\"white\",\"gridwidth\":2},\"yaxis\":{\"backgroundcolor\":\"#E5ECF6\",\"gridcolor\":\"white\",\"linecolor\":\"white\",\"showbackground\":true,\"ticks\":\"\",\"zerolinecolor\":\"white\",\"gridwidth\":2},\"zaxis\":{\"backgroundcolor\":\"#E5ECF6\",\"gridcolor\":\"white\",\"linecolor\":\"white\",\"showbackground\":true,\"ticks\":\"\",\"zerolinecolor\":\"white\",\"gridwidth\":2}},\"shapedefaults\":{\"line\":{\"color\":\"#2a3f5f\"}},\"annotationdefaults\":{\"arrowcolor\":\"#2a3f5f\",\"arrowhead\":0,\"arrowwidth\":1},\"geo\":{\"bgcolor\":\"white\",\"landcolor\":\"#E5ECF6\",\"subunitcolor\":\"white\",\"showland\":true,\"showlakes\":true,\"lakecolor\":\"white\"},\"title\":{\"x\":0.05},\"mapbox\":{\"style\":\"light\"}}},\"xaxis\":{\"anchor\":\"y\",\"domain\":[0.0,1.0],\"title\":{\"text\":\"Bairro\"}},\"yaxis\":{\"anchor\":\"x\",\"domain\":[0.0,1.0],\"title\":{\"text\":\"count\"}},\"legend\":{\"title\":{\"text\":\"Ativo\"},\"tracegroupgap\":0},\"margin\":{\"t\":60},\"barmode\":\"group\"},                        {\"responsive\": true}                    ).then(function(){\n",
       "                            \n",
       "var gd = document.getElementById('edeb64e4-5f89-47a7-80ad-c7fe4a35aded');\n",
       "var x = new MutationObserver(function (mutations, observer) {{\n",
       "        var display = window.getComputedStyle(gd).display;\n",
       "        if (!display || display === 'none') {{\n",
       "            console.log([gd, 'removed!']);\n",
       "            Plotly.purge(gd);\n",
       "            observer.disconnect();\n",
       "        }}\n",
       "}});\n",
       "\n",
       "// Listen for the removal of the full notebook cells\n",
       "var notebookContainer = gd.closest('#notebook-container');\n",
       "if (notebookContainer) {{\n",
       "    x.observe(notebookContainer, {childList: true});\n",
       "}}\n",
       "\n",
       "// Listen for the clearing of the current output cell\n",
       "var outputEl = gd.closest('.output');\n",
       "if (outputEl) {{\n",
       "    x.observe(outputEl, {childList: true});\n",
       "}}\n",
       "\n",
       "                        })                };                });            </script>        </div>"
      ]
     },
     "metadata": {},
     "output_type": "display_data"
    }
   ],
   "source": [
    "px.histogram(dados,x='Bairro',text_auto=True,color='Ativo',barmode='group')"
   ]
  },
  {
   "cell_type": "code",
   "execution_count": 117,
   "metadata": {},
   "outputs": [
    {
     "data": {
      "application/vnd.plotly.v1+json": {
       "config": {
        "plotlyServerURL": "https://plot.ly"
       },
       "data": [
        {
         "alignmentgroup": "True",
         "bingroup": "x",
         "hovertemplate": "Ativo=Sim<br>Endereço=%{x}<br>count=%{y}<extra></extra>",
         "legendgroup": "Sim",
         "marker": {
          "color": "#636efa",
          "pattern": {
           "shape": ""
          }
         },
         "name": "Sim",
         "offsetgroup": "Sim",
         "orientation": "v",
         "showlegend": true,
         "texttemplate": "%{value}",
         "type": "histogram",
         "x": [
          "Rua do Monte",
          "Rua Senador Pompeu",
          "Rua da América",
          "Rua da Bica",
          "Rua Costa Ferreira",
          "Rua Conselheiro Zacarias",
          "Rua da Gamboa",
          "Rua Paraíba",
          "Rua Barão de São Félix",
          "Ladeira Livramento",
          "Rua Cunha Barbosa",
          "Rua Grota",
          "Rua do Pinto",
          "Rua Barão da Gamboa",
          "Rua da América",
          "Rua Vidal de Negreiros",
          "Largo Cruzeiro",
          "Rua Santo Cristo",
          "Ladeira Morro da Saúde",
          "Rua Coronel Audomaro Costa",
          "Rua Barão de São Félix",
          "Ladeira do Barroso",
          "Rua Barão de São Félix",
          "Rua Dona Bela",
          "Rua Bento Teixeira",
          "Rua Coronel Audomaro Costa",
          "Ladeira Morro da Saúde",
          "Rua Mariano Procópio",
          "Rua da América",
          "Rua Barão de São Félix",
          "Rua Rego Barros",
          "Rua Bento Teixeira",
          "Rua dona Nair",
          "Rua Nabuco de Freitas",
          "Rua Nabuco de Freitas",
          "Rua do Livramento",
          "Rua da América",
          "Rua Costa Ferreira",
          "Rua Ebroino Uruguai",
          "Rua Mont Alverne",
          "Rua Rego Barros",
          "Ladeira do Barroso",
          "Gasparina",
          "Rua Bento Ribeiro",
          "Ladeira Livramento",
          "Ladeira do Barroso",
          "Rua Santo Cristo",
          "Ladeira do Faria",
          "Rua Cardoso Marinho",
          "Travessa São Diogo",
          "Beco da Bica",
          "Ladeira do Barroso",
          "Rua da Bica",
          "Rua Ana Mascarenhas",
          "Rua da Gamboa",
          "Rua Leandro Martins",
          "Rua Rivadavia Correia",
          "Rua Santo Cristo",
          "Rua Coronel Audomaro Costa",
          "Avenida Marechal Floriano",
          "Rua do Propósito",
          "Rua Santo Cristo",
          "Beco das Escadinhas do Livramento",
          "Rua Sara",
          "Rua Deolinda",
          "Ladeira do Faria",
          "Rua da América",
          "Rua Marcílio Dias",
          "Rua Santo Cristo",
          "Rua do Monte",
          "Travessa da Felicidade",
          "Rua da Gamboa",
          "Travessa da Felicidade",
          "Ladeira Livramento",
          "Rua Moreira Pinto",
          "Rua Marquês de Sapucaí",
          "Rua do Propósito",
          "Rua Pedro Alves",
          "Rua Rego Barros",
          "Rua Vidal de Negreiros",
          "Rua do Monte",
          "Rua Ebroino Uruguai",
          "Rua Cunha Barbosa",
          "Rua Dona Lucia",
          "Rua da América",
          "Ladeira Livramento",
          "Rua Bento Teixeira",
          "Ladeira do Faria",
          "Rua Santo Cristo",
          "Rua Pedro Alves",
          "Rua da América",
          "Rua do Cruzeiro",
          "Ladeira do Faria",
          "Rua Gasparina",
          "Rua do Livramento",
          "Ladeira Morro do Valongo",
          "Rua Santo Cristo",
          "Rua Cardoso Marinho",
          "Rua Barão de São Félix",
          "Rua Ebroino Uruguai",
          "Rua Moreira Pinto",
          "Travessa da Felicidade",
          "Travessa São Diogo",
          "Rua Marcílio Dias",
          "Rua Ebroino Uruguai",
          "Rua Bento Teixeira",
          "Ladeira Madre de Deus",
          "Rua Ebroino Uruguai",
          "Travessa São Diogo",
          "Ladeira Livramento",
          "Rua Bento Teixeira",
          "Avenida Marechal Floriano",
          "Rua Leôncio de Albuquerque",
          "Rua Nabuco de Freitas",
          "Ladeira do Barroso",
          "Rua Visconde da Gávea",
          "Rua Alfredo Dolabela Portela",
          "Beco das Escadinhas do Livramento",
          "Rua Macedo Júnior",
          "Rua Pedro Alves",
          "Rua Bento Ribeiro",
          "Rua Leôncio de Albuquerque",
          "Rua Pedro Alves",
          "Rua da Gamboa",
          "Ladeira Livramento",
          "Rua do Monte",
          "Rua Rivadavia Correia",
          "Rua Conselheiro Zacarias",
          "Rua da América",
          "Rua Nabuco de Freitas",
          "Rua Santo Cristo",
          "Rua da América",
          "Rua Santo Cristo",
          "Ladeira Livramento",
          "Rua do Livramento",
          "Rua da América",
          "Rua da Gamboa",
          "Rua da América",
          "Rua Cruzeiro",
          "Rua Santo Cristo",
          "Ladeira do Barroso",
          "Ladeira do Barroso",
          "Rua da América",
          "Rua Santo Cristo",
          "Ladeira Madre de Deus",
          "Ladeira Livramento",
          "Ladeira do Faria",
          "Rua Carlos Gomes",
          "Ladeira Morro da Saúde",
          "Beco das Escadinhas do Livramento",
          "Ladeira do Barroso",
          "Rua Alfredo Dolabela Portela",
          "Rua Senador Pompeu",
          "Rua da Gamboa",
          "Travessa da Felicidade",
          "Rua Rego Barros",
          "Rua Barão de São Félix",
          "Rua da América",
          "Beco das Escadinhas do Livramento",
          "Rua Barão de São Félix",
          "Rua Silvino Montenegro",
          "Rua Leôncio de Albuquerque",
          "Rua Senador Pompeu",
          "Rua Alfredo Dolabela Portela",
          "Ladeira do Faria",
          "Rua Rego Barros",
          "Rua Ebroino Uruguai",
          "Ladeira do Faria",
          "Rua Santo Cristo",
          "Rua do Livramento",
          "Rua Grota",
          "Beco das Escadinhas do Livramento",
          "Rua Conselheiro Zacarias",
          "Rua Barão de São Félix",
          "Rua Cardoso Marinho",
          "Rua Costa Ferreira",
          "Avenida Venezuela",
          "Ladeira Madre de Deus",
          "Ladeira do Barroso",
          "Rua Rivadavia Correia",
          "Rua Farnese",
          "Rua Bento Ribeiro",
          "Rua do Livramento",
          "Rua Coronel Audomaro Costa",
          "Rua Rosa Saião",
          "Rua do Monte",
          "Rua Coronel Audomaro Costa",
          "Rua Alfredo Dolabela Portela",
          "Rua Barão de São Félix",
          "Rua Capitão Sena",
          "Rua Moreira Pinto",
          "Rua da América",
          "Rua Barão de São Félix",
          "Rua Bento Ribeiro",
          "Rua da Gamboa",
          "Travessa da Felicidade",
          "Travessa São Diogo",
          "Ladeira do Faria",
          "Rua Cardoso Marinho",
          "Rua da América",
          "Rua Bento Teixeira",
          "Rua Rivadavia Correia",
          "Rua do Propósito",
          "Rua Barão de São Félix",
          "Rua Macedo Junior",
          "Rua Leôncio de Albuquerque",
          "Rua do Propósito",
          "Ladeira do Faria",
          "Rua Senador Pompeu",
          "Rua da União",
          "Rua Coronel Audomaro Costa",
          "Travessa Brito Teixeira",
          "Rua Rego Barros",
          "Rua do Propósito",
          "Rua Ebroino Uruguai",
          "Rua Santo Cristo",
          "Ladeira Livramento",
          "Rua Barão de São Félix",
          "Rua do Monte",
          "Ladeira do Barroso",
          "Rua Pedro Alves",
          "Rua da América",
          "Rua Costa Ferreira",
          "Ladeira do Faria",
          "Rua Ebroino Uruguai",
          "Travessa São Diogo",
          "Ladeira do Faria",
          "Ladeira do Barroso",
          "Rua da América",
          "Rua Vidal de Negreiros",
          "Rua Visconde da Gávea",
          "Ladeira do Barroso",
          "Ladeira Livramento",
          "Rua Rego Barros",
          "Ladeira do Faria",
          "Rua Camerino",
          "Rua Antônio Lage",
          "Rua Leôncio de Albuquerque",
          "Rua Senador Pompeu",
          "Rua Cardoso Marinho",
          "Ladeira do Barroso",
          "Rua do Livramento",
          "Rua do Livramento",
          "Rua Rosa Saião",
          "Rua Cardoso Marinho",
          "Ladeira do Barroso",
          "Rua do Livramento",
          "Rua Senador Pompeu",
          "Rua Costa Ferreira",
          "Ladeira Morro da Saúde",
          "Rua Costa Barros",
          "Rua do Propósito",
          "Rua Nabuco de Freitas",
          "Rua Marcílio Dias",
          "Rua Barão de São Félix",
          "Rua Rego Barros",
          "Rua Senador Pompeu",
          "Ladeira Livramento",
          "Rua da América",
          "Rua Sara",
          "Ladeira Morro da Saúde",
          "Rua Pedro Ernesto",
          "Ladeira Livramento",
          "Ladeira Livramento",
          "Ladeira Livramento",
          "Rua Ebroino Uruguai",
          "Ladeira do Barroso",
          "Rua do Monte",
          "Rua Senador Pompeu",
          "Rua Costa Ferreira",
          "Ladeira Madre de Deus",
          "Rua Miguel Saião",
          "Ladeira do Faria",
          "Rua do Monte",
          "Rua Marcílio Dias",
          "Rua Alfredo Dolabela Portela",
          "Rua da Gamboa",
          "Rua Cunha Barbosa",
          "Rua Cardoso Marinho",
          "Rua Bento Ribeiro",
          "Rua Barão de São Félix",
          "Travessa da Felicidade",
          "Rua Nabuco de Freitas",
          "Rua da América 81",
          "Rua João Cardoso",
          "Rua do Pinto",
          "Rua Conselheiro Zacarias",
          "Rua Mont Alverne",
          "Rua da Gamboa",
          "Rua Senador Pompeu",
          "Rua Senador Pompeu",
          "Rua Major Saião",
          "Rua Saldanha Marinho",
          "Rua Pedro Alves",
          "Rua Bento Ribeiro",
          "Rua Cunha Barbosa",
          "Ladeira do Barroso",
          "Ladeira do Faria",
          "Rua Joaquim Esposel",
          "Rua Capitão Sena",
          "Rua Barão de São Félix",
          "Avenida Presidente Vargas",
          "Rua do Pinto",
          "Rua Major Saião",
          "Ladeira do Faria",
          "Ladeira do Barroso",
          "Rua Barão de São Félix",
          "Rua Nabuco de Freitas",
          "Ladeira do Barroso",
          "Rua Cruzeiro",
          "Avenida Presidente Vargas",
          "Rua Costa Barros",
          "Rua João Álvares",
          "Ladeira Livramento",
          "Rua da Conceição",
          "Rua da América 81",
          "Rua da Conceição",
          "Rua Conselheiro Zacarias",
          "Rua Pedro Alves",
          "Rua Costa Ferreira",
          "Travessa da Odete",
          "Ladeira do Barroso",
          "Rua Carlos Gomes",
          "Rua Barão da Gamboa",
          "Rua Atilia",
          "Rua Cruzeiro",
          "Rua Santo Cristo",
          "Rua Atilia",
          "Rua Costa Ferreira",
          "Rua do Livramento",
          "Rua Santo Cristo",
          "Rua Sacadura Cabral",
          "Rua Ebroino Uruguai",
          "Rua Cunha Barbosa",
          "Rua Santo Cristo",
          "Rua da Gamboa",
          "Rua Conselheiro Zacarias",
          "Rua Santo Cristo",
          "Rua Cardoso Marinho",
          "Rua Senador Pompeu",
          "Rua Coronel Audomaro Costa",
          "Rua Mariano Procópio",
          "Rua Coronel Audomaro Costa",
          "Rua do Livramento",
          "Rua do Livramento",
          "Rua Barão de São Félix",
          "Rua do Livramento",
          "Ladeira Livramento",
          "Rua Coronel Audomaro Costa",
          "Rua Sara"
         ],
         "xaxis": "x",
         "yaxis": "y"
        },
        {
         "alignmentgroup": "True",
         "bingroup": "x",
         "hovertemplate": "Ativo=Não<br>Endereço=%{x}<br>count=%{y}<extra></extra>",
         "legendgroup": "Não",
         "marker": {
          "color": "#EF553B",
          "pattern": {
           "shape": ""
          }
         },
         "name": "Não",
         "offsetgroup": "Não",
         "orientation": "v",
         "showlegend": true,
         "texttemplate": "%{value}",
         "type": "histogram",
         "x": [
          "Rua da América",
          "Rua da América",
          "Rua Barão de São Félix",
          "Rua do Livramento",
          "Rua Pedro Ernesto",
          "Rua Santo Cristo",
          "Rua da Gamboa",
          "Rua Marcílio Dias",
          "Rua do Livramento",
          "Rua Waldemar Dutra",
          "Rua Pedro Alves",
          "Rua Marquês de Pombal",
          "Rua Barão de São Félix",
          "Rua Barão de São Félix",
          "Rua Camerino",
          "Rua Pedro Alves",
          "Rua Senador Pompeu",
          "Rua Visconde da Gávea"
         ],
         "xaxis": "x",
         "yaxis": "y"
        }
       ],
       "layout": {
        "barmode": "group",
        "legend": {
         "title": {
          "text": "Ativo"
         },
         "tracegroupgap": 0
        },
        "margin": {
         "t": 60
        },
        "template": {
         "data": {
          "bar": [
           {
            "error_x": {
             "color": "#2a3f5f"
            },
            "error_y": {
             "color": "#2a3f5f"
            },
            "marker": {
             "line": {
              "color": "#E5ECF6",
              "width": 0.5
             },
             "pattern": {
              "fillmode": "overlay",
              "size": 10,
              "solidity": 0.2
             }
            },
            "type": "bar"
           }
          ],
          "barpolar": [
           {
            "marker": {
             "line": {
              "color": "#E5ECF6",
              "width": 0.5
             },
             "pattern": {
              "fillmode": "overlay",
              "size": 10,
              "solidity": 0.2
             }
            },
            "type": "barpolar"
           }
          ],
          "carpet": [
           {
            "aaxis": {
             "endlinecolor": "#2a3f5f",
             "gridcolor": "white",
             "linecolor": "white",
             "minorgridcolor": "white",
             "startlinecolor": "#2a3f5f"
            },
            "baxis": {
             "endlinecolor": "#2a3f5f",
             "gridcolor": "white",
             "linecolor": "white",
             "minorgridcolor": "white",
             "startlinecolor": "#2a3f5f"
            },
            "type": "carpet"
           }
          ],
          "choropleth": [
           {
            "colorbar": {
             "outlinewidth": 0,
             "ticks": ""
            },
            "type": "choropleth"
           }
          ],
          "contour": [
           {
            "colorbar": {
             "outlinewidth": 0,
             "ticks": ""
            },
            "colorscale": [
             [
              0,
              "#0d0887"
             ],
             [
              0.1111111111111111,
              "#46039f"
             ],
             [
              0.2222222222222222,
              "#7201a8"
             ],
             [
              0.3333333333333333,
              "#9c179e"
             ],
             [
              0.4444444444444444,
              "#bd3786"
             ],
             [
              0.5555555555555556,
              "#d8576b"
             ],
             [
              0.6666666666666666,
              "#ed7953"
             ],
             [
              0.7777777777777778,
              "#fb9f3a"
             ],
             [
              0.8888888888888888,
              "#fdca26"
             ],
             [
              1,
              "#f0f921"
             ]
            ],
            "type": "contour"
           }
          ],
          "contourcarpet": [
           {
            "colorbar": {
             "outlinewidth": 0,
             "ticks": ""
            },
            "type": "contourcarpet"
           }
          ],
          "heatmap": [
           {
            "colorbar": {
             "outlinewidth": 0,
             "ticks": ""
            },
            "colorscale": [
             [
              0,
              "#0d0887"
             ],
             [
              0.1111111111111111,
              "#46039f"
             ],
             [
              0.2222222222222222,
              "#7201a8"
             ],
             [
              0.3333333333333333,
              "#9c179e"
             ],
             [
              0.4444444444444444,
              "#bd3786"
             ],
             [
              0.5555555555555556,
              "#d8576b"
             ],
             [
              0.6666666666666666,
              "#ed7953"
             ],
             [
              0.7777777777777778,
              "#fb9f3a"
             ],
             [
              0.8888888888888888,
              "#fdca26"
             ],
             [
              1,
              "#f0f921"
             ]
            ],
            "type": "heatmap"
           }
          ],
          "heatmapgl": [
           {
            "colorbar": {
             "outlinewidth": 0,
             "ticks": ""
            },
            "colorscale": [
             [
              0,
              "#0d0887"
             ],
             [
              0.1111111111111111,
              "#46039f"
             ],
             [
              0.2222222222222222,
              "#7201a8"
             ],
             [
              0.3333333333333333,
              "#9c179e"
             ],
             [
              0.4444444444444444,
              "#bd3786"
             ],
             [
              0.5555555555555556,
              "#d8576b"
             ],
             [
              0.6666666666666666,
              "#ed7953"
             ],
             [
              0.7777777777777778,
              "#fb9f3a"
             ],
             [
              0.8888888888888888,
              "#fdca26"
             ],
             [
              1,
              "#f0f921"
             ]
            ],
            "type": "heatmapgl"
           }
          ],
          "histogram": [
           {
            "marker": {
             "pattern": {
              "fillmode": "overlay",
              "size": 10,
              "solidity": 0.2
             }
            },
            "type": "histogram"
           }
          ],
          "histogram2d": [
           {
            "colorbar": {
             "outlinewidth": 0,
             "ticks": ""
            },
            "colorscale": [
             [
              0,
              "#0d0887"
             ],
             [
              0.1111111111111111,
              "#46039f"
             ],
             [
              0.2222222222222222,
              "#7201a8"
             ],
             [
              0.3333333333333333,
              "#9c179e"
             ],
             [
              0.4444444444444444,
              "#bd3786"
             ],
             [
              0.5555555555555556,
              "#d8576b"
             ],
             [
              0.6666666666666666,
              "#ed7953"
             ],
             [
              0.7777777777777778,
              "#fb9f3a"
             ],
             [
              0.8888888888888888,
              "#fdca26"
             ],
             [
              1,
              "#f0f921"
             ]
            ],
            "type": "histogram2d"
           }
          ],
          "histogram2dcontour": [
           {
            "colorbar": {
             "outlinewidth": 0,
             "ticks": ""
            },
            "colorscale": [
             [
              0,
              "#0d0887"
             ],
             [
              0.1111111111111111,
              "#46039f"
             ],
             [
              0.2222222222222222,
              "#7201a8"
             ],
             [
              0.3333333333333333,
              "#9c179e"
             ],
             [
              0.4444444444444444,
              "#bd3786"
             ],
             [
              0.5555555555555556,
              "#d8576b"
             ],
             [
              0.6666666666666666,
              "#ed7953"
             ],
             [
              0.7777777777777778,
              "#fb9f3a"
             ],
             [
              0.8888888888888888,
              "#fdca26"
             ],
             [
              1,
              "#f0f921"
             ]
            ],
            "type": "histogram2dcontour"
           }
          ],
          "mesh3d": [
           {
            "colorbar": {
             "outlinewidth": 0,
             "ticks": ""
            },
            "type": "mesh3d"
           }
          ],
          "parcoords": [
           {
            "line": {
             "colorbar": {
              "outlinewidth": 0,
              "ticks": ""
             }
            },
            "type": "parcoords"
           }
          ],
          "pie": [
           {
            "automargin": true,
            "type": "pie"
           }
          ],
          "scatter": [
           {
            "fillpattern": {
             "fillmode": "overlay",
             "size": 10,
             "solidity": 0.2
            },
            "type": "scatter"
           }
          ],
          "scatter3d": [
           {
            "line": {
             "colorbar": {
              "outlinewidth": 0,
              "ticks": ""
             }
            },
            "marker": {
             "colorbar": {
              "outlinewidth": 0,
              "ticks": ""
             }
            },
            "type": "scatter3d"
           }
          ],
          "scattercarpet": [
           {
            "marker": {
             "colorbar": {
              "outlinewidth": 0,
              "ticks": ""
             }
            },
            "type": "scattercarpet"
           }
          ],
          "scattergeo": [
           {
            "marker": {
             "colorbar": {
              "outlinewidth": 0,
              "ticks": ""
             }
            },
            "type": "scattergeo"
           }
          ],
          "scattergl": [
           {
            "marker": {
             "colorbar": {
              "outlinewidth": 0,
              "ticks": ""
             }
            },
            "type": "scattergl"
           }
          ],
          "scattermapbox": [
           {
            "marker": {
             "colorbar": {
              "outlinewidth": 0,
              "ticks": ""
             }
            },
            "type": "scattermapbox"
           }
          ],
          "scatterpolar": [
           {
            "marker": {
             "colorbar": {
              "outlinewidth": 0,
              "ticks": ""
             }
            },
            "type": "scatterpolar"
           }
          ],
          "scatterpolargl": [
           {
            "marker": {
             "colorbar": {
              "outlinewidth": 0,
              "ticks": ""
             }
            },
            "type": "scatterpolargl"
           }
          ],
          "scatterternary": [
           {
            "marker": {
             "colorbar": {
              "outlinewidth": 0,
              "ticks": ""
             }
            },
            "type": "scatterternary"
           }
          ],
          "surface": [
           {
            "colorbar": {
             "outlinewidth": 0,
             "ticks": ""
            },
            "colorscale": [
             [
              0,
              "#0d0887"
             ],
             [
              0.1111111111111111,
              "#46039f"
             ],
             [
              0.2222222222222222,
              "#7201a8"
             ],
             [
              0.3333333333333333,
              "#9c179e"
             ],
             [
              0.4444444444444444,
              "#bd3786"
             ],
             [
              0.5555555555555556,
              "#d8576b"
             ],
             [
              0.6666666666666666,
              "#ed7953"
             ],
             [
              0.7777777777777778,
              "#fb9f3a"
             ],
             [
              0.8888888888888888,
              "#fdca26"
             ],
             [
              1,
              "#f0f921"
             ]
            ],
            "type": "surface"
           }
          ],
          "table": [
           {
            "cells": {
             "fill": {
              "color": "#EBF0F8"
             },
             "line": {
              "color": "white"
             }
            },
            "header": {
             "fill": {
              "color": "#C8D4E3"
             },
             "line": {
              "color": "white"
             }
            },
            "type": "table"
           }
          ]
         },
         "layout": {
          "annotationdefaults": {
           "arrowcolor": "#2a3f5f",
           "arrowhead": 0,
           "arrowwidth": 1
          },
          "autotypenumbers": "strict",
          "coloraxis": {
           "colorbar": {
            "outlinewidth": 0,
            "ticks": ""
           }
          },
          "colorscale": {
           "diverging": [
            [
             0,
             "#8e0152"
            ],
            [
             0.1,
             "#c51b7d"
            ],
            [
             0.2,
             "#de77ae"
            ],
            [
             0.3,
             "#f1b6da"
            ],
            [
             0.4,
             "#fde0ef"
            ],
            [
             0.5,
             "#f7f7f7"
            ],
            [
             0.6,
             "#e6f5d0"
            ],
            [
             0.7,
             "#b8e186"
            ],
            [
             0.8,
             "#7fbc41"
            ],
            [
             0.9,
             "#4d9221"
            ],
            [
             1,
             "#276419"
            ]
           ],
           "sequential": [
            [
             0,
             "#0d0887"
            ],
            [
             0.1111111111111111,
             "#46039f"
            ],
            [
             0.2222222222222222,
             "#7201a8"
            ],
            [
             0.3333333333333333,
             "#9c179e"
            ],
            [
             0.4444444444444444,
             "#bd3786"
            ],
            [
             0.5555555555555556,
             "#d8576b"
            ],
            [
             0.6666666666666666,
             "#ed7953"
            ],
            [
             0.7777777777777778,
             "#fb9f3a"
            ],
            [
             0.8888888888888888,
             "#fdca26"
            ],
            [
             1,
             "#f0f921"
            ]
           ],
           "sequentialminus": [
            [
             0,
             "#0d0887"
            ],
            [
             0.1111111111111111,
             "#46039f"
            ],
            [
             0.2222222222222222,
             "#7201a8"
            ],
            [
             0.3333333333333333,
             "#9c179e"
            ],
            [
             0.4444444444444444,
             "#bd3786"
            ],
            [
             0.5555555555555556,
             "#d8576b"
            ],
            [
             0.6666666666666666,
             "#ed7953"
            ],
            [
             0.7777777777777778,
             "#fb9f3a"
            ],
            [
             0.8888888888888888,
             "#fdca26"
            ],
            [
             1,
             "#f0f921"
            ]
           ]
          },
          "colorway": [
           "#636efa",
           "#EF553B",
           "#00cc96",
           "#ab63fa",
           "#FFA15A",
           "#19d3f3",
           "#FF6692",
           "#B6E880",
           "#FF97FF",
           "#FECB52"
          ],
          "font": {
           "color": "#2a3f5f"
          },
          "geo": {
           "bgcolor": "white",
           "lakecolor": "white",
           "landcolor": "#E5ECF6",
           "showlakes": true,
           "showland": true,
           "subunitcolor": "white"
          },
          "hoverlabel": {
           "align": "left"
          },
          "hovermode": "closest",
          "mapbox": {
           "style": "light"
          },
          "paper_bgcolor": "white",
          "plot_bgcolor": "#E5ECF6",
          "polar": {
           "angularaxis": {
            "gridcolor": "white",
            "linecolor": "white",
            "ticks": ""
           },
           "bgcolor": "#E5ECF6",
           "radialaxis": {
            "gridcolor": "white",
            "linecolor": "white",
            "ticks": ""
           }
          },
          "scene": {
           "xaxis": {
            "backgroundcolor": "#E5ECF6",
            "gridcolor": "white",
            "gridwidth": 2,
            "linecolor": "white",
            "showbackground": true,
            "ticks": "",
            "zerolinecolor": "white"
           },
           "yaxis": {
            "backgroundcolor": "#E5ECF6",
            "gridcolor": "white",
            "gridwidth": 2,
            "linecolor": "white",
            "showbackground": true,
            "ticks": "",
            "zerolinecolor": "white"
           },
           "zaxis": {
            "backgroundcolor": "#E5ECF6",
            "gridcolor": "white",
            "gridwidth": 2,
            "linecolor": "white",
            "showbackground": true,
            "ticks": "",
            "zerolinecolor": "white"
           }
          },
          "shapedefaults": {
           "line": {
            "color": "#2a3f5f"
           }
          },
          "ternary": {
           "aaxis": {
            "gridcolor": "white",
            "linecolor": "white",
            "ticks": ""
           },
           "baxis": {
            "gridcolor": "white",
            "linecolor": "white",
            "ticks": ""
           },
           "bgcolor": "#E5ECF6",
           "caxis": {
            "gridcolor": "white",
            "linecolor": "white",
            "ticks": ""
           }
          },
          "title": {
           "x": 0.05
          },
          "xaxis": {
           "automargin": true,
           "gridcolor": "white",
           "linecolor": "white",
           "ticks": "",
           "title": {
            "standoff": 15
           },
           "zerolinecolor": "white",
           "zerolinewidth": 2
          },
          "yaxis": {
           "automargin": true,
           "gridcolor": "white",
           "linecolor": "white",
           "ticks": "",
           "title": {
            "standoff": 15
           },
           "zerolinecolor": "white",
           "zerolinewidth": 2
          }
         }
        },
        "xaxis": {
         "anchor": "y",
         "domain": [
          0,
          1
         ],
         "title": {
          "text": "Endereço"
         }
        },
        "yaxis": {
         "anchor": "x",
         "domain": [
          0,
          1
         ],
         "title": {
          "text": "count"
         }
        }
       }
      },
      "text/html": [
       "<div>                            <div id=\"8c1c44b2-3548-4396-bc93-ce8987ed1cdd\" class=\"plotly-graph-div\" style=\"height:525px; width:100%;\"></div>            <script type=\"text/javascript\">                require([\"plotly\"], function(Plotly) {                    window.PLOTLYENV=window.PLOTLYENV || {};                                    if (document.getElementById(\"8c1c44b2-3548-4396-bc93-ce8987ed1cdd\")) {                    Plotly.newPlot(                        \"8c1c44b2-3548-4396-bc93-ce8987ed1cdd\",                        [{\"alignmentgroup\":\"True\",\"bingroup\":\"x\",\"hovertemplate\":\"Ativo=Sim\\u003cbr\\u003eEndere\\u00e7o=%{x}\\u003cbr\\u003ecount=%{y}\\u003cextra\\u003e\\u003c\\u002fextra\\u003e\",\"legendgroup\":\"Sim\",\"marker\":{\"color\":\"#636efa\",\"pattern\":{\"shape\":\"\"}},\"name\":\"Sim\",\"offsetgroup\":\"Sim\",\"orientation\":\"v\",\"showlegend\":true,\"texttemplate\":\"%{value}\",\"x\":[\"Rua do Monte\",\"Rua Senador Pompeu\",\"Rua da Am\\u00e9rica\",\"Rua da Bica\",\"Rua Costa Ferreira\",\"Rua Conselheiro Zacarias\",\"Rua da Gamboa\",\"Rua Para\\u00edba\",\"Rua Bar\\u00e3o de S\\u00e3o F\\u00e9lix\",\"Ladeira Livramento\",\"Rua Cunha Barbosa\",\"Rua Grota\",\"Rua do Pinto\",\"Rua Bar\\u00e3o da Gamboa\",\"Rua da Am\\u00e9rica\",\"Rua Vidal de Negreiros\",\"Largo Cruzeiro\",\"Rua Santo Cristo\",\"Ladeira Morro da Sa\\u00fade\",\"Rua Coronel Audomaro Costa\",\"Rua Bar\\u00e3o de S\\u00e3o F\\u00e9lix\",\"Ladeira do Barroso\",\"Rua Bar\\u00e3o de S\\u00e3o F\\u00e9lix\",\"Rua Dona Bela\",\"Rua Bento Teixeira\",\"Rua Coronel Audomaro Costa\",\"Ladeira Morro da Sa\\u00fade\",\"Rua Mariano Proc\\u00f3pio\",\"Rua da Am\\u00e9rica\",\"Rua Bar\\u00e3o de S\\u00e3o F\\u00e9lix\",\"Rua Rego Barros\",\"Rua Bento Teixeira\",\"Rua dona Nair\",\"Rua Nabuco de Freitas\",\"Rua Nabuco de Freitas\",\"Rua do Livramento\",\"Rua da Am\\u00e9rica\",\"Rua Costa Ferreira\",\"Rua Ebroino Uruguai\",\"Rua Mont Alverne\",\"Rua Rego Barros\",\"Ladeira do Barroso\",\"Gasparina\",\"Rua Bento Ribeiro\",\"Ladeira Livramento\",\"Ladeira do Barroso\",\"Rua Santo Cristo\",\"Ladeira do Faria\",\"Rua Cardoso Marinho\",\"Travessa S\\u00e3o Diogo\",\"Beco da Bica\",\"Ladeira do Barroso\",\"Rua da Bica\",\"Rua Ana Mascarenhas\",\"Rua da Gamboa\",\"Rua Leandro Martins\",\"Rua Rivadavia Correia\",\"Rua Santo Cristo\",\"Rua Coronel Audomaro Costa\",\"Avenida Marechal Floriano\",\"Rua do Prop\\u00f3sito\",\"Rua Santo Cristo\",\"Beco das Escadinhas do Livramento\",\"Rua Sara\",\"Rua Deolinda\",\"Ladeira do Faria\",\"Rua da Am\\u00e9rica\",\"Rua Marc\\u00edlio Dias\",\"Rua Santo Cristo\",\"Rua do Monte\",\"Travessa da Felicidade\",\"Rua da Gamboa\",\"Travessa da Felicidade\",\"Ladeira Livramento\",\"Rua Moreira Pinto\",\"Rua Marqu\\u00eas de Sapuca\\u00ed\",\"Rua do Prop\\u00f3sito\",\"Rua Pedro Alves\",\"Rua Rego Barros\",\"Rua Vidal de Negreiros\",\"Rua do Monte\",\"Rua Ebroino Uruguai\",\"Rua Cunha Barbosa\",\"Rua Dona Lucia\",\"Rua da Am\\u00e9rica\",\"Ladeira Livramento\",\"Rua Bento Teixeira\",\"Ladeira do Faria\",\"Rua Santo Cristo\",\"Rua Pedro Alves\",\"Rua da Am\\u00e9rica\",\"Rua do Cruzeiro\",\"Ladeira do Faria\",\"Rua Gasparina\",\"Rua do Livramento\",\"Ladeira Morro do Valongo\",\"Rua Santo Cristo\",\"Rua Cardoso Marinho\",\"Rua Bar\\u00e3o de S\\u00e3o F\\u00e9lix\",\"Rua Ebroino Uruguai\",\"Rua Moreira Pinto\",\"Travessa da Felicidade\",\"Travessa S\\u00e3o Diogo\",\"Rua Marc\\u00edlio Dias\",\"Rua Ebroino Uruguai\",\"Rua Bento Teixeira\",\"Ladeira Madre de Deus\",\"Rua Ebroino Uruguai\",\"Travessa S\\u00e3o Diogo\",\"Ladeira Livramento\",\"Rua Bento Teixeira\",\"Avenida Marechal Floriano\",\"Rua Le\\u00f4ncio de Albuquerque\",\"Rua Nabuco de Freitas\",\"Ladeira do Barroso\",\"Rua Visconde da G\\u00e1vea\",\"Rua Alfredo Dolabela Portela\",\"Beco das Escadinhas do Livramento\",\"Rua Macedo J\\u00fanior\",\"Rua Pedro Alves\",\"Rua Bento Ribeiro\",\"Rua Le\\u00f4ncio de Albuquerque\",\"Rua Pedro Alves\",\"Rua da Gamboa\",\"Ladeira Livramento\",\"Rua do Monte\",\"Rua Rivadavia Correia\",\"Rua Conselheiro Zacarias\",\"Rua da Am\\u00e9rica\",\"Rua Nabuco de Freitas\",\"Rua Santo Cristo\",\"Rua da Am\\u00e9rica\",\"Rua Santo Cristo\",\"Ladeira Livramento\",\"Rua do Livramento\",\"Rua da Am\\u00e9rica\",\"Rua da Gamboa\",\"Rua da Am\\u00e9rica\",\"Rua Cruzeiro\",\"Rua Santo Cristo\",\"Ladeira do Barroso\",\"Ladeira do Barroso\",\"Rua da Am\\u00e9rica\",\"Rua Santo Cristo\",\"Ladeira Madre de Deus\",\"Ladeira Livramento\",\"Ladeira do Faria\",\"Rua Carlos Gomes\",\"Ladeira Morro da Sa\\u00fade\",\"Beco das Escadinhas do Livramento\",\"Ladeira do Barroso\",\"Rua Alfredo Dolabela Portela\",\"Rua Senador Pompeu\",\"Rua da Gamboa\",\"Travessa da Felicidade\",\"Rua Rego Barros\",\"Rua Bar\\u00e3o de S\\u00e3o F\\u00e9lix\",\"Rua da Am\\u00e9rica\",\"Beco das Escadinhas do Livramento\",\"Rua Bar\\u00e3o de S\\u00e3o F\\u00e9lix\",\"Rua Silvino Montenegro\",\"Rua Le\\u00f4ncio de Albuquerque\",\"Rua Senador Pompeu\",\"Rua Alfredo Dolabela Portela\",\"Ladeira do Faria\",\"Rua Rego Barros\",\"Rua Ebroino Uruguai\",\"Ladeira do Faria\",\"Rua Santo Cristo\",\"Rua do Livramento\",\"Rua Grota\",\"Beco das Escadinhas do Livramento\",\"Rua Conselheiro Zacarias\",\"Rua Bar\\u00e3o de S\\u00e3o F\\u00e9lix\",\"Rua Cardoso Marinho\",\"Rua Costa Ferreira\",\"Avenida Venezuela\",\"Ladeira Madre de Deus\",\"Ladeira do Barroso\",\"Rua Rivadavia Correia\",\"Rua Farnese\",\"Rua Bento Ribeiro\",\"Rua do Livramento\",\"Rua Coronel Audomaro Costa\",\"Rua Rosa Sai\\u00e3o\",\"Rua do Monte\",\"Rua Coronel Audomaro Costa\",\"Rua Alfredo Dolabela Portela\",\"Rua Bar\\u00e3o de S\\u00e3o F\\u00e9lix\",\"Rua Capit\\u00e3o Sena\",\"Rua Moreira Pinto\",\"Rua da Am\\u00e9rica\",\"Rua Bar\\u00e3o de S\\u00e3o F\\u00e9lix\",\"Rua Bento Ribeiro\",\"Rua da Gamboa\",\"Travessa da Felicidade\",\"Travessa S\\u00e3o Diogo\",\"Ladeira do Faria\",\"Rua Cardoso Marinho\",\"Rua da Am\\u00e9rica\",\"Rua Bento Teixeira\",\"Rua Rivadavia Correia\",\"Rua do Prop\\u00f3sito\",\"Rua Bar\\u00e3o de S\\u00e3o F\\u00e9lix\",\"Rua Macedo Junior\",\"Rua Le\\u00f4ncio de Albuquerque\",\"Rua do Prop\\u00f3sito\",\"Ladeira do Faria\",\"Rua Senador Pompeu\",\"Rua da Uni\\u00e3o\",\"Rua Coronel Audomaro Costa\",\"Travessa Brito Teixeira\",\"Rua Rego Barros\",\"Rua do Prop\\u00f3sito\",\"Rua Ebroino Uruguai\",\"Rua Santo Cristo\",\"Ladeira Livramento\",\"Rua Bar\\u00e3o de S\\u00e3o F\\u00e9lix\",\"Rua do Monte\",\"Ladeira do Barroso\",\"Rua Pedro Alves\",\"Rua da Am\\u00e9rica\",\"Rua Costa Ferreira\",\"Ladeira do Faria\",\"Rua Ebroino Uruguai\",\"Travessa S\\u00e3o Diogo\",\"Ladeira do Faria\",\"Ladeira do Barroso\",\"Rua da Am\\u00e9rica\",\"Rua Vidal de Negreiros\",\"Rua Visconde da G\\u00e1vea\",\"Ladeira do Barroso\",\"Ladeira Livramento\",\"Rua Rego Barros\",\"Ladeira do Faria\",\"Rua Camerino\",\"Rua Ant\\u00f4nio Lage\",\"Rua Le\\u00f4ncio de Albuquerque\",\"Rua Senador Pompeu\",\"Rua Cardoso Marinho\",\"Ladeira do Barroso\",\"Rua do Livramento\",\"Rua do Livramento\",\"Rua Rosa Sai\\u00e3o\",\"Rua Cardoso Marinho\",\"Ladeira do Barroso\",\"Rua do Livramento\",\"Rua Senador Pompeu\",\"Rua Costa Ferreira\",\"Ladeira Morro da Sa\\u00fade\",\"Rua Costa Barros\",\"Rua do Prop\\u00f3sito\",\"Rua Nabuco de Freitas\",\"Rua Marc\\u00edlio Dias\",\"Rua Bar\\u00e3o de S\\u00e3o F\\u00e9lix\",\"Rua Rego Barros\",\"Rua Senador Pompeu\",\"Ladeira Livramento\",\"Rua da Am\\u00e9rica\",\"Rua Sara\",\"Ladeira Morro da Sa\\u00fade\",\"Rua Pedro Ernesto\",\"Ladeira Livramento\",\"Ladeira Livramento\",\"Ladeira Livramento\",\"Rua Ebroino Uruguai\",\"Ladeira do Barroso\",\"Rua do Monte\",\"Rua Senador Pompeu\",\"Rua Costa Ferreira\",\"Ladeira Madre de Deus\",\"Rua Miguel Sai\\u00e3o\",\"Ladeira do Faria\",\"Rua do Monte\",\"Rua Marc\\u00edlio Dias\",\"Rua Alfredo Dolabela Portela\",\"Rua da Gamboa\",\"Rua Cunha Barbosa\",\"Rua Cardoso Marinho\",\"Rua Bento Ribeiro\",\"Rua Bar\\u00e3o de S\\u00e3o F\\u00e9lix\",\"Travessa da Felicidade\",\"Rua Nabuco de Freitas\",\"Rua da Am\\u00e9rica 81\",\"Rua Jo\\u00e3o Cardoso\",\"Rua do Pinto\",\"Rua Conselheiro Zacarias\",\"Rua Mont Alverne\",\"Rua da Gamboa\",\"Rua Senador Pompeu\",\"Rua Senador Pompeu\",\"Rua Major Sai\\u00e3o\",\"Rua Saldanha Marinho\",\"Rua Pedro Alves\",\"Rua Bento Ribeiro\",\"Rua Cunha Barbosa\",\"Ladeira do Barroso\",\"Ladeira do Faria\",\"Rua Joaquim Esposel\",\"Rua Capit\\u00e3o Sena\",\"Rua Bar\\u00e3o de S\\u00e3o F\\u00e9lix\",\"Avenida Presidente Vargas\",\"Rua do Pinto\",\"Rua Major Sai\\u00e3o\",\"Ladeira do Faria\",\"Ladeira do Barroso\",\"Rua Bar\\u00e3o de S\\u00e3o F\\u00e9lix\",\"Rua Nabuco de Freitas\",\"Ladeira do Barroso\",\"Rua Cruzeiro\",\"Avenida Presidente Vargas\",\"Rua Costa Barros\",\"Rua Jo\\u00e3o \\u00c1lvares\",\"Ladeira Livramento\",\"Rua da Concei\\u00e7\\u00e3o\",\"Rua da Am\\u00e9rica 81\",\"Rua da Concei\\u00e7\\u00e3o\",\"Rua Conselheiro Zacarias\",\"Rua Pedro Alves\",\"Rua Costa Ferreira\",\"Travessa da Odete\",\"Ladeira do Barroso\",\"Rua Carlos Gomes\",\"Rua Bar\\u00e3o da Gamboa\",\"Rua Atilia\",\"Rua Cruzeiro\",\"Rua Santo Cristo\",\"Rua Atilia\",\"Rua Costa Ferreira\",\"Rua do Livramento\",\"Rua Santo Cristo\",\"Rua Sacadura Cabral\",\"Rua Ebroino Uruguai\",\"Rua Cunha Barbosa\",\"Rua Santo Cristo\",\"Rua da Gamboa\",\"Rua Conselheiro Zacarias\",\"Rua Santo Cristo\",\"Rua Cardoso Marinho\",\"Rua Senador Pompeu\",\"Rua Coronel Audomaro Costa\",\"Rua Mariano Proc\\u00f3pio\",\"Rua Coronel Audomaro Costa\",\"Rua do Livramento\",\"Rua do Livramento\",\"Rua Bar\\u00e3o de S\\u00e3o F\\u00e9lix\",\"Rua do Livramento\",\"Ladeira Livramento\",\"Rua Coronel Audomaro Costa\",\"Rua Sara\"],\"xaxis\":\"x\",\"yaxis\":\"y\",\"type\":\"histogram\"},{\"alignmentgroup\":\"True\",\"bingroup\":\"x\",\"hovertemplate\":\"Ativo=N\\u00e3o\\u003cbr\\u003eEndere\\u00e7o=%{x}\\u003cbr\\u003ecount=%{y}\\u003cextra\\u003e\\u003c\\u002fextra\\u003e\",\"legendgroup\":\"N\\u00e3o\",\"marker\":{\"color\":\"#EF553B\",\"pattern\":{\"shape\":\"\"}},\"name\":\"N\\u00e3o\",\"offsetgroup\":\"N\\u00e3o\",\"orientation\":\"v\",\"showlegend\":true,\"texttemplate\":\"%{value}\",\"x\":[\"Rua da Am\\u00e9rica\",\"Rua da Am\\u00e9rica\",\"Rua Bar\\u00e3o de S\\u00e3o F\\u00e9lix\",\"Rua do Livramento\",\"Rua Pedro Ernesto\",\"Rua Santo Cristo\",\"Rua da Gamboa\",\"Rua Marc\\u00edlio Dias\",\"Rua do Livramento\",\"Rua Waldemar Dutra\",\"Rua Pedro Alves\",\"Rua Marqu\\u00eas de Pombal\",\"Rua Bar\\u00e3o de S\\u00e3o F\\u00e9lix\",\"Rua Bar\\u00e3o de S\\u00e3o F\\u00e9lix\",\"Rua Camerino\",\"Rua Pedro Alves\",\"Rua Senador Pompeu\",\"Rua Visconde da G\\u00e1vea\"],\"xaxis\":\"x\",\"yaxis\":\"y\",\"type\":\"histogram\"}],                        {\"template\":{\"data\":{\"histogram2dcontour\":[{\"type\":\"histogram2dcontour\",\"colorbar\":{\"outlinewidth\":0,\"ticks\":\"\"},\"colorscale\":[[0.0,\"#0d0887\"],[0.1111111111111111,\"#46039f\"],[0.2222222222222222,\"#7201a8\"],[0.3333333333333333,\"#9c179e\"],[0.4444444444444444,\"#bd3786\"],[0.5555555555555556,\"#d8576b\"],[0.6666666666666666,\"#ed7953\"],[0.7777777777777778,\"#fb9f3a\"],[0.8888888888888888,\"#fdca26\"],[1.0,\"#f0f921\"]]}],\"choropleth\":[{\"type\":\"choropleth\",\"colorbar\":{\"outlinewidth\":0,\"ticks\":\"\"}}],\"histogram2d\":[{\"type\":\"histogram2d\",\"colorbar\":{\"outlinewidth\":0,\"ticks\":\"\"},\"colorscale\":[[0.0,\"#0d0887\"],[0.1111111111111111,\"#46039f\"],[0.2222222222222222,\"#7201a8\"],[0.3333333333333333,\"#9c179e\"],[0.4444444444444444,\"#bd3786\"],[0.5555555555555556,\"#d8576b\"],[0.6666666666666666,\"#ed7953\"],[0.7777777777777778,\"#fb9f3a\"],[0.8888888888888888,\"#fdca26\"],[1.0,\"#f0f921\"]]}],\"heatmap\":[{\"type\":\"heatmap\",\"colorbar\":{\"outlinewidth\":0,\"ticks\":\"\"},\"colorscale\":[[0.0,\"#0d0887\"],[0.1111111111111111,\"#46039f\"],[0.2222222222222222,\"#7201a8\"],[0.3333333333333333,\"#9c179e\"],[0.4444444444444444,\"#bd3786\"],[0.5555555555555556,\"#d8576b\"],[0.6666666666666666,\"#ed7953\"],[0.7777777777777778,\"#fb9f3a\"],[0.8888888888888888,\"#fdca26\"],[1.0,\"#f0f921\"]]}],\"heatmapgl\":[{\"type\":\"heatmapgl\",\"colorbar\":{\"outlinewidth\":0,\"ticks\":\"\"},\"colorscale\":[[0.0,\"#0d0887\"],[0.1111111111111111,\"#46039f\"],[0.2222222222222222,\"#7201a8\"],[0.3333333333333333,\"#9c179e\"],[0.4444444444444444,\"#bd3786\"],[0.5555555555555556,\"#d8576b\"],[0.6666666666666666,\"#ed7953\"],[0.7777777777777778,\"#fb9f3a\"],[0.8888888888888888,\"#fdca26\"],[1.0,\"#f0f921\"]]}],\"contourcarpet\":[{\"type\":\"contourcarpet\",\"colorbar\":{\"outlinewidth\":0,\"ticks\":\"\"}}],\"contour\":[{\"type\":\"contour\",\"colorbar\":{\"outlinewidth\":0,\"ticks\":\"\"},\"colorscale\":[[0.0,\"#0d0887\"],[0.1111111111111111,\"#46039f\"],[0.2222222222222222,\"#7201a8\"],[0.3333333333333333,\"#9c179e\"],[0.4444444444444444,\"#bd3786\"],[0.5555555555555556,\"#d8576b\"],[0.6666666666666666,\"#ed7953\"],[0.7777777777777778,\"#fb9f3a\"],[0.8888888888888888,\"#fdca26\"],[1.0,\"#f0f921\"]]}],\"surface\":[{\"type\":\"surface\",\"colorbar\":{\"outlinewidth\":0,\"ticks\":\"\"},\"colorscale\":[[0.0,\"#0d0887\"],[0.1111111111111111,\"#46039f\"],[0.2222222222222222,\"#7201a8\"],[0.3333333333333333,\"#9c179e\"],[0.4444444444444444,\"#bd3786\"],[0.5555555555555556,\"#d8576b\"],[0.6666666666666666,\"#ed7953\"],[0.7777777777777778,\"#fb9f3a\"],[0.8888888888888888,\"#fdca26\"],[1.0,\"#f0f921\"]]}],\"mesh3d\":[{\"type\":\"mesh3d\",\"colorbar\":{\"outlinewidth\":0,\"ticks\":\"\"}}],\"scatter\":[{\"fillpattern\":{\"fillmode\":\"overlay\",\"size\":10,\"solidity\":0.2},\"type\":\"scatter\"}],\"parcoords\":[{\"type\":\"parcoords\",\"line\":{\"colorbar\":{\"outlinewidth\":0,\"ticks\":\"\"}}}],\"scatterpolargl\":[{\"type\":\"scatterpolargl\",\"marker\":{\"colorbar\":{\"outlinewidth\":0,\"ticks\":\"\"}}}],\"bar\":[{\"error_x\":{\"color\":\"#2a3f5f\"},\"error_y\":{\"color\":\"#2a3f5f\"},\"marker\":{\"line\":{\"color\":\"#E5ECF6\",\"width\":0.5},\"pattern\":{\"fillmode\":\"overlay\",\"size\":10,\"solidity\":0.2}},\"type\":\"bar\"}],\"scattergeo\":[{\"type\":\"scattergeo\",\"marker\":{\"colorbar\":{\"outlinewidth\":0,\"ticks\":\"\"}}}],\"scatterpolar\":[{\"type\":\"scatterpolar\",\"marker\":{\"colorbar\":{\"outlinewidth\":0,\"ticks\":\"\"}}}],\"histogram\":[{\"marker\":{\"pattern\":{\"fillmode\":\"overlay\",\"size\":10,\"solidity\":0.2}},\"type\":\"histogram\"}],\"scattergl\":[{\"type\":\"scattergl\",\"marker\":{\"colorbar\":{\"outlinewidth\":0,\"ticks\":\"\"}}}],\"scatter3d\":[{\"type\":\"scatter3d\",\"line\":{\"colorbar\":{\"outlinewidth\":0,\"ticks\":\"\"}},\"marker\":{\"colorbar\":{\"outlinewidth\":0,\"ticks\":\"\"}}}],\"scattermapbox\":[{\"type\":\"scattermapbox\",\"marker\":{\"colorbar\":{\"outlinewidth\":0,\"ticks\":\"\"}}}],\"scatterternary\":[{\"type\":\"scatterternary\",\"marker\":{\"colorbar\":{\"outlinewidth\":0,\"ticks\":\"\"}}}],\"scattercarpet\":[{\"type\":\"scattercarpet\",\"marker\":{\"colorbar\":{\"outlinewidth\":0,\"ticks\":\"\"}}}],\"carpet\":[{\"aaxis\":{\"endlinecolor\":\"#2a3f5f\",\"gridcolor\":\"white\",\"linecolor\":\"white\",\"minorgridcolor\":\"white\",\"startlinecolor\":\"#2a3f5f\"},\"baxis\":{\"endlinecolor\":\"#2a3f5f\",\"gridcolor\":\"white\",\"linecolor\":\"white\",\"minorgridcolor\":\"white\",\"startlinecolor\":\"#2a3f5f\"},\"type\":\"carpet\"}],\"table\":[{\"cells\":{\"fill\":{\"color\":\"#EBF0F8\"},\"line\":{\"color\":\"white\"}},\"header\":{\"fill\":{\"color\":\"#C8D4E3\"},\"line\":{\"color\":\"white\"}},\"type\":\"table\"}],\"barpolar\":[{\"marker\":{\"line\":{\"color\":\"#E5ECF6\",\"width\":0.5},\"pattern\":{\"fillmode\":\"overlay\",\"size\":10,\"solidity\":0.2}},\"type\":\"barpolar\"}],\"pie\":[{\"automargin\":true,\"type\":\"pie\"}]},\"layout\":{\"autotypenumbers\":\"strict\",\"colorway\":[\"#636efa\",\"#EF553B\",\"#00cc96\",\"#ab63fa\",\"#FFA15A\",\"#19d3f3\",\"#FF6692\",\"#B6E880\",\"#FF97FF\",\"#FECB52\"],\"font\":{\"color\":\"#2a3f5f\"},\"hovermode\":\"closest\",\"hoverlabel\":{\"align\":\"left\"},\"paper_bgcolor\":\"white\",\"plot_bgcolor\":\"#E5ECF6\",\"polar\":{\"bgcolor\":\"#E5ECF6\",\"angularaxis\":{\"gridcolor\":\"white\",\"linecolor\":\"white\",\"ticks\":\"\"},\"radialaxis\":{\"gridcolor\":\"white\",\"linecolor\":\"white\",\"ticks\":\"\"}},\"ternary\":{\"bgcolor\":\"#E5ECF6\",\"aaxis\":{\"gridcolor\":\"white\",\"linecolor\":\"white\",\"ticks\":\"\"},\"baxis\":{\"gridcolor\":\"white\",\"linecolor\":\"white\",\"ticks\":\"\"},\"caxis\":{\"gridcolor\":\"white\",\"linecolor\":\"white\",\"ticks\":\"\"}},\"coloraxis\":{\"colorbar\":{\"outlinewidth\":0,\"ticks\":\"\"}},\"colorscale\":{\"sequential\":[[0.0,\"#0d0887\"],[0.1111111111111111,\"#46039f\"],[0.2222222222222222,\"#7201a8\"],[0.3333333333333333,\"#9c179e\"],[0.4444444444444444,\"#bd3786\"],[0.5555555555555556,\"#d8576b\"],[0.6666666666666666,\"#ed7953\"],[0.7777777777777778,\"#fb9f3a\"],[0.8888888888888888,\"#fdca26\"],[1.0,\"#f0f921\"]],\"sequentialminus\":[[0.0,\"#0d0887\"],[0.1111111111111111,\"#46039f\"],[0.2222222222222222,\"#7201a8\"],[0.3333333333333333,\"#9c179e\"],[0.4444444444444444,\"#bd3786\"],[0.5555555555555556,\"#d8576b\"],[0.6666666666666666,\"#ed7953\"],[0.7777777777777778,\"#fb9f3a\"],[0.8888888888888888,\"#fdca26\"],[1.0,\"#f0f921\"]],\"diverging\":[[0,\"#8e0152\"],[0.1,\"#c51b7d\"],[0.2,\"#de77ae\"],[0.3,\"#f1b6da\"],[0.4,\"#fde0ef\"],[0.5,\"#f7f7f7\"],[0.6,\"#e6f5d0\"],[0.7,\"#b8e186\"],[0.8,\"#7fbc41\"],[0.9,\"#4d9221\"],[1,\"#276419\"]]},\"xaxis\":{\"gridcolor\":\"white\",\"linecolor\":\"white\",\"ticks\":\"\",\"title\":{\"standoff\":15},\"zerolinecolor\":\"white\",\"automargin\":true,\"zerolinewidth\":2},\"yaxis\":{\"gridcolor\":\"white\",\"linecolor\":\"white\",\"ticks\":\"\",\"title\":{\"standoff\":15},\"zerolinecolor\":\"white\",\"automargin\":true,\"zerolinewidth\":2},\"scene\":{\"xaxis\":{\"backgroundcolor\":\"#E5ECF6\",\"gridcolor\":\"white\",\"linecolor\":\"white\",\"showbackground\":true,\"ticks\":\"\",\"zerolinecolor\":\"white\",\"gridwidth\":2},\"yaxis\":{\"backgroundcolor\":\"#E5ECF6\",\"gridcolor\":\"white\",\"linecolor\":\"white\",\"showbackground\":true,\"ticks\":\"\",\"zerolinecolor\":\"white\",\"gridwidth\":2},\"zaxis\":{\"backgroundcolor\":\"#E5ECF6\",\"gridcolor\":\"white\",\"linecolor\":\"white\",\"showbackground\":true,\"ticks\":\"\",\"zerolinecolor\":\"white\",\"gridwidth\":2}},\"shapedefaults\":{\"line\":{\"color\":\"#2a3f5f\"}},\"annotationdefaults\":{\"arrowcolor\":\"#2a3f5f\",\"arrowhead\":0,\"arrowwidth\":1},\"geo\":{\"bgcolor\":\"white\",\"landcolor\":\"#E5ECF6\",\"subunitcolor\":\"white\",\"showland\":true,\"showlakes\":true,\"lakecolor\":\"white\"},\"title\":{\"x\":0.05},\"mapbox\":{\"style\":\"light\"}}},\"xaxis\":{\"anchor\":\"y\",\"domain\":[0.0,1.0],\"title\":{\"text\":\"Endere\\u00e7o\"}},\"yaxis\":{\"anchor\":\"x\",\"domain\":[0.0,1.0],\"title\":{\"text\":\"count\"}},\"legend\":{\"title\":{\"text\":\"Ativo\"},\"tracegroupgap\":0},\"margin\":{\"t\":60},\"barmode\":\"group\"},                        {\"responsive\": true}                    ).then(function(){\n",
       "                            \n",
       "var gd = document.getElementById('8c1c44b2-3548-4396-bc93-ce8987ed1cdd');\n",
       "var x = new MutationObserver(function (mutations, observer) {{\n",
       "        var display = window.getComputedStyle(gd).display;\n",
       "        if (!display || display === 'none') {{\n",
       "            console.log([gd, 'removed!']);\n",
       "            Plotly.purge(gd);\n",
       "            observer.disconnect();\n",
       "        }}\n",
       "}});\n",
       "\n",
       "// Listen for the removal of the full notebook cells\n",
       "var notebookContainer = gd.closest('#notebook-container');\n",
       "if (notebookContainer) {{\n",
       "    x.observe(notebookContainer, {childList: true});\n",
       "}}\n",
       "\n",
       "// Listen for the clearing of the current output cell\n",
       "var outputEl = gd.closest('.output');\n",
       "if (outputEl) {{\n",
       "    x.observe(outputEl, {childList: true});\n",
       "}}\n",
       "\n",
       "                        })                };                });            </script>        </div>"
      ]
     },
     "metadata": {},
     "output_type": "display_data"
    }
   ],
   "source": [
    "px.histogram(dados,x='Endereço',text_auto=True,color='Ativo',barmode='group')"
   ]
  },
  {
   "cell_type": "code",
   "execution_count": 131,
   "metadata": {},
   "outputs": [],
   "source": [
    "import matplotlib.pyplot as plt\n",
    "dados['Data cadastro'] = pd.to_datetime(dados['Data cadastro'], format='%d-%m-%Y')"
   ]
  },
  {
   "cell_type": "code",
   "execution_count": 135,
   "metadata": {},
   "outputs": [],
   "source": [
    "dados_agrupados_mes = dados.groupby(pd.Grouper(key='Data cadastro', freq='ME')).size()"
   ]
  },
  {
   "cell_type": "code",
   "execution_count": 138,
   "metadata": {},
   "outputs": [
    {
     "data": {
      "application/vnd.plotly.v1+json": {
       "config": {
        "plotlyServerURL": "https://plot.ly"
       },
       "data": [
        {
         "alignmentgroup": "True",
         "bingroup": "x",
         "hovertemplate": "Ativo=Sim<br>Data cadastro=%{x}<br>count=%{y}<extra></extra>",
         "legendgroup": "Sim",
         "marker": {
          "color": "#636efa",
          "pattern": {
           "shape": ""
          }
         },
         "name": "Sim",
         "offsetgroup": "Sim",
         "orientation": "v",
         "showlegend": true,
         "texttemplate": "%{value}",
         "type": "histogram",
         "x": [
          "2023-07-01T00:00:00",
          "2023-07-04T00:00:00",
          "2023-07-05T00:00:00",
          "2023-07-06T00:00:00",
          "2023-07-06T00:00:00",
          "2023-07-06T00:00:00",
          "2023-07-07T00:00:00",
          "2023-07-07T00:00:00",
          "2023-07-07T00:00:00",
          "2023-07-07T00:00:00",
          "2023-07-08T00:00:00",
          "2023-07-08T00:00:00",
          "2023-07-10T00:00:00",
          "2023-07-11T00:00:00",
          "2023-07-11T00:00:00",
          "2023-07-11T00:00:00",
          "2023-07-12T00:00:00",
          "2023-07-12T00:00:00",
          "2023-07-13T00:00:00",
          "2023-07-14T00:00:00",
          "2023-07-15T00:00:00",
          "2023-07-15T00:00:00",
          "2023-07-17T00:00:00",
          "2023-07-17T00:00:00",
          "2023-07-18T00:00:00",
          "2023-07-19T00:00:00",
          "2023-07-20T00:00:00",
          "2023-07-20T00:00:00",
          "2023-07-21T00:00:00",
          "2023-07-21T00:00:00",
          "2023-07-21T00:00:00",
          "2023-07-22T00:00:00",
          "2023-07-24T00:00:00",
          "2023-07-24T00:00:00",
          "2023-07-24T00:00:00",
          "2023-07-25T00:00:00",
          "2023-07-25T00:00:00",
          "2023-07-25T00:00:00",
          "2023-07-26T00:00:00",
          "2023-07-26T00:00:00",
          "2023-07-26T00:00:00",
          "2023-07-27T00:00:00",
          "2023-07-27T00:00:00",
          "2023-07-27T00:00:00",
          "2023-07-28T00:00:00",
          "2023-07-28T00:00:00",
          "2023-07-28T00:00:00",
          "2023-08-01T00:00:00",
          "2023-08-02T00:00:00",
          "2023-08-02T00:00:00",
          "2023-08-04T00:00:00",
          "2023-08-04T00:00:00",
          "2023-08-05T00:00:00",
          "2023-08-07T00:00:00",
          "2023-08-08T00:00:00",
          "2023-08-08T00:00:00",
          "2023-08-08T00:00:00",
          "2023-08-09T00:00:00",
          "2023-08-10T00:00:00",
          "2023-08-10T00:00:00",
          "2023-08-10T00:00:00",
          "2023-08-11T00:00:00",
          "2023-08-15T00:00:00",
          "2023-08-15T00:00:00",
          "2023-08-16T00:00:00",
          "2023-08-16T00:00:00",
          "2023-08-16T00:00:00",
          "2023-08-17T00:00:00",
          "2023-08-18T00:00:00",
          "2023-08-19T00:00:00",
          "2023-08-21T00:00:00",
          "2023-08-21T00:00:00",
          "2023-08-23T00:00:00",
          "2023-08-23T00:00:00",
          "2023-08-23T00:00:00",
          "2023-08-23T00:00:00",
          "2023-08-24T00:00:00",
          "2023-08-24T00:00:00",
          "2023-08-24T00:00:00",
          "2023-08-24T00:00:00",
          "2023-08-25T00:00:00",
          "2023-08-26T00:00:00",
          "2023-08-26T00:00:00",
          "2023-08-28T00:00:00",
          "2023-08-28T00:00:00",
          "2023-08-29T00:00:00",
          "2023-08-30T00:00:00",
          "2023-09-02T00:00:00",
          "2023-09-04T00:00:00",
          "2023-09-04T00:00:00",
          "2023-09-05T00:00:00",
          "2023-09-05T00:00:00",
          "2023-09-08T00:00:00",
          "2023-09-08T00:00:00",
          "2023-09-08T00:00:00",
          "2023-09-09T00:00:00",
          "2023-09-09T00:00:00",
          "2023-09-09T00:00:00",
          "2023-09-11T00:00:00",
          "2023-09-13T00:00:00",
          "2023-09-14T00:00:00",
          "2023-09-18T00:00:00",
          "2023-09-18T00:00:00",
          "2023-09-18T00:00:00",
          "2023-09-19T00:00:00",
          "2023-09-19T00:00:00",
          "2023-09-21T00:00:00",
          "2023-09-21T00:00:00",
          "2023-09-25T00:00:00",
          "2023-09-25T00:00:00",
          "2023-09-26T00:00:00",
          "2023-09-26T00:00:00",
          "2023-09-26T00:00:00",
          "2023-09-26T00:00:00",
          "2023-09-26T00:00:00",
          "2023-09-27T00:00:00",
          "2023-09-27T00:00:00",
          "2023-09-28T00:00:00",
          "2023-09-29T00:00:00",
          "2023-09-30T00:00:00",
          "2023-09-30T00:00:00",
          "2023-10-02T00:00:00",
          "2023-10-02T00:00:00",
          "2023-10-03T00:00:00",
          "2023-10-03T00:00:00",
          "2023-10-04T00:00:00",
          "2023-10-04T00:00:00",
          "2023-10-06T00:00:00",
          "2023-10-06T00:00:00",
          "2023-10-07T00:00:00",
          "2023-10-08T00:00:00",
          "2023-10-09T00:00:00",
          "2023-10-09T00:00:00",
          "2023-10-10T00:00:00",
          "2023-10-13T00:00:00",
          "2023-10-13T00:00:00",
          "2023-10-16T00:00:00",
          "2023-10-16T00:00:00",
          "2023-10-16T00:00:00",
          "2023-10-17T00:00:00",
          "2023-10-17T00:00:00",
          "2023-10-18T00:00:00",
          "2023-10-18T00:00:00",
          "2023-10-18T00:00:00",
          "2023-10-20T00:00:00",
          "2023-10-23T00:00:00",
          "2023-10-23T00:00:00",
          "2023-10-23T00:00:00",
          "2023-10-24T00:00:00",
          "2023-10-25T00:00:00",
          "2023-10-25T00:00:00",
          "2023-10-25T00:00:00",
          "2023-10-26T00:00:00",
          "2023-10-30T00:00:00",
          "2023-10-31T00:00:00",
          "2023-11-02T00:00:00",
          "2023-11-03T00:00:00",
          "2023-11-03T00:00:00",
          "2023-11-06T00:00:00",
          "2023-11-06T00:00:00",
          "2023-11-06T00:00:00",
          "2023-11-06T00:00:00",
          "2023-11-06T00:00:00",
          "2023-11-07T00:00:00",
          "2023-11-08T00:00:00",
          "2023-11-10T00:00:00",
          "2023-11-11T00:00:00",
          "2023-11-11T00:00:00",
          "2023-11-15T00:00:00",
          "2023-11-17T00:00:00",
          "2023-11-21T00:00:00",
          "2023-11-21T00:00:00",
          "2023-11-22T00:00:00",
          "2023-11-23T00:00:00",
          "2023-11-24T00:00:00",
          "2023-11-25T00:00:00",
          "2023-11-27T00:00:00",
          "2023-11-27T00:00:00",
          "2023-12-01T00:00:00",
          "2023-12-02T00:00:00",
          "2023-12-02T00:00:00",
          "2023-12-04T00:00:00",
          "2023-12-04T00:00:00",
          "2023-12-05T00:00:00",
          "2023-12-05T00:00:00",
          "2023-12-05T00:00:00",
          "2023-12-08T00:00:00",
          "2023-12-08T00:00:00",
          "2023-12-08T00:00:00",
          "2023-12-14T00:00:00",
          "2023-12-15T00:00:00",
          "2023-12-15T00:00:00",
          "2023-12-16T00:00:00",
          "2023-12-18T00:00:00",
          "2023-12-19T00:00:00",
          "2023-12-19T00:00:00",
          "2023-12-20T00:00:00",
          "2023-12-20T00:00:00",
          "2023-12-24T00:00:00",
          "2023-12-27T00:00:00",
          "2023-12-27T00:00:00",
          "2023-12-27T00:00:00",
          "2023-12-28T00:00:00",
          "2023-12-28T00:00:00",
          "2023-12-28T00:00:00",
          "2023-12-28T00:00:00",
          "2024-01-03T00:00:00",
          "2024-01-03T00:00:00",
          "2024-01-03T00:00:00",
          "2024-01-04T00:00:00",
          "2024-01-04T00:00:00",
          "2024-01-08T00:00:00",
          "2024-01-08T00:00:00",
          "2024-01-08T00:00:00",
          "2024-01-08T00:00:00",
          "2024-01-09T00:00:00",
          "2024-01-10T00:00:00",
          "2024-01-10T00:00:00",
          "2024-01-11T00:00:00",
          "2024-01-11T00:00:00",
          "2024-01-12T00:00:00",
          "2024-01-13T00:00:00",
          "2024-01-17T00:00:00",
          "2024-01-18T00:00:00",
          "2024-01-20T00:00:00",
          "2024-01-22T00:00:00",
          "2024-01-23T00:00:00",
          "2024-01-24T00:00:00",
          "2024-01-26T00:00:00",
          "2024-01-26T00:00:00",
          "2024-01-26T00:00:00",
          "2024-02-02T00:00:00",
          "2024-02-02T00:00:00",
          "2024-02-02T00:00:00",
          "2024-02-03T00:00:00",
          "2024-02-03T00:00:00",
          "2024-02-06T00:00:00",
          "2024-02-07T00:00:00",
          "2024-02-07T00:00:00",
          "2024-02-07T00:00:00",
          "2024-02-08T00:00:00",
          "2024-02-08T00:00:00",
          "2024-02-09T00:00:00",
          "2024-02-14T00:00:00",
          "2024-02-14T00:00:00",
          "2024-02-15T00:00:00",
          "2024-02-15T00:00:00",
          "2024-02-15T00:00:00",
          "2024-02-15T00:00:00",
          "2024-02-16T00:00:00",
          "2024-02-17T00:00:00",
          "2024-02-19T00:00:00",
          "2024-02-19T00:00:00",
          "2024-02-20T00:00:00",
          "2024-02-20T00:00:00",
          "2024-02-20T00:00:00",
          "2024-02-21T00:00:00",
          "2024-02-22T00:00:00",
          "2024-02-23T00:00:00",
          "2024-02-23T00:00:00",
          "2024-02-23T00:00:00",
          "2024-02-26T00:00:00",
          "2024-02-26T00:00:00",
          "2024-02-27T00:00:00",
          "2024-02-27T00:00:00",
          "2024-02-28T00:00:00",
          "2024-02-28T00:00:00",
          "2024-02-29T00:00:00",
          "2024-03-02T00:00:00",
          "2024-03-02T00:00:00",
          "2024-03-05T00:00:00",
          "2024-03-05T00:00:00",
          "2024-03-05T00:00:00",
          "2024-03-07T00:00:00",
          "2024-03-08T00:00:00",
          "2024-03-08T00:00:00",
          "2024-03-08T00:00:00",
          "2024-03-09T00:00:00",
          "2024-03-11T00:00:00",
          "2024-03-11T00:00:00",
          "2024-03-12T00:00:00",
          "2024-03-13T00:00:00",
          "2024-03-14T00:00:00",
          "2024-03-15T00:00:00",
          "2024-03-19T00:00:00",
          "2024-03-19T00:00:00",
          "2024-03-22T00:00:00",
          "2024-03-22T00:00:00",
          "2024-03-22T00:00:00",
          "2024-03-23T00:00:00",
          "2024-03-26T00:00:00",
          "2024-03-28T00:00:00",
          "2024-03-29T00:00:00",
          "2024-04-01T00:00:00",
          "2024-04-03T00:00:00",
          "2024-04-04T00:00:00",
          "2024-04-04T00:00:00",
          "2024-04-04T00:00:00",
          "2024-04-04T00:00:00",
          "2024-04-05T00:00:00",
          "2024-04-08T00:00:00",
          "2024-04-09T00:00:00",
          "2024-04-09T00:00:00",
          "2024-04-09T00:00:00",
          "2024-04-10T00:00:00",
          "2024-04-11T00:00:00",
          "2024-04-12T00:00:00",
          "2024-04-12T00:00:00",
          "2024-04-15T00:00:00",
          "2024-04-16T00:00:00",
          "2024-04-16T00:00:00",
          "2024-04-17T00:00:00",
          "2024-04-18T00:00:00",
          "2024-04-19T00:00:00",
          "2024-04-19T00:00:00",
          "2024-04-22T00:00:00",
          "2024-04-22T00:00:00",
          "2024-04-22T00:00:00",
          "2024-04-24T00:00:00",
          "2024-04-24T00:00:00",
          "2024-04-27T00:00:00",
          "2024-04-29T00:00:00",
          "2024-04-29T00:00:00",
          "2024-05-06T00:00:00",
          "2024-05-06T00:00:00",
          "2024-05-06T00:00:00",
          "2024-05-06T00:00:00",
          "2024-05-06T00:00:00",
          "2024-05-06T00:00:00",
          "2024-05-07T00:00:00",
          "2024-05-07T00:00:00",
          "2024-05-07T00:00:00",
          "2024-05-07T00:00:00",
          "2024-05-08T00:00:00",
          "2024-05-08T00:00:00",
          "2024-05-08T00:00:00",
          "2024-05-09T00:00:00",
          "2024-05-10T00:00:00",
          "2024-05-10T00:00:00",
          "2024-05-13T00:00:00",
          "2024-05-13T00:00:00",
          "2024-05-14T00:00:00",
          "2024-05-14T00:00:00",
          "2024-05-15T00:00:00",
          "2024-05-15T00:00:00",
          "2024-05-15T00:00:00",
          "2024-05-16T00:00:00",
          "2024-05-17T00:00:00",
          "2024-05-17T00:00:00",
          "2024-05-17T00:00:00"
         ],
         "xaxis": "x",
         "yaxis": "y"
        },
        {
         "alignmentgroup": "True",
         "bingroup": "x",
         "hovertemplate": "Ativo=Não<br>Data cadastro=%{x}<br>count=%{y}<extra></extra>",
         "legendgroup": "Não",
         "marker": {
          "color": "#EF553B",
          "pattern": {
           "shape": ""
          }
         },
         "name": "Não",
         "offsetgroup": "Não",
         "orientation": "v",
         "showlegend": true,
         "texttemplate": "%{value}",
         "type": "histogram",
         "x": [
          "2023-07-04T00:00:00",
          "2023-07-07T00:00:00",
          "2023-07-28T00:00:00",
          "2023-08-03T00:00:00",
          "2023-08-08T00:00:00",
          "2023-08-12T00:00:00",
          "2023-08-24T00:00:00",
          "2023-09-05T00:00:00",
          "2023-10-31T00:00:00",
          "2023-11-21T00:00:00",
          "2023-12-05T00:00:00",
          "2023-12-16T00:00:00",
          "2023-12-29T00:00:00",
          "2024-01-12T00:00:00",
          "2024-02-07T00:00:00",
          "2024-02-16T00:00:00",
          "2024-03-27T00:00:00",
          "2024-04-18T00:00:00"
         ],
         "xaxis": "x",
         "yaxis": "y"
        }
       ],
       "layout": {
        "barmode": "group",
        "legend": {
         "title": {
          "text": "Ativo"
         },
         "tracegroupgap": 0
        },
        "margin": {
         "t": 60
        },
        "template": {
         "data": {
          "bar": [
           {
            "error_x": {
             "color": "#2a3f5f"
            },
            "error_y": {
             "color": "#2a3f5f"
            },
            "marker": {
             "line": {
              "color": "#E5ECF6",
              "width": 0.5
             },
             "pattern": {
              "fillmode": "overlay",
              "size": 10,
              "solidity": 0.2
             }
            },
            "type": "bar"
           }
          ],
          "barpolar": [
           {
            "marker": {
             "line": {
              "color": "#E5ECF6",
              "width": 0.5
             },
             "pattern": {
              "fillmode": "overlay",
              "size": 10,
              "solidity": 0.2
             }
            },
            "type": "barpolar"
           }
          ],
          "carpet": [
           {
            "aaxis": {
             "endlinecolor": "#2a3f5f",
             "gridcolor": "white",
             "linecolor": "white",
             "minorgridcolor": "white",
             "startlinecolor": "#2a3f5f"
            },
            "baxis": {
             "endlinecolor": "#2a3f5f",
             "gridcolor": "white",
             "linecolor": "white",
             "minorgridcolor": "white",
             "startlinecolor": "#2a3f5f"
            },
            "type": "carpet"
           }
          ],
          "choropleth": [
           {
            "colorbar": {
             "outlinewidth": 0,
             "ticks": ""
            },
            "type": "choropleth"
           }
          ],
          "contour": [
           {
            "colorbar": {
             "outlinewidth": 0,
             "ticks": ""
            },
            "colorscale": [
             [
              0,
              "#0d0887"
             ],
             [
              0.1111111111111111,
              "#46039f"
             ],
             [
              0.2222222222222222,
              "#7201a8"
             ],
             [
              0.3333333333333333,
              "#9c179e"
             ],
             [
              0.4444444444444444,
              "#bd3786"
             ],
             [
              0.5555555555555556,
              "#d8576b"
             ],
             [
              0.6666666666666666,
              "#ed7953"
             ],
             [
              0.7777777777777778,
              "#fb9f3a"
             ],
             [
              0.8888888888888888,
              "#fdca26"
             ],
             [
              1,
              "#f0f921"
             ]
            ],
            "type": "contour"
           }
          ],
          "contourcarpet": [
           {
            "colorbar": {
             "outlinewidth": 0,
             "ticks": ""
            },
            "type": "contourcarpet"
           }
          ],
          "heatmap": [
           {
            "colorbar": {
             "outlinewidth": 0,
             "ticks": ""
            },
            "colorscale": [
             [
              0,
              "#0d0887"
             ],
             [
              0.1111111111111111,
              "#46039f"
             ],
             [
              0.2222222222222222,
              "#7201a8"
             ],
             [
              0.3333333333333333,
              "#9c179e"
             ],
             [
              0.4444444444444444,
              "#bd3786"
             ],
             [
              0.5555555555555556,
              "#d8576b"
             ],
             [
              0.6666666666666666,
              "#ed7953"
             ],
             [
              0.7777777777777778,
              "#fb9f3a"
             ],
             [
              0.8888888888888888,
              "#fdca26"
             ],
             [
              1,
              "#f0f921"
             ]
            ],
            "type": "heatmap"
           }
          ],
          "heatmapgl": [
           {
            "colorbar": {
             "outlinewidth": 0,
             "ticks": ""
            },
            "colorscale": [
             [
              0,
              "#0d0887"
             ],
             [
              0.1111111111111111,
              "#46039f"
             ],
             [
              0.2222222222222222,
              "#7201a8"
             ],
             [
              0.3333333333333333,
              "#9c179e"
             ],
             [
              0.4444444444444444,
              "#bd3786"
             ],
             [
              0.5555555555555556,
              "#d8576b"
             ],
             [
              0.6666666666666666,
              "#ed7953"
             ],
             [
              0.7777777777777778,
              "#fb9f3a"
             ],
             [
              0.8888888888888888,
              "#fdca26"
             ],
             [
              1,
              "#f0f921"
             ]
            ],
            "type": "heatmapgl"
           }
          ],
          "histogram": [
           {
            "marker": {
             "pattern": {
              "fillmode": "overlay",
              "size": 10,
              "solidity": 0.2
             }
            },
            "type": "histogram"
           }
          ],
          "histogram2d": [
           {
            "colorbar": {
             "outlinewidth": 0,
             "ticks": ""
            },
            "colorscale": [
             [
              0,
              "#0d0887"
             ],
             [
              0.1111111111111111,
              "#46039f"
             ],
             [
              0.2222222222222222,
              "#7201a8"
             ],
             [
              0.3333333333333333,
              "#9c179e"
             ],
             [
              0.4444444444444444,
              "#bd3786"
             ],
             [
              0.5555555555555556,
              "#d8576b"
             ],
             [
              0.6666666666666666,
              "#ed7953"
             ],
             [
              0.7777777777777778,
              "#fb9f3a"
             ],
             [
              0.8888888888888888,
              "#fdca26"
             ],
             [
              1,
              "#f0f921"
             ]
            ],
            "type": "histogram2d"
           }
          ],
          "histogram2dcontour": [
           {
            "colorbar": {
             "outlinewidth": 0,
             "ticks": ""
            },
            "colorscale": [
             [
              0,
              "#0d0887"
             ],
             [
              0.1111111111111111,
              "#46039f"
             ],
             [
              0.2222222222222222,
              "#7201a8"
             ],
             [
              0.3333333333333333,
              "#9c179e"
             ],
             [
              0.4444444444444444,
              "#bd3786"
             ],
             [
              0.5555555555555556,
              "#d8576b"
             ],
             [
              0.6666666666666666,
              "#ed7953"
             ],
             [
              0.7777777777777778,
              "#fb9f3a"
             ],
             [
              0.8888888888888888,
              "#fdca26"
             ],
             [
              1,
              "#f0f921"
             ]
            ],
            "type": "histogram2dcontour"
           }
          ],
          "mesh3d": [
           {
            "colorbar": {
             "outlinewidth": 0,
             "ticks": ""
            },
            "type": "mesh3d"
           }
          ],
          "parcoords": [
           {
            "line": {
             "colorbar": {
              "outlinewidth": 0,
              "ticks": ""
             }
            },
            "type": "parcoords"
           }
          ],
          "pie": [
           {
            "automargin": true,
            "type": "pie"
           }
          ],
          "scatter": [
           {
            "fillpattern": {
             "fillmode": "overlay",
             "size": 10,
             "solidity": 0.2
            },
            "type": "scatter"
           }
          ],
          "scatter3d": [
           {
            "line": {
             "colorbar": {
              "outlinewidth": 0,
              "ticks": ""
             }
            },
            "marker": {
             "colorbar": {
              "outlinewidth": 0,
              "ticks": ""
             }
            },
            "type": "scatter3d"
           }
          ],
          "scattercarpet": [
           {
            "marker": {
             "colorbar": {
              "outlinewidth": 0,
              "ticks": ""
             }
            },
            "type": "scattercarpet"
           }
          ],
          "scattergeo": [
           {
            "marker": {
             "colorbar": {
              "outlinewidth": 0,
              "ticks": ""
             }
            },
            "type": "scattergeo"
           }
          ],
          "scattergl": [
           {
            "marker": {
             "colorbar": {
              "outlinewidth": 0,
              "ticks": ""
             }
            },
            "type": "scattergl"
           }
          ],
          "scattermapbox": [
           {
            "marker": {
             "colorbar": {
              "outlinewidth": 0,
              "ticks": ""
             }
            },
            "type": "scattermapbox"
           }
          ],
          "scatterpolar": [
           {
            "marker": {
             "colorbar": {
              "outlinewidth": 0,
              "ticks": ""
             }
            },
            "type": "scatterpolar"
           }
          ],
          "scatterpolargl": [
           {
            "marker": {
             "colorbar": {
              "outlinewidth": 0,
              "ticks": ""
             }
            },
            "type": "scatterpolargl"
           }
          ],
          "scatterternary": [
           {
            "marker": {
             "colorbar": {
              "outlinewidth": 0,
              "ticks": ""
             }
            },
            "type": "scatterternary"
           }
          ],
          "surface": [
           {
            "colorbar": {
             "outlinewidth": 0,
             "ticks": ""
            },
            "colorscale": [
             [
              0,
              "#0d0887"
             ],
             [
              0.1111111111111111,
              "#46039f"
             ],
             [
              0.2222222222222222,
              "#7201a8"
             ],
             [
              0.3333333333333333,
              "#9c179e"
             ],
             [
              0.4444444444444444,
              "#bd3786"
             ],
             [
              0.5555555555555556,
              "#d8576b"
             ],
             [
              0.6666666666666666,
              "#ed7953"
             ],
             [
              0.7777777777777778,
              "#fb9f3a"
             ],
             [
              0.8888888888888888,
              "#fdca26"
             ],
             [
              1,
              "#f0f921"
             ]
            ],
            "type": "surface"
           }
          ],
          "table": [
           {
            "cells": {
             "fill": {
              "color": "#EBF0F8"
             },
             "line": {
              "color": "white"
             }
            },
            "header": {
             "fill": {
              "color": "#C8D4E3"
             },
             "line": {
              "color": "white"
             }
            },
            "type": "table"
           }
          ]
         },
         "layout": {
          "annotationdefaults": {
           "arrowcolor": "#2a3f5f",
           "arrowhead": 0,
           "arrowwidth": 1
          },
          "autotypenumbers": "strict",
          "coloraxis": {
           "colorbar": {
            "outlinewidth": 0,
            "ticks": ""
           }
          },
          "colorscale": {
           "diverging": [
            [
             0,
             "#8e0152"
            ],
            [
             0.1,
             "#c51b7d"
            ],
            [
             0.2,
             "#de77ae"
            ],
            [
             0.3,
             "#f1b6da"
            ],
            [
             0.4,
             "#fde0ef"
            ],
            [
             0.5,
             "#f7f7f7"
            ],
            [
             0.6,
             "#e6f5d0"
            ],
            [
             0.7,
             "#b8e186"
            ],
            [
             0.8,
             "#7fbc41"
            ],
            [
             0.9,
             "#4d9221"
            ],
            [
             1,
             "#276419"
            ]
           ],
           "sequential": [
            [
             0,
             "#0d0887"
            ],
            [
             0.1111111111111111,
             "#46039f"
            ],
            [
             0.2222222222222222,
             "#7201a8"
            ],
            [
             0.3333333333333333,
             "#9c179e"
            ],
            [
             0.4444444444444444,
             "#bd3786"
            ],
            [
             0.5555555555555556,
             "#d8576b"
            ],
            [
             0.6666666666666666,
             "#ed7953"
            ],
            [
             0.7777777777777778,
             "#fb9f3a"
            ],
            [
             0.8888888888888888,
             "#fdca26"
            ],
            [
             1,
             "#f0f921"
            ]
           ],
           "sequentialminus": [
            [
             0,
             "#0d0887"
            ],
            [
             0.1111111111111111,
             "#46039f"
            ],
            [
             0.2222222222222222,
             "#7201a8"
            ],
            [
             0.3333333333333333,
             "#9c179e"
            ],
            [
             0.4444444444444444,
             "#bd3786"
            ],
            [
             0.5555555555555556,
             "#d8576b"
            ],
            [
             0.6666666666666666,
             "#ed7953"
            ],
            [
             0.7777777777777778,
             "#fb9f3a"
            ],
            [
             0.8888888888888888,
             "#fdca26"
            ],
            [
             1,
             "#f0f921"
            ]
           ]
          },
          "colorway": [
           "#636efa",
           "#EF553B",
           "#00cc96",
           "#ab63fa",
           "#FFA15A",
           "#19d3f3",
           "#FF6692",
           "#B6E880",
           "#FF97FF",
           "#FECB52"
          ],
          "font": {
           "color": "#2a3f5f"
          },
          "geo": {
           "bgcolor": "white",
           "lakecolor": "white",
           "landcolor": "#E5ECF6",
           "showlakes": true,
           "showland": true,
           "subunitcolor": "white"
          },
          "hoverlabel": {
           "align": "left"
          },
          "hovermode": "closest",
          "mapbox": {
           "style": "light"
          },
          "paper_bgcolor": "white",
          "plot_bgcolor": "#E5ECF6",
          "polar": {
           "angularaxis": {
            "gridcolor": "white",
            "linecolor": "white",
            "ticks": ""
           },
           "bgcolor": "#E5ECF6",
           "radialaxis": {
            "gridcolor": "white",
            "linecolor": "white",
            "ticks": ""
           }
          },
          "scene": {
           "xaxis": {
            "backgroundcolor": "#E5ECF6",
            "gridcolor": "white",
            "gridwidth": 2,
            "linecolor": "white",
            "showbackground": true,
            "ticks": "",
            "zerolinecolor": "white"
           },
           "yaxis": {
            "backgroundcolor": "#E5ECF6",
            "gridcolor": "white",
            "gridwidth": 2,
            "linecolor": "white",
            "showbackground": true,
            "ticks": "",
            "zerolinecolor": "white"
           },
           "zaxis": {
            "backgroundcolor": "#E5ECF6",
            "gridcolor": "white",
            "gridwidth": 2,
            "linecolor": "white",
            "showbackground": true,
            "ticks": "",
            "zerolinecolor": "white"
           }
          },
          "shapedefaults": {
           "line": {
            "color": "#2a3f5f"
           }
          },
          "ternary": {
           "aaxis": {
            "gridcolor": "white",
            "linecolor": "white",
            "ticks": ""
           },
           "baxis": {
            "gridcolor": "white",
            "linecolor": "white",
            "ticks": ""
           },
           "bgcolor": "#E5ECF6",
           "caxis": {
            "gridcolor": "white",
            "linecolor": "white",
            "ticks": ""
           }
          },
          "title": {
           "x": 0.05
          },
          "xaxis": {
           "automargin": true,
           "gridcolor": "white",
           "linecolor": "white",
           "ticks": "",
           "title": {
            "standoff": 15
           },
           "zerolinecolor": "white",
           "zerolinewidth": 2
          },
          "yaxis": {
           "automargin": true,
           "gridcolor": "white",
           "linecolor": "white",
           "ticks": "",
           "title": {
            "standoff": 15
           },
           "zerolinecolor": "white",
           "zerolinewidth": 2
          }
         }
        },
        "xaxis": {
         "anchor": "y",
         "domain": [
          0,
          1
         ],
         "title": {
          "text": "Data cadastro"
         }
        },
        "yaxis": {
         "anchor": "x",
         "domain": [
          0,
          1
         ],
         "title": {
          "text": "count"
         }
        }
       }
      },
      "text/html": [
       "<div>                            <div id=\"9194f498-c7ba-43c9-9526-7353351342d0\" class=\"plotly-graph-div\" style=\"height:525px; width:100%;\"></div>            <script type=\"text/javascript\">                require([\"plotly\"], function(Plotly) {                    window.PLOTLYENV=window.PLOTLYENV || {};                                    if (document.getElementById(\"9194f498-c7ba-43c9-9526-7353351342d0\")) {                    Plotly.newPlot(                        \"9194f498-c7ba-43c9-9526-7353351342d0\",                        [{\"alignmentgroup\":\"True\",\"bingroup\":\"x\",\"hovertemplate\":\"Ativo=Sim\\u003cbr\\u003eData cadastro=%{x}\\u003cbr\\u003ecount=%{y}\\u003cextra\\u003e\\u003c\\u002fextra\\u003e\",\"legendgroup\":\"Sim\",\"marker\":{\"color\":\"#636efa\",\"pattern\":{\"shape\":\"\"}},\"name\":\"Sim\",\"offsetgroup\":\"Sim\",\"orientation\":\"v\",\"showlegend\":true,\"texttemplate\":\"%{value}\",\"x\":[\"2023-07-01T00:00:00\",\"2023-07-04T00:00:00\",\"2023-07-05T00:00:00\",\"2023-07-06T00:00:00\",\"2023-07-06T00:00:00\",\"2023-07-06T00:00:00\",\"2023-07-07T00:00:00\",\"2023-07-07T00:00:00\",\"2023-07-07T00:00:00\",\"2023-07-07T00:00:00\",\"2023-07-08T00:00:00\",\"2023-07-08T00:00:00\",\"2023-07-10T00:00:00\",\"2023-07-11T00:00:00\",\"2023-07-11T00:00:00\",\"2023-07-11T00:00:00\",\"2023-07-12T00:00:00\",\"2023-07-12T00:00:00\",\"2023-07-13T00:00:00\",\"2023-07-14T00:00:00\",\"2023-07-15T00:00:00\",\"2023-07-15T00:00:00\",\"2023-07-17T00:00:00\",\"2023-07-17T00:00:00\",\"2023-07-18T00:00:00\",\"2023-07-19T00:00:00\",\"2023-07-20T00:00:00\",\"2023-07-20T00:00:00\",\"2023-07-21T00:00:00\",\"2023-07-21T00:00:00\",\"2023-07-21T00:00:00\",\"2023-07-22T00:00:00\",\"2023-07-24T00:00:00\",\"2023-07-24T00:00:00\",\"2023-07-24T00:00:00\",\"2023-07-25T00:00:00\",\"2023-07-25T00:00:00\",\"2023-07-25T00:00:00\",\"2023-07-26T00:00:00\",\"2023-07-26T00:00:00\",\"2023-07-26T00:00:00\",\"2023-07-27T00:00:00\",\"2023-07-27T00:00:00\",\"2023-07-27T00:00:00\",\"2023-07-28T00:00:00\",\"2023-07-28T00:00:00\",\"2023-07-28T00:00:00\",\"2023-08-01T00:00:00\",\"2023-08-02T00:00:00\",\"2023-08-02T00:00:00\",\"2023-08-04T00:00:00\",\"2023-08-04T00:00:00\",\"2023-08-05T00:00:00\",\"2023-08-07T00:00:00\",\"2023-08-08T00:00:00\",\"2023-08-08T00:00:00\",\"2023-08-08T00:00:00\",\"2023-08-09T00:00:00\",\"2023-08-10T00:00:00\",\"2023-08-10T00:00:00\",\"2023-08-10T00:00:00\",\"2023-08-11T00:00:00\",\"2023-08-15T00:00:00\",\"2023-08-15T00:00:00\",\"2023-08-16T00:00:00\",\"2023-08-16T00:00:00\",\"2023-08-16T00:00:00\",\"2023-08-17T00:00:00\",\"2023-08-18T00:00:00\",\"2023-08-19T00:00:00\",\"2023-08-21T00:00:00\",\"2023-08-21T00:00:00\",\"2023-08-23T00:00:00\",\"2023-08-23T00:00:00\",\"2023-08-23T00:00:00\",\"2023-08-23T00:00:00\",\"2023-08-24T00:00:00\",\"2023-08-24T00:00:00\",\"2023-08-24T00:00:00\",\"2023-08-24T00:00:00\",\"2023-08-25T00:00:00\",\"2023-08-26T00:00:00\",\"2023-08-26T00:00:00\",\"2023-08-28T00:00:00\",\"2023-08-28T00:00:00\",\"2023-08-29T00:00:00\",\"2023-08-30T00:00:00\",\"2023-09-02T00:00:00\",\"2023-09-04T00:00:00\",\"2023-09-04T00:00:00\",\"2023-09-05T00:00:00\",\"2023-09-05T00:00:00\",\"2023-09-08T00:00:00\",\"2023-09-08T00:00:00\",\"2023-09-08T00:00:00\",\"2023-09-09T00:00:00\",\"2023-09-09T00:00:00\",\"2023-09-09T00:00:00\",\"2023-09-11T00:00:00\",\"2023-09-13T00:00:00\",\"2023-09-14T00:00:00\",\"2023-09-18T00:00:00\",\"2023-09-18T00:00:00\",\"2023-09-18T00:00:00\",\"2023-09-19T00:00:00\",\"2023-09-19T00:00:00\",\"2023-09-21T00:00:00\",\"2023-09-21T00:00:00\",\"2023-09-25T00:00:00\",\"2023-09-25T00:00:00\",\"2023-09-26T00:00:00\",\"2023-09-26T00:00:00\",\"2023-09-26T00:00:00\",\"2023-09-26T00:00:00\",\"2023-09-26T00:00:00\",\"2023-09-27T00:00:00\",\"2023-09-27T00:00:00\",\"2023-09-28T00:00:00\",\"2023-09-29T00:00:00\",\"2023-09-30T00:00:00\",\"2023-09-30T00:00:00\",\"2023-10-02T00:00:00\",\"2023-10-02T00:00:00\",\"2023-10-03T00:00:00\",\"2023-10-03T00:00:00\",\"2023-10-04T00:00:00\",\"2023-10-04T00:00:00\",\"2023-10-06T00:00:00\",\"2023-10-06T00:00:00\",\"2023-10-07T00:00:00\",\"2023-10-08T00:00:00\",\"2023-10-09T00:00:00\",\"2023-10-09T00:00:00\",\"2023-10-10T00:00:00\",\"2023-10-13T00:00:00\",\"2023-10-13T00:00:00\",\"2023-10-16T00:00:00\",\"2023-10-16T00:00:00\",\"2023-10-16T00:00:00\",\"2023-10-17T00:00:00\",\"2023-10-17T00:00:00\",\"2023-10-18T00:00:00\",\"2023-10-18T00:00:00\",\"2023-10-18T00:00:00\",\"2023-10-20T00:00:00\",\"2023-10-23T00:00:00\",\"2023-10-23T00:00:00\",\"2023-10-23T00:00:00\",\"2023-10-24T00:00:00\",\"2023-10-25T00:00:00\",\"2023-10-25T00:00:00\",\"2023-10-25T00:00:00\",\"2023-10-26T00:00:00\",\"2023-10-30T00:00:00\",\"2023-10-31T00:00:00\",\"2023-11-02T00:00:00\",\"2023-11-03T00:00:00\",\"2023-11-03T00:00:00\",\"2023-11-06T00:00:00\",\"2023-11-06T00:00:00\",\"2023-11-06T00:00:00\",\"2023-11-06T00:00:00\",\"2023-11-06T00:00:00\",\"2023-11-07T00:00:00\",\"2023-11-08T00:00:00\",\"2023-11-10T00:00:00\",\"2023-11-11T00:00:00\",\"2023-11-11T00:00:00\",\"2023-11-15T00:00:00\",\"2023-11-17T00:00:00\",\"2023-11-21T00:00:00\",\"2023-11-21T00:00:00\",\"2023-11-22T00:00:00\",\"2023-11-23T00:00:00\",\"2023-11-24T00:00:00\",\"2023-11-25T00:00:00\",\"2023-11-27T00:00:00\",\"2023-11-27T00:00:00\",\"2023-12-01T00:00:00\",\"2023-12-02T00:00:00\",\"2023-12-02T00:00:00\",\"2023-12-04T00:00:00\",\"2023-12-04T00:00:00\",\"2023-12-05T00:00:00\",\"2023-12-05T00:00:00\",\"2023-12-05T00:00:00\",\"2023-12-08T00:00:00\",\"2023-12-08T00:00:00\",\"2023-12-08T00:00:00\",\"2023-12-14T00:00:00\",\"2023-12-15T00:00:00\",\"2023-12-15T00:00:00\",\"2023-12-16T00:00:00\",\"2023-12-18T00:00:00\",\"2023-12-19T00:00:00\",\"2023-12-19T00:00:00\",\"2023-12-20T00:00:00\",\"2023-12-20T00:00:00\",\"2023-12-24T00:00:00\",\"2023-12-27T00:00:00\",\"2023-12-27T00:00:00\",\"2023-12-27T00:00:00\",\"2023-12-28T00:00:00\",\"2023-12-28T00:00:00\",\"2023-12-28T00:00:00\",\"2023-12-28T00:00:00\",\"2024-01-03T00:00:00\",\"2024-01-03T00:00:00\",\"2024-01-03T00:00:00\",\"2024-01-04T00:00:00\",\"2024-01-04T00:00:00\",\"2024-01-08T00:00:00\",\"2024-01-08T00:00:00\",\"2024-01-08T00:00:00\",\"2024-01-08T00:00:00\",\"2024-01-09T00:00:00\",\"2024-01-10T00:00:00\",\"2024-01-10T00:00:00\",\"2024-01-11T00:00:00\",\"2024-01-11T00:00:00\",\"2024-01-12T00:00:00\",\"2024-01-13T00:00:00\",\"2024-01-17T00:00:00\",\"2024-01-18T00:00:00\",\"2024-01-20T00:00:00\",\"2024-01-22T00:00:00\",\"2024-01-23T00:00:00\",\"2024-01-24T00:00:00\",\"2024-01-26T00:00:00\",\"2024-01-26T00:00:00\",\"2024-01-26T00:00:00\",\"2024-02-02T00:00:00\",\"2024-02-02T00:00:00\",\"2024-02-02T00:00:00\",\"2024-02-03T00:00:00\",\"2024-02-03T00:00:00\",\"2024-02-06T00:00:00\",\"2024-02-07T00:00:00\",\"2024-02-07T00:00:00\",\"2024-02-07T00:00:00\",\"2024-02-08T00:00:00\",\"2024-02-08T00:00:00\",\"2024-02-09T00:00:00\",\"2024-02-14T00:00:00\",\"2024-02-14T00:00:00\",\"2024-02-15T00:00:00\",\"2024-02-15T00:00:00\",\"2024-02-15T00:00:00\",\"2024-02-15T00:00:00\",\"2024-02-16T00:00:00\",\"2024-02-17T00:00:00\",\"2024-02-19T00:00:00\",\"2024-02-19T00:00:00\",\"2024-02-20T00:00:00\",\"2024-02-20T00:00:00\",\"2024-02-20T00:00:00\",\"2024-02-21T00:00:00\",\"2024-02-22T00:00:00\",\"2024-02-23T00:00:00\",\"2024-02-23T00:00:00\",\"2024-02-23T00:00:00\",\"2024-02-26T00:00:00\",\"2024-02-26T00:00:00\",\"2024-02-27T00:00:00\",\"2024-02-27T00:00:00\",\"2024-02-28T00:00:00\",\"2024-02-28T00:00:00\",\"2024-02-29T00:00:00\",\"2024-03-02T00:00:00\",\"2024-03-02T00:00:00\",\"2024-03-05T00:00:00\",\"2024-03-05T00:00:00\",\"2024-03-05T00:00:00\",\"2024-03-07T00:00:00\",\"2024-03-08T00:00:00\",\"2024-03-08T00:00:00\",\"2024-03-08T00:00:00\",\"2024-03-09T00:00:00\",\"2024-03-11T00:00:00\",\"2024-03-11T00:00:00\",\"2024-03-12T00:00:00\",\"2024-03-13T00:00:00\",\"2024-03-14T00:00:00\",\"2024-03-15T00:00:00\",\"2024-03-19T00:00:00\",\"2024-03-19T00:00:00\",\"2024-03-22T00:00:00\",\"2024-03-22T00:00:00\",\"2024-03-22T00:00:00\",\"2024-03-23T00:00:00\",\"2024-03-26T00:00:00\",\"2024-03-28T00:00:00\",\"2024-03-29T00:00:00\",\"2024-04-01T00:00:00\",\"2024-04-03T00:00:00\",\"2024-04-04T00:00:00\",\"2024-04-04T00:00:00\",\"2024-04-04T00:00:00\",\"2024-04-04T00:00:00\",\"2024-04-05T00:00:00\",\"2024-04-08T00:00:00\",\"2024-04-09T00:00:00\",\"2024-04-09T00:00:00\",\"2024-04-09T00:00:00\",\"2024-04-10T00:00:00\",\"2024-04-11T00:00:00\",\"2024-04-12T00:00:00\",\"2024-04-12T00:00:00\",\"2024-04-15T00:00:00\",\"2024-04-16T00:00:00\",\"2024-04-16T00:00:00\",\"2024-04-17T00:00:00\",\"2024-04-18T00:00:00\",\"2024-04-19T00:00:00\",\"2024-04-19T00:00:00\",\"2024-04-22T00:00:00\",\"2024-04-22T00:00:00\",\"2024-04-22T00:00:00\",\"2024-04-24T00:00:00\",\"2024-04-24T00:00:00\",\"2024-04-27T00:00:00\",\"2024-04-29T00:00:00\",\"2024-04-29T00:00:00\",\"2024-05-06T00:00:00\",\"2024-05-06T00:00:00\",\"2024-05-06T00:00:00\",\"2024-05-06T00:00:00\",\"2024-05-06T00:00:00\",\"2024-05-06T00:00:00\",\"2024-05-07T00:00:00\",\"2024-05-07T00:00:00\",\"2024-05-07T00:00:00\",\"2024-05-07T00:00:00\",\"2024-05-08T00:00:00\",\"2024-05-08T00:00:00\",\"2024-05-08T00:00:00\",\"2024-05-09T00:00:00\",\"2024-05-10T00:00:00\",\"2024-05-10T00:00:00\",\"2024-05-13T00:00:00\",\"2024-05-13T00:00:00\",\"2024-05-14T00:00:00\",\"2024-05-14T00:00:00\",\"2024-05-15T00:00:00\",\"2024-05-15T00:00:00\",\"2024-05-15T00:00:00\",\"2024-05-16T00:00:00\",\"2024-05-17T00:00:00\",\"2024-05-17T00:00:00\",\"2024-05-17T00:00:00\"],\"xaxis\":\"x\",\"yaxis\":\"y\",\"type\":\"histogram\"},{\"alignmentgroup\":\"True\",\"bingroup\":\"x\",\"hovertemplate\":\"Ativo=N\\u00e3o\\u003cbr\\u003eData cadastro=%{x}\\u003cbr\\u003ecount=%{y}\\u003cextra\\u003e\\u003c\\u002fextra\\u003e\",\"legendgroup\":\"N\\u00e3o\",\"marker\":{\"color\":\"#EF553B\",\"pattern\":{\"shape\":\"\"}},\"name\":\"N\\u00e3o\",\"offsetgroup\":\"N\\u00e3o\",\"orientation\":\"v\",\"showlegend\":true,\"texttemplate\":\"%{value}\",\"x\":[\"2023-07-04T00:00:00\",\"2023-07-07T00:00:00\",\"2023-07-28T00:00:00\",\"2023-08-03T00:00:00\",\"2023-08-08T00:00:00\",\"2023-08-12T00:00:00\",\"2023-08-24T00:00:00\",\"2023-09-05T00:00:00\",\"2023-10-31T00:00:00\",\"2023-11-21T00:00:00\",\"2023-12-05T00:00:00\",\"2023-12-16T00:00:00\",\"2023-12-29T00:00:00\",\"2024-01-12T00:00:00\",\"2024-02-07T00:00:00\",\"2024-02-16T00:00:00\",\"2024-03-27T00:00:00\",\"2024-04-18T00:00:00\"],\"xaxis\":\"x\",\"yaxis\":\"y\",\"type\":\"histogram\"}],                        {\"template\":{\"data\":{\"histogram2dcontour\":[{\"type\":\"histogram2dcontour\",\"colorbar\":{\"outlinewidth\":0,\"ticks\":\"\"},\"colorscale\":[[0.0,\"#0d0887\"],[0.1111111111111111,\"#46039f\"],[0.2222222222222222,\"#7201a8\"],[0.3333333333333333,\"#9c179e\"],[0.4444444444444444,\"#bd3786\"],[0.5555555555555556,\"#d8576b\"],[0.6666666666666666,\"#ed7953\"],[0.7777777777777778,\"#fb9f3a\"],[0.8888888888888888,\"#fdca26\"],[1.0,\"#f0f921\"]]}],\"choropleth\":[{\"type\":\"choropleth\",\"colorbar\":{\"outlinewidth\":0,\"ticks\":\"\"}}],\"histogram2d\":[{\"type\":\"histogram2d\",\"colorbar\":{\"outlinewidth\":0,\"ticks\":\"\"},\"colorscale\":[[0.0,\"#0d0887\"],[0.1111111111111111,\"#46039f\"],[0.2222222222222222,\"#7201a8\"],[0.3333333333333333,\"#9c179e\"],[0.4444444444444444,\"#bd3786\"],[0.5555555555555556,\"#d8576b\"],[0.6666666666666666,\"#ed7953\"],[0.7777777777777778,\"#fb9f3a\"],[0.8888888888888888,\"#fdca26\"],[1.0,\"#f0f921\"]]}],\"heatmap\":[{\"type\":\"heatmap\",\"colorbar\":{\"outlinewidth\":0,\"ticks\":\"\"},\"colorscale\":[[0.0,\"#0d0887\"],[0.1111111111111111,\"#46039f\"],[0.2222222222222222,\"#7201a8\"],[0.3333333333333333,\"#9c179e\"],[0.4444444444444444,\"#bd3786\"],[0.5555555555555556,\"#d8576b\"],[0.6666666666666666,\"#ed7953\"],[0.7777777777777778,\"#fb9f3a\"],[0.8888888888888888,\"#fdca26\"],[1.0,\"#f0f921\"]]}],\"heatmapgl\":[{\"type\":\"heatmapgl\",\"colorbar\":{\"outlinewidth\":0,\"ticks\":\"\"},\"colorscale\":[[0.0,\"#0d0887\"],[0.1111111111111111,\"#46039f\"],[0.2222222222222222,\"#7201a8\"],[0.3333333333333333,\"#9c179e\"],[0.4444444444444444,\"#bd3786\"],[0.5555555555555556,\"#d8576b\"],[0.6666666666666666,\"#ed7953\"],[0.7777777777777778,\"#fb9f3a\"],[0.8888888888888888,\"#fdca26\"],[1.0,\"#f0f921\"]]}],\"contourcarpet\":[{\"type\":\"contourcarpet\",\"colorbar\":{\"outlinewidth\":0,\"ticks\":\"\"}}],\"contour\":[{\"type\":\"contour\",\"colorbar\":{\"outlinewidth\":0,\"ticks\":\"\"},\"colorscale\":[[0.0,\"#0d0887\"],[0.1111111111111111,\"#46039f\"],[0.2222222222222222,\"#7201a8\"],[0.3333333333333333,\"#9c179e\"],[0.4444444444444444,\"#bd3786\"],[0.5555555555555556,\"#d8576b\"],[0.6666666666666666,\"#ed7953\"],[0.7777777777777778,\"#fb9f3a\"],[0.8888888888888888,\"#fdca26\"],[1.0,\"#f0f921\"]]}],\"surface\":[{\"type\":\"surface\",\"colorbar\":{\"outlinewidth\":0,\"ticks\":\"\"},\"colorscale\":[[0.0,\"#0d0887\"],[0.1111111111111111,\"#46039f\"],[0.2222222222222222,\"#7201a8\"],[0.3333333333333333,\"#9c179e\"],[0.4444444444444444,\"#bd3786\"],[0.5555555555555556,\"#d8576b\"],[0.6666666666666666,\"#ed7953\"],[0.7777777777777778,\"#fb9f3a\"],[0.8888888888888888,\"#fdca26\"],[1.0,\"#f0f921\"]]}],\"mesh3d\":[{\"type\":\"mesh3d\",\"colorbar\":{\"outlinewidth\":0,\"ticks\":\"\"}}],\"scatter\":[{\"fillpattern\":{\"fillmode\":\"overlay\",\"size\":10,\"solidity\":0.2},\"type\":\"scatter\"}],\"parcoords\":[{\"type\":\"parcoords\",\"line\":{\"colorbar\":{\"outlinewidth\":0,\"ticks\":\"\"}}}],\"scatterpolargl\":[{\"type\":\"scatterpolargl\",\"marker\":{\"colorbar\":{\"outlinewidth\":0,\"ticks\":\"\"}}}],\"bar\":[{\"error_x\":{\"color\":\"#2a3f5f\"},\"error_y\":{\"color\":\"#2a3f5f\"},\"marker\":{\"line\":{\"color\":\"#E5ECF6\",\"width\":0.5},\"pattern\":{\"fillmode\":\"overlay\",\"size\":10,\"solidity\":0.2}},\"type\":\"bar\"}],\"scattergeo\":[{\"type\":\"scattergeo\",\"marker\":{\"colorbar\":{\"outlinewidth\":0,\"ticks\":\"\"}}}],\"scatterpolar\":[{\"type\":\"scatterpolar\",\"marker\":{\"colorbar\":{\"outlinewidth\":0,\"ticks\":\"\"}}}],\"histogram\":[{\"marker\":{\"pattern\":{\"fillmode\":\"overlay\",\"size\":10,\"solidity\":0.2}},\"type\":\"histogram\"}],\"scattergl\":[{\"type\":\"scattergl\",\"marker\":{\"colorbar\":{\"outlinewidth\":0,\"ticks\":\"\"}}}],\"scatter3d\":[{\"type\":\"scatter3d\",\"line\":{\"colorbar\":{\"outlinewidth\":0,\"ticks\":\"\"}},\"marker\":{\"colorbar\":{\"outlinewidth\":0,\"ticks\":\"\"}}}],\"scattermapbox\":[{\"type\":\"scattermapbox\",\"marker\":{\"colorbar\":{\"outlinewidth\":0,\"ticks\":\"\"}}}],\"scatterternary\":[{\"type\":\"scatterternary\",\"marker\":{\"colorbar\":{\"outlinewidth\":0,\"ticks\":\"\"}}}],\"scattercarpet\":[{\"type\":\"scattercarpet\",\"marker\":{\"colorbar\":{\"outlinewidth\":0,\"ticks\":\"\"}}}],\"carpet\":[{\"aaxis\":{\"endlinecolor\":\"#2a3f5f\",\"gridcolor\":\"white\",\"linecolor\":\"white\",\"minorgridcolor\":\"white\",\"startlinecolor\":\"#2a3f5f\"},\"baxis\":{\"endlinecolor\":\"#2a3f5f\",\"gridcolor\":\"white\",\"linecolor\":\"white\",\"minorgridcolor\":\"white\",\"startlinecolor\":\"#2a3f5f\"},\"type\":\"carpet\"}],\"table\":[{\"cells\":{\"fill\":{\"color\":\"#EBF0F8\"},\"line\":{\"color\":\"white\"}},\"header\":{\"fill\":{\"color\":\"#C8D4E3\"},\"line\":{\"color\":\"white\"}},\"type\":\"table\"}],\"barpolar\":[{\"marker\":{\"line\":{\"color\":\"#E5ECF6\",\"width\":0.5},\"pattern\":{\"fillmode\":\"overlay\",\"size\":10,\"solidity\":0.2}},\"type\":\"barpolar\"}],\"pie\":[{\"automargin\":true,\"type\":\"pie\"}]},\"layout\":{\"autotypenumbers\":\"strict\",\"colorway\":[\"#636efa\",\"#EF553B\",\"#00cc96\",\"#ab63fa\",\"#FFA15A\",\"#19d3f3\",\"#FF6692\",\"#B6E880\",\"#FF97FF\",\"#FECB52\"],\"font\":{\"color\":\"#2a3f5f\"},\"hovermode\":\"closest\",\"hoverlabel\":{\"align\":\"left\"},\"paper_bgcolor\":\"white\",\"plot_bgcolor\":\"#E5ECF6\",\"polar\":{\"bgcolor\":\"#E5ECF6\",\"angularaxis\":{\"gridcolor\":\"white\",\"linecolor\":\"white\",\"ticks\":\"\"},\"radialaxis\":{\"gridcolor\":\"white\",\"linecolor\":\"white\",\"ticks\":\"\"}},\"ternary\":{\"bgcolor\":\"#E5ECF6\",\"aaxis\":{\"gridcolor\":\"white\",\"linecolor\":\"white\",\"ticks\":\"\"},\"baxis\":{\"gridcolor\":\"white\",\"linecolor\":\"white\",\"ticks\":\"\"},\"caxis\":{\"gridcolor\":\"white\",\"linecolor\":\"white\",\"ticks\":\"\"}},\"coloraxis\":{\"colorbar\":{\"outlinewidth\":0,\"ticks\":\"\"}},\"colorscale\":{\"sequential\":[[0.0,\"#0d0887\"],[0.1111111111111111,\"#46039f\"],[0.2222222222222222,\"#7201a8\"],[0.3333333333333333,\"#9c179e\"],[0.4444444444444444,\"#bd3786\"],[0.5555555555555556,\"#d8576b\"],[0.6666666666666666,\"#ed7953\"],[0.7777777777777778,\"#fb9f3a\"],[0.8888888888888888,\"#fdca26\"],[1.0,\"#f0f921\"]],\"sequentialminus\":[[0.0,\"#0d0887\"],[0.1111111111111111,\"#46039f\"],[0.2222222222222222,\"#7201a8\"],[0.3333333333333333,\"#9c179e\"],[0.4444444444444444,\"#bd3786\"],[0.5555555555555556,\"#d8576b\"],[0.6666666666666666,\"#ed7953\"],[0.7777777777777778,\"#fb9f3a\"],[0.8888888888888888,\"#fdca26\"],[1.0,\"#f0f921\"]],\"diverging\":[[0,\"#8e0152\"],[0.1,\"#c51b7d\"],[0.2,\"#de77ae\"],[0.3,\"#f1b6da\"],[0.4,\"#fde0ef\"],[0.5,\"#f7f7f7\"],[0.6,\"#e6f5d0\"],[0.7,\"#b8e186\"],[0.8,\"#7fbc41\"],[0.9,\"#4d9221\"],[1,\"#276419\"]]},\"xaxis\":{\"gridcolor\":\"white\",\"linecolor\":\"white\",\"ticks\":\"\",\"title\":{\"standoff\":15},\"zerolinecolor\":\"white\",\"automargin\":true,\"zerolinewidth\":2},\"yaxis\":{\"gridcolor\":\"white\",\"linecolor\":\"white\",\"ticks\":\"\",\"title\":{\"standoff\":15},\"zerolinecolor\":\"white\",\"automargin\":true,\"zerolinewidth\":2},\"scene\":{\"xaxis\":{\"backgroundcolor\":\"#E5ECF6\",\"gridcolor\":\"white\",\"linecolor\":\"white\",\"showbackground\":true,\"ticks\":\"\",\"zerolinecolor\":\"white\",\"gridwidth\":2},\"yaxis\":{\"backgroundcolor\":\"#E5ECF6\",\"gridcolor\":\"white\",\"linecolor\":\"white\",\"showbackground\":true,\"ticks\":\"\",\"zerolinecolor\":\"white\",\"gridwidth\":2},\"zaxis\":{\"backgroundcolor\":\"#E5ECF6\",\"gridcolor\":\"white\",\"linecolor\":\"white\",\"showbackground\":true,\"ticks\":\"\",\"zerolinecolor\":\"white\",\"gridwidth\":2}},\"shapedefaults\":{\"line\":{\"color\":\"#2a3f5f\"}},\"annotationdefaults\":{\"arrowcolor\":\"#2a3f5f\",\"arrowhead\":0,\"arrowwidth\":1},\"geo\":{\"bgcolor\":\"white\",\"landcolor\":\"#E5ECF6\",\"subunitcolor\":\"white\",\"showland\":true,\"showlakes\":true,\"lakecolor\":\"white\"},\"title\":{\"x\":0.05},\"mapbox\":{\"style\":\"light\"}}},\"xaxis\":{\"anchor\":\"y\",\"domain\":[0.0,1.0],\"title\":{\"text\":\"Data cadastro\"}},\"yaxis\":{\"anchor\":\"x\",\"domain\":[0.0,1.0],\"title\":{\"text\":\"count\"}},\"legend\":{\"title\":{\"text\":\"Ativo\"},\"tracegroupgap\":0},\"margin\":{\"t\":60},\"barmode\":\"group\"},                        {\"responsive\": true}                    ).then(function(){\n",
       "                            \n",
       "var gd = document.getElementById('9194f498-c7ba-43c9-9526-7353351342d0');\n",
       "var x = new MutationObserver(function (mutations, observer) {{\n",
       "        var display = window.getComputedStyle(gd).display;\n",
       "        if (!display || display === 'none') {{\n",
       "            console.log([gd, 'removed!']);\n",
       "            Plotly.purge(gd);\n",
       "            observer.disconnect();\n",
       "        }}\n",
       "}});\n",
       "\n",
       "// Listen for the removal of the full notebook cells\n",
       "var notebookContainer = gd.closest('#notebook-container');\n",
       "if (notebookContainer) {{\n",
       "    x.observe(notebookContainer, {childList: true});\n",
       "}}\n",
       "\n",
       "// Listen for the clearing of the current output cell\n",
       "var outputEl = gd.closest('.output');\n",
       "if (outputEl) {{\n",
       "    x.observe(outputEl, {childList: true});\n",
       "}}\n",
       "\n",
       "                        })                };                });            </script>        </div>"
      ]
     },
     "metadata": {},
     "output_type": "display_data"
    }
   ],
   "source": [
    "px.histogram(dados,x='Data cadastro',text_auto=True,color='Ativo',barmode='group')"
   ]
  },
  {
   "cell_type": "code",
   "execution_count": 140,
   "metadata": {},
   "outputs": [
    {
     "data": {
      "application/vnd.plotly.v1+json": {
       "config": {
        "plotlyServerURL": "https://plot.ly"
       },
       "data": [
        {
         "alignmentgroup": "True",
         "bingroup": "x",
         "hovertemplate": "Endereço=Rua do Monte<br>Data cadastro=%{x}<br>count=%{y}<extra></extra>",
         "legendgroup": "Rua do Monte",
         "marker": {
          "color": "#636efa",
          "pattern": {
           "shape": ""
          }
         },
         "name": "Rua do Monte",
         "offsetgroup": "Rua do Monte",
         "orientation": "v",
         "showlegend": true,
         "texttemplate": "%{value}",
         "type": "histogram",
         "x": [
          "2023-07-01T00:00:00",
          "2023-08-19T00:00:00",
          "2023-08-25T00:00:00",
          "2023-10-04T00:00:00",
          "2023-12-05T00:00:00",
          "2024-01-11T00:00:00",
          "2024-02-29T00:00:00",
          "2024-03-07T00:00:00"
         ],
         "xaxis": "x",
         "yaxis": "y"
        },
        {
         "alignmentgroup": "True",
         "bingroup": "x",
         "hovertemplate": "Endereço=Rua da América<br>Data cadastro=%{x}<br>count=%{y}<extra></extra>",
         "legendgroup": "Rua da América",
         "marker": {
          "color": "#EF553B",
          "pattern": {
           "shape": ""
          }
         },
         "name": "Rua da América",
         "offsetgroup": "Rua da América",
         "orientation": "v",
         "showlegend": true,
         "texttemplate": "%{value}",
         "type": "histogram",
         "x": [
          "2023-07-04T00:00:00",
          "2023-07-05T00:00:00",
          "2023-07-07T00:00:00",
          "2023-07-11T00:00:00",
          "2023-07-21T00:00:00",
          "2023-07-25T00:00:00",
          "2023-08-16T00:00:00",
          "2023-08-28T00:00:00",
          "2023-09-05T00:00:00",
          "2023-10-06T00:00:00",
          "2023-10-09T00:00:00",
          "2023-10-13T00:00:00",
          "2023-10-16T00:00:00",
          "2023-10-18T00:00:00",
          "2023-11-03T00:00:00",
          "2023-12-15T00:00:00",
          "2023-12-27T00:00:00",
          "2024-01-13T00:00:00",
          "2024-01-26T00:00:00",
          "2024-02-23T00:00:00"
         ],
         "xaxis": "x",
         "yaxis": "y"
        },
        {
         "alignmentgroup": "True",
         "bingroup": "x",
         "hovertemplate": "Endereço=Rua Senador Pompeu<br>Data cadastro=%{x}<br>count=%{y}<extra></extra>",
         "legendgroup": "Rua Senador Pompeu",
         "marker": {
          "color": "#00cc96",
          "pattern": {
           "shape": ""
          }
         },
         "name": "Rua Senador Pompeu",
         "offsetgroup": "Rua Senador Pompeu",
         "orientation": "v",
         "showlegend": true,
         "texttemplate": "%{value}",
         "type": "histogram",
         "x": [
          "2023-07-04T00:00:00",
          "2023-10-26T00:00:00",
          "2023-11-06T00:00:00",
          "2024-01-03T00:00:00",
          "2024-02-07T00:00:00",
          "2024-02-15T00:00:00",
          "2024-02-21T00:00:00",
          "2024-03-02T00:00:00",
          "2024-03-23T00:00:00",
          "2024-03-26T00:00:00",
          "2024-03-27T00:00:00",
          "2024-05-13T00:00:00"
         ],
         "xaxis": "x",
         "yaxis": "y"
        },
        {
         "alignmentgroup": "True",
         "bingroup": "x",
         "hovertemplate": "Endereço=Rua da Bica<br>Data cadastro=%{x}<br>count=%{y}<extra></extra>",
         "legendgroup": "Rua da Bica",
         "marker": {
          "color": "#ab63fa",
          "pattern": {
           "shape": ""
          }
         },
         "name": "Rua da Bica",
         "offsetgroup": "Rua da Bica",
         "orientation": "v",
         "showlegend": true,
         "texttemplate": "%{value}",
         "type": "histogram",
         "x": [
          "2023-07-06T00:00:00",
          "2023-08-05T00:00:00"
         ],
         "xaxis": "x",
         "yaxis": "y"
        },
        {
         "alignmentgroup": "True",
         "bingroup": "x",
         "hovertemplate": "Endereço=Rua Costa Ferreira<br>Data cadastro=%{x}<br>count=%{y}<extra></extra>",
         "legendgroup": "Rua Costa Ferreira",
         "marker": {
          "color": "#FFA15A",
          "pattern": {
           "shape": ""
          }
         },
         "name": "Rua Costa Ferreira",
         "offsetgroup": "Rua Costa Ferreira",
         "orientation": "v",
         "showlegend": true,
         "texttemplate": "%{value}",
         "type": "histogram",
         "x": [
          "2023-07-06T00:00:00",
          "2023-07-25T00:00:00",
          "2023-11-25T00:00:00",
          "2024-01-17T00:00:00",
          "2024-02-15T00:00:00",
          "2024-03-02T00:00:00",
          "2024-04-24T00:00:00",
          "2024-05-06T00:00:00"
         ],
         "xaxis": "x",
         "yaxis": "y"
        },
        {
         "alignmentgroup": "True",
         "bingroup": "x",
         "hovertemplate": "Endereço=Rua Conselheiro Zacarias<br>Data cadastro=%{x}<br>count=%{y}<extra></extra>",
         "legendgroup": "Rua Conselheiro Zacarias",
         "marker": {
          "color": "#19d3f3",
          "pattern": {
           "shape": ""
          }
         },
         "name": "Rua Conselheiro Zacarias",
         "offsetgroup": "Rua Conselheiro Zacarias",
         "orientation": "v",
         "showlegend": true,
         "texttemplate": "%{value}",
         "type": "histogram",
         "x": [
          "2023-07-06T00:00:00",
          "2023-10-06T00:00:00",
          "2023-11-22T00:00:00",
          "2024-03-22T00:00:00",
          "2024-04-22T00:00:00",
          "2024-05-09T00:00:00"
         ],
         "xaxis": "x",
         "yaxis": "y"
        },
        {
         "alignmentgroup": "True",
         "bingroup": "x",
         "hovertemplate": "Endereço=Rua da Gamboa<br>Data cadastro=%{x}<br>count=%{y}<extra></extra>",
         "legendgroup": "Rua da Gamboa",
         "marker": {
          "color": "#FF6692",
          "pattern": {
           "shape": ""
          }
         },
         "name": "Rua da Gamboa",
         "offsetgroup": "Rua da Gamboa",
         "orientation": "v",
         "showlegend": true,
         "texttemplate": "%{value}",
         "type": "histogram",
         "x": [
          "2023-07-07T00:00:00",
          "2023-08-08T00:00:00",
          "2023-08-21T00:00:00",
          "2023-08-24T00:00:00",
          "2023-10-03T00:00:00",
          "2023-10-16T00:00:00",
          "2023-10-30T00:00:00",
          "2023-12-19T00:00:00",
          "2024-03-08T00:00:00",
          "2024-03-22T00:00:00",
          "2024-05-08T00:00:00"
         ],
         "xaxis": "x",
         "yaxis": "y"
        },
        {
         "alignmentgroup": "True",
         "bingroup": "x",
         "hovertemplate": "Endereço=Rua Paraíba<br>Data cadastro=%{x}<br>count=%{y}<extra></extra>",
         "legendgroup": "Rua Paraíba",
         "marker": {
          "color": "#B6E880",
          "pattern": {
           "shape": ""
          }
         },
         "name": "Rua Paraíba",
         "offsetgroup": "Rua Paraíba",
         "orientation": "v",
         "showlegend": true,
         "texttemplate": "%{value}",
         "type": "histogram",
         "x": [
          "2023-07-07T00:00:00"
         ],
         "xaxis": "x",
         "yaxis": "y"
        },
        {
         "alignmentgroup": "True",
         "bingroup": "x",
         "hovertemplate": "Endereço=Rua Barão de São Félix<br>Data cadastro=%{x}<br>count=%{y}<extra></extra>",
         "legendgroup": "Rua Barão de São Félix",
         "marker": {
          "color": "#FF97FF",
          "pattern": {
           "shape": ""
          }
         },
         "name": "Rua Barão de São Félix",
         "offsetgroup": "Rua Barão de São Félix",
         "orientation": "v",
         "showlegend": true,
         "texttemplate": "%{value}",
         "type": "histogram",
         "x": [
          "2023-07-07T00:00:00",
          "2023-07-15T00:00:00",
          "2023-07-17T00:00:00",
          "2023-07-21T00:00:00",
          "2023-07-28T00:00:00",
          "2023-09-11T00:00:00",
          "2023-11-03T00:00:00",
          "2023-11-06T00:00:00",
          "2023-11-23T00:00:00",
          "2023-12-08T00:00:00",
          "2023-12-16T00:00:00",
          "2023-12-28T00:00:00",
          "2023-12-29T00:00:00",
          "2024-01-10T00:00:00",
          "2024-01-12T00:00:00",
          "2024-02-20T00:00:00",
          "2024-03-12T00:00:00",
          "2024-04-08T00:00:00",
          "2024-04-12T00:00:00",
          "2024-05-15T00:00:00"
         ],
         "xaxis": "x",
         "yaxis": "y"
        },
        {
         "alignmentgroup": "True",
         "bingroup": "x",
         "hovertemplate": "Endereço=Ladeira Livramento<br>Data cadastro=%{x}<br>count=%{y}<extra></extra>",
         "legendgroup": "Ladeira Livramento",
         "marker": {
          "color": "#FECB52",
          "pattern": {
           "shape": ""
          }
         },
         "name": "Ladeira Livramento",
         "offsetgroup": "Ladeira Livramento",
         "orientation": "v",
         "showlegend": true,
         "texttemplate": "%{value}",
         "type": "histogram",
         "x": [
          "2023-07-07T00:00:00",
          "2023-07-28T00:00:00",
          "2023-08-23T00:00:00",
          "2023-08-29T00:00:00",
          "2023-09-25T00:00:00",
          "2023-10-03T00:00:00",
          "2023-10-10T00:00:00",
          "2023-10-23T00:00:00",
          "2024-01-10T00:00:00",
          "2024-02-02T00:00:00",
          "2024-02-22T00:00:00",
          "2024-02-26T00:00:00",
          "2024-02-27T00:00:00",
          "2024-02-27T00:00:00",
          "2024-04-19T00:00:00",
          "2024-05-17T00:00:00"
         ],
         "xaxis": "x",
         "yaxis": "y"
        },
        {
         "alignmentgroup": "True",
         "bingroup": "x",
         "hovertemplate": "Endereço=Rua Cunha Barbosa<br>Data cadastro=%{x}<br>count=%{y}<extra></extra>",
         "legendgroup": "Rua Cunha Barbosa",
         "marker": {
          "color": "#636efa",
          "pattern": {
           "shape": ""
          }
         },
         "name": "Rua Cunha Barbosa",
         "offsetgroup": "Rua Cunha Barbosa",
         "orientation": "v",
         "showlegend": true,
         "texttemplate": "%{value}",
         "type": "histogram",
         "x": [
          "2023-07-08T00:00:00",
          "2023-08-26T00:00:00",
          "2024-03-09T00:00:00",
          "2024-04-04T00:00:00",
          "2024-05-08T00:00:00"
         ],
         "xaxis": "x",
         "yaxis": "y"
        },
        {
         "alignmentgroup": "True",
         "bingroup": "x",
         "hovertemplate": "Endereço=Rua Grota<br>Data cadastro=%{x}<br>count=%{y}<extra></extra>",
         "legendgroup": "Rua Grota",
         "marker": {
          "color": "#EF553B",
          "pattern": {
           "shape": ""
          }
         },
         "name": "Rua Grota",
         "offsetgroup": "Rua Grota",
         "orientation": "v",
         "showlegend": true,
         "texttemplate": "%{value}",
         "type": "histogram",
         "x": [
          "2023-07-08T00:00:00",
          "2023-11-21T00:00:00"
         ],
         "xaxis": "x",
         "yaxis": "y"
        },
        {
         "alignmentgroup": "True",
         "bingroup": "x",
         "hovertemplate": "Endereço=Rua do Pinto<br>Data cadastro=%{x}<br>count=%{y}<extra></extra>",
         "legendgroup": "Rua do Pinto",
         "marker": {
          "color": "#00cc96",
          "pattern": {
           "shape": ""
          }
         },
         "name": "Rua do Pinto",
         "offsetgroup": "Rua do Pinto",
         "orientation": "v",
         "showlegend": true,
         "texttemplate": "%{value}",
         "type": "histogram",
         "x": [
          "2023-07-10T00:00:00",
          "2024-03-19T00:00:00",
          "2024-04-09T00:00:00"
         ],
         "xaxis": "x",
         "yaxis": "y"
        },
        {
         "alignmentgroup": "True",
         "bingroup": "x",
         "hovertemplate": "Endereço=Rua Barão da Gamboa<br>Data cadastro=%{x}<br>count=%{y}<extra></extra>",
         "legendgroup": "Rua Barão da Gamboa",
         "marker": {
          "color": "#ab63fa",
          "pattern": {
           "shape": ""
          }
         },
         "name": "Rua Barão da Gamboa",
         "offsetgroup": "Rua Barão da Gamboa",
         "orientation": "v",
         "showlegend": true,
         "texttemplate": "%{value}",
         "type": "histogram",
         "x": [
          "2023-07-11T00:00:00",
          "2024-05-06T00:00:00"
         ],
         "xaxis": "x",
         "yaxis": "y"
        },
        {
         "alignmentgroup": "True",
         "bingroup": "x",
         "hovertemplate": "Endereço=Rua Vidal de Negreiros<br>Data cadastro=%{x}<br>count=%{y}<extra></extra>",
         "legendgroup": "Rua Vidal de Negreiros",
         "marker": {
          "color": "#FFA15A",
          "pattern": {
           "shape": ""
          }
         },
         "name": "Rua Vidal de Negreiros",
         "offsetgroup": "Rua Vidal de Negreiros",
         "orientation": "v",
         "showlegend": true,
         "texttemplate": "%{value}",
         "type": "histogram",
         "x": [
          "2023-07-11T00:00:00",
          "2023-08-24T00:00:00",
          "2024-01-26T00:00:00"
         ],
         "xaxis": "x",
         "yaxis": "y"
        },
        {
         "alignmentgroup": "True",
         "bingroup": "x",
         "hovertemplate": "Endereço=Largo Cruzeiro<br>Data cadastro=%{x}<br>count=%{y}<extra></extra>",
         "legendgroup": "Largo Cruzeiro",
         "marker": {
          "color": "#19d3f3",
          "pattern": {
           "shape": ""
          }
         },
         "name": "Largo Cruzeiro",
         "offsetgroup": "Largo Cruzeiro",
         "orientation": "v",
         "showlegend": true,
         "texttemplate": "%{value}",
         "type": "histogram",
         "x": [
          "2023-07-12T00:00:00"
         ],
         "xaxis": "x",
         "yaxis": "y"
        },
        {
         "alignmentgroup": "True",
         "bingroup": "x",
         "hovertemplate": "Endereço=Rua Santo Cristo<br>Data cadastro=%{x}<br>count=%{y}<extra></extra>",
         "legendgroup": "Rua Santo Cristo",
         "marker": {
          "color": "#FF6692",
          "pattern": {
           "shape": ""
          }
         },
         "name": "Rua Santo Cristo",
         "offsetgroup": "Rua Santo Cristo",
         "orientation": "v",
         "showlegend": true,
         "texttemplate": "%{value}",
         "type": "histogram",
         "x": [
          "2023-07-12T00:00:00",
          "2023-07-28T00:00:00",
          "2023-08-09T00:00:00",
          "2023-08-11T00:00:00",
          "2023-08-12T00:00:00",
          "2023-08-18T00:00:00",
          "2023-09-04T00:00:00",
          "2023-09-09T00:00:00",
          "2023-10-08T00:00:00",
          "2023-10-09T00:00:00",
          "2023-10-17T00:00:00",
          "2023-10-18T00:00:00",
          "2023-11-15T00:00:00",
          "2024-01-09T00:00:00",
          "2024-05-06T00:00:00",
          "2024-05-07T00:00:00",
          "2024-05-08T00:00:00",
          "2024-05-10T00:00:00"
         ],
         "xaxis": "x",
         "yaxis": "y"
        },
        {
         "alignmentgroup": "True",
         "bingroup": "x",
         "hovertemplate": "Endereço=Ladeira Morro da Saúde<br>Data cadastro=%{x}<br>count=%{y}<extra></extra>",
         "legendgroup": "Ladeira Morro da Saúde",
         "marker": {
          "color": "#B6E880",
          "pattern": {
           "shape": ""
          }
         },
         "name": "Ladeira Morro da Saúde",
         "offsetgroup": "Ladeira Morro da Saúde",
         "orientation": "v",
         "showlegend": true,
         "texttemplate": "%{value}",
         "type": "histogram",
         "x": [
          "2023-07-13T00:00:00",
          "2023-07-20T00:00:00",
          "2023-10-24T00:00:00",
          "2024-02-16T00:00:00",
          "2024-02-23T00:00:00"
         ],
         "xaxis": "x",
         "yaxis": "y"
        },
        {
         "alignmentgroup": "True",
         "bingroup": "x",
         "hovertemplate": "Endereço=Rua Coronel Audomaro Costa<br>Data cadastro=%{x}<br>count=%{y}<extra></extra>",
         "legendgroup": "Rua Coronel Audomaro Costa",
         "marker": {
          "color": "#FF97FF",
          "pattern": {
           "shape": ""
          }
         },
         "name": "Rua Coronel Audomaro Costa",
         "offsetgroup": "Rua Coronel Audomaro Costa",
         "orientation": "v",
         "showlegend": true,
         "texttemplate": "%{value}",
         "type": "histogram",
         "x": [
          "2023-07-14T00:00:00",
          "2023-07-19T00:00:00",
          "2023-08-10T00:00:00",
          "2023-12-05T00:00:00",
          "2023-12-08T00:00:00",
          "2024-01-04T00:00:00",
          "2024-05-13T00:00:00",
          "2024-05-14T00:00:00",
          "2024-05-17T00:00:00"
         ],
         "xaxis": "x",
         "yaxis": "y"
        },
        {
         "alignmentgroup": "True",
         "bingroup": "x",
         "hovertemplate": "Endereço=Ladeira do Barroso<br>Data cadastro=%{x}<br>count=%{y}<extra></extra>",
         "legendgroup": "Ladeira do Barroso",
         "marker": {
          "color": "#FECB52",
          "pattern": {
           "shape": ""
          }
         },
         "name": "Ladeira do Barroso",
         "offsetgroup": "Ladeira do Barroso",
         "orientation": "v",
         "showlegend": true,
         "texttemplate": "%{value}",
         "type": "histogram",
         "x": [
          "2023-07-15T00:00:00",
          "2023-07-27T00:00:00",
          "2023-07-28T00:00:00",
          "2023-08-04T00:00:00",
          "2023-09-26T00:00:00",
          "2023-10-17T00:00:00",
          "2023-10-18T00:00:00",
          "2023-10-25T00:00:00",
          "2023-12-01T00:00:00",
          "2024-01-11T00:00:00",
          "2024-01-24T00:00:00",
          "2024-02-02T00:00:00",
          "2024-02-08T00:00:00",
          "2024-02-15T00:00:00",
          "2024-02-28T00:00:00",
          "2024-04-04T00:00:00",
          "2024-04-11T00:00:00",
          "2024-04-15T00:00:00",
          "2024-04-29T00:00:00"
         ],
         "xaxis": "x",
         "yaxis": "y"
        },
        {
         "alignmentgroup": "True",
         "bingroup": "x",
         "hovertemplate": "Endereço=Rua Dona Bela<br>Data cadastro=%{x}<br>count=%{y}<extra></extra>",
         "legendgroup": "Rua Dona Bela",
         "marker": {
          "color": "#636efa",
          "pattern": {
           "shape": ""
          }
         },
         "name": "Rua Dona Bela",
         "offsetgroup": "Rua Dona Bela",
         "orientation": "v",
         "showlegend": true,
         "texttemplate": "%{value}",
         "type": "histogram",
         "x": [
          "2023-07-17T00:00:00"
         ],
         "xaxis": "x",
         "yaxis": "y"
        },
        {
         "alignmentgroup": "True",
         "bingroup": "x",
         "hovertemplate": "Endereço=Rua Bento Teixeira<br>Data cadastro=%{x}<br>count=%{y}<extra></extra>",
         "legendgroup": "Rua Bento Teixeira",
         "marker": {
          "color": "#EF553B",
          "pattern": {
           "shape": ""
          }
         },
         "name": "Rua Bento Teixeira",
         "offsetgroup": "Rua Bento Teixeira",
         "orientation": "v",
         "showlegend": true,
         "texttemplate": "%{value}",
         "type": "histogram",
         "x": [
          "2023-07-18T00:00:00",
          "2023-07-22T00:00:00",
          "2023-08-30T00:00:00",
          "2023-09-19T00:00:00",
          "2023-09-26T00:00:00",
          "2023-12-27T00:00:00"
         ],
         "xaxis": "x",
         "yaxis": "y"
        },
        {
         "alignmentgroup": "True",
         "bingroup": "x",
         "hovertemplate": "Endereço=Rua Mariano Procópio<br>Data cadastro=%{x}<br>count=%{y}<extra></extra>",
         "legendgroup": "Rua Mariano Procópio",
         "marker": {
          "color": "#00cc96",
          "pattern": {
           "shape": ""
          }
         },
         "name": "Rua Mariano Procópio",
         "offsetgroup": "Rua Mariano Procópio",
         "orientation": "v",
         "showlegend": true,
         "texttemplate": "%{value}",
         "type": "histogram",
         "x": [
          "2023-07-20T00:00:00",
          "2024-05-14T00:00:00"
         ],
         "xaxis": "x",
         "yaxis": "y"
        },
        {
         "alignmentgroup": "True",
         "bingroup": "x",
         "hovertemplate": "Endereço=Rua Rego Barros<br>Data cadastro=%{x}<br>count=%{y}<extra></extra>",
         "legendgroup": "Rua Rego Barros",
         "marker": {
          "color": "#ab63fa",
          "pattern": {
           "shape": ""
          }
         },
         "name": "Rua Rego Barros",
         "offsetgroup": "Rua Rego Barros",
         "orientation": "v",
         "showlegend": true,
         "texttemplate": "%{value}",
         "type": "histogram",
         "x": [
          "2023-07-21T00:00:00",
          "2023-07-26T00:00:00",
          "2023-08-24T00:00:00",
          "2023-11-02T00:00:00",
          "2023-11-10T00:00:00",
          "2024-01-08T00:00:00",
          "2024-02-02T00:00:00",
          "2024-02-20T00:00:00"
         ],
         "xaxis": "x",
         "yaxis": "y"
        },
        {
         "alignmentgroup": "True",
         "bingroup": "x",
         "hovertemplate": "Endereço=Rua dona Nair<br>Data cadastro=%{x}<br>count=%{y}<extra></extra>",
         "legendgroup": "Rua dona Nair",
         "marker": {
          "color": "#FFA15A",
          "pattern": {
           "shape": ""
          }
         },
         "name": "Rua dona Nair",
         "offsetgroup": "Rua dona Nair",
         "orientation": "v",
         "showlegend": true,
         "texttemplate": "%{value}",
         "type": "histogram",
         "x": [
          "2023-07-24T00:00:00"
         ],
         "xaxis": "x",
         "yaxis": "y"
        },
        {
         "alignmentgroup": "True",
         "bingroup": "x",
         "hovertemplate": "Endereço=Rua Nabuco de Freitas<br>Data cadastro=%{x}<br>count=%{y}<extra></extra>",
         "legendgroup": "Rua Nabuco de Freitas",
         "marker": {
          "color": "#19d3f3",
          "pattern": {
           "shape": ""
          }
         },
         "name": "Rua Nabuco de Freitas",
         "offsetgroup": "Rua Nabuco de Freitas",
         "orientation": "v",
         "showlegend": true,
         "texttemplate": "%{value}",
         "type": "histogram",
         "x": [
          "2023-07-24T00:00:00",
          "2023-07-24T00:00:00",
          "2023-09-26T00:00:00",
          "2023-10-07T00:00:00",
          "2024-02-19T00:00:00",
          "2024-03-14T00:00:00",
          "2024-04-12T00:00:00"
         ],
         "xaxis": "x",
         "yaxis": "y"
        },
        {
         "alignmentgroup": "True",
         "bingroup": "x",
         "hovertemplate": "Endereço=Rua do Livramento<br>Data cadastro=%{x}<br>count=%{y}<extra></extra>",
         "legendgroup": "Rua do Livramento",
         "marker": {
          "color": "#FF6692",
          "pattern": {
           "shape": ""
          }
         },
         "name": "Rua do Livramento",
         "offsetgroup": "Rua do Livramento",
         "orientation": "v",
         "showlegend": true,
         "texttemplate": "%{value}",
         "type": "histogram",
         "x": [
          "2023-07-25T00:00:00",
          "2023-08-03T00:00:00",
          "2023-09-08T00:00:00",
          "2023-10-13T00:00:00",
          "2023-10-31T00:00:00",
          "2023-11-17T00:00:00",
          "2023-12-04T00:00:00",
          "2024-02-08T00:00:00",
          "2024-02-09T00:00:00",
          "2024-02-15T00:00:00",
          "2024-05-07T00:00:00",
          "2024-05-15T00:00:00",
          "2024-05-15T00:00:00",
          "2024-05-16T00:00:00"
         ],
         "xaxis": "x",
         "yaxis": "y"
        },
        {
         "alignmentgroup": "True",
         "bingroup": "x",
         "hovertemplate": "Endereço=Rua Ebroino Uruguai<br>Data cadastro=%{x}<br>count=%{y}<extra></extra>",
         "legendgroup": "Rua Ebroino Uruguai",
         "marker": {
          "color": "#B6E880",
          "pattern": {
           "shape": ""
          }
         },
         "name": "Rua Ebroino Uruguai",
         "offsetgroup": "Rua Ebroino Uruguai",
         "orientation": "v",
         "showlegend": true,
         "texttemplate": "%{value}",
         "type": "histogram",
         "x": [
          "2023-07-26T00:00:00",
          "2023-08-26T00:00:00",
          "2023-09-13T00:00:00",
          "2023-09-19T00:00:00",
          "2023-09-21T00:00:00",
          "2023-11-11T00:00:00",
          "2024-01-08T00:00:00",
          "2024-01-20T00:00:00",
          "2024-02-28T00:00:00",
          "2024-05-07T00:00:00"
         ],
         "xaxis": "x",
         "yaxis": "y"
        },
        {
         "alignmentgroup": "True",
         "bingroup": "x",
         "hovertemplate": "Endereço=Rua Mont Alverne<br>Data cadastro=%{x}<br>count=%{y}<extra></extra>",
         "legendgroup": "Rua Mont Alverne",
         "marker": {
          "color": "#FF97FF",
          "pattern": {
           "shape": ""
          }
         },
         "name": "Rua Mont Alverne",
         "offsetgroup": "Rua Mont Alverne",
         "orientation": "v",
         "showlegend": true,
         "texttemplate": "%{value}",
         "type": "histogram",
         "x": [
          "2023-07-26T00:00:00",
          "2024-03-22T00:00:00"
         ],
         "xaxis": "x",
         "yaxis": "y"
        },
        {
         "alignmentgroup": "True",
         "bingroup": "x",
         "hovertemplate": "Endereço=Gasparina<br>Data cadastro=%{x}<br>count=%{y}<extra></extra>",
         "legendgroup": "Gasparina",
         "marker": {
          "color": "#FECB52",
          "pattern": {
           "shape": ""
          }
         },
         "name": "Gasparina",
         "offsetgroup": "Gasparina",
         "orientation": "v",
         "showlegend": true,
         "texttemplate": "%{value}",
         "type": "histogram",
         "x": [
          "2023-07-27T00:00:00"
         ],
         "xaxis": "x",
         "yaxis": "y"
        },
        {
         "alignmentgroup": "True",
         "bingroup": "x",
         "hovertemplate": "Endereço=Rua Bento Ribeiro<br>Data cadastro=%{x}<br>count=%{y}<extra></extra>",
         "legendgroup": "Rua Bento Ribeiro",
         "marker": {
          "color": "#636efa",
          "pattern": {
           "shape": ""
          }
         },
         "name": "Rua Bento Ribeiro",
         "offsetgroup": "Rua Bento Ribeiro",
         "orientation": "v",
         "showlegend": true,
         "texttemplate": "%{value}",
         "type": "histogram",
         "x": [
          "2023-07-27T00:00:00",
          "2023-09-30T00:00:00",
          "2023-12-04T00:00:00",
          "2023-12-18T00:00:00",
          "2024-03-11T00:00:00",
          "2024-04-03T00:00:00"
         ],
         "xaxis": "x",
         "yaxis": "y"
        },
        {
         "alignmentgroup": "True",
         "bingroup": "x",
         "hovertemplate": "Endereço=Ladeira do Faria<br>Data cadastro=%{x}<br>count=%{y}<extra></extra>",
         "legendgroup": "Ladeira do Faria",
         "marker": {
          "color": "#EF553B",
          "pattern": {
           "shape": ""
          }
         },
         "name": "Ladeira do Faria",
         "offsetgroup": "Ladeira do Faria",
         "orientation": "v",
         "showlegend": true,
         "texttemplate": "%{value}",
         "type": "histogram",
         "x": [
          "2023-08-01T00:00:00",
          "2023-08-16T00:00:00",
          "2023-09-02T00:00:00",
          "2023-09-08T00:00:00",
          "2023-10-23T00:00:00",
          "2023-11-08T00:00:00",
          "2023-11-11T00:00:00",
          "2023-12-20T00:00:00",
          "2024-01-03T00:00:00",
          "2024-01-18T00:00:00",
          "2024-01-23T00:00:00",
          "2024-02-03T00:00:00",
          "2024-03-05T00:00:00",
          "2024-04-04T00:00:00",
          "2024-04-10T00:00:00"
         ],
         "xaxis": "x",
         "yaxis": "y"
        },
        {
         "alignmentgroup": "True",
         "bingroup": "x",
         "hovertemplate": "Endereço=Rua Cardoso Marinho<br>Data cadastro=%{x}<br>count=%{y}<extra></extra>",
         "legendgroup": "Rua Cardoso Marinho",
         "marker": {
          "color": "#00cc96",
          "pattern": {
           "shape": ""
          }
         },
         "name": "Rua Cardoso Marinho",
         "offsetgroup": "Rua Cardoso Marinho",
         "orientation": "v",
         "showlegend": true,
         "texttemplate": "%{value}",
         "type": "histogram",
         "x": [
          "2023-08-02T00:00:00",
          "2023-09-09T00:00:00",
          "2023-11-24T00:00:00",
          "2023-12-24T00:00:00",
          "2024-02-07T00:00:00",
          "2024-02-14T00:00:00",
          "2024-03-11T00:00:00",
          "2024-05-10T00:00:00"
         ],
         "xaxis": "x",
         "yaxis": "y"
        },
        {
         "alignmentgroup": "True",
         "bingroup": "x",
         "hovertemplate": "Endereço=Travessa São Diogo<br>Data cadastro=%{x}<br>count=%{y}<extra></extra>",
         "legendgroup": "Travessa São Diogo",
         "marker": {
          "color": "#ab63fa",
          "pattern": {
           "shape": ""
          }
         },
         "name": "Travessa São Diogo",
         "offsetgroup": "Travessa São Diogo",
         "orientation": "v",
         "showlegend": true,
         "texttemplate": "%{value}",
         "type": "histogram",
         "x": [
          "2023-08-02T00:00:00",
          "2023-09-18T00:00:00",
          "2023-09-25T00:00:00",
          "2023-12-20T00:00:00",
          "2024-01-22T00:00:00"
         ],
         "xaxis": "x",
         "yaxis": "y"
        },
        {
         "alignmentgroup": "True",
         "bingroup": "x",
         "hovertemplate": "Endereço=Beco da Bica<br>Data cadastro=%{x}<br>count=%{y}<extra></extra>",
         "legendgroup": "Beco da Bica",
         "marker": {
          "color": "#FFA15A",
          "pattern": {
           "shape": ""
          }
         },
         "name": "Beco da Bica",
         "offsetgroup": "Beco da Bica",
         "orientation": "v",
         "showlegend": true,
         "texttemplate": "%{value}",
         "type": "histogram",
         "x": [
          "2023-08-04T00:00:00"
         ],
         "xaxis": "x",
         "yaxis": "y"
        },
        {
         "alignmentgroup": "True",
         "bingroup": "x",
         "hovertemplate": "Endereço=Rua Ana Mascarenhas<br>Data cadastro=%{x}<br>count=%{y}<extra></extra>",
         "legendgroup": "Rua Ana Mascarenhas",
         "marker": {
          "color": "#19d3f3",
          "pattern": {
           "shape": ""
          }
         },
         "name": "Rua Ana Mascarenhas",
         "offsetgroup": "Rua Ana Mascarenhas",
         "orientation": "v",
         "showlegend": true,
         "texttemplate": "%{value}",
         "type": "histogram",
         "x": [
          "2023-08-07T00:00:00"
         ],
         "xaxis": "x",
         "yaxis": "y"
        },
        {
         "alignmentgroup": "True",
         "bingroup": "x",
         "hovertemplate": "Endereço=Rua Leandro Martins<br>Data cadastro=%{x}<br>count=%{y}<extra></extra>",
         "legendgroup": "Rua Leandro Martins",
         "marker": {
          "color": "#FF6692",
          "pattern": {
           "shape": ""
          }
         },
         "name": "Rua Leandro Martins",
         "offsetgroup": "Rua Leandro Martins",
         "orientation": "v",
         "showlegend": true,
         "texttemplate": "%{value}",
         "type": "histogram",
         "x": [
          "2023-08-08T00:00:00"
         ],
         "xaxis": "x",
         "yaxis": "y"
        },
        {
         "alignmentgroup": "True",
         "bingroup": "x",
         "hovertemplate": "Endereço=Rua Rivadavia Correia<br>Data cadastro=%{x}<br>count=%{y}<extra></extra>",
         "legendgroup": "Rua Rivadavia Correia",
         "marker": {
          "color": "#B6E880",
          "pattern": {
           "shape": ""
          }
         },
         "name": "Rua Rivadavia Correia",
         "offsetgroup": "Rua Rivadavia Correia",
         "orientation": "v",
         "showlegend": true,
         "texttemplate": "%{value}",
         "type": "histogram",
         "x": [
          "2023-08-08T00:00:00",
          "2023-10-04T00:00:00",
          "2023-12-02T00:00:00",
          "2023-12-27T00:00:00"
         ],
         "xaxis": "x",
         "yaxis": "y"
        },
        {
         "alignmentgroup": "True",
         "bingroup": "x",
         "hovertemplate": "Endereço=Rua Pedro Ernesto<br>Data cadastro=%{x}<br>count=%{y}<extra></extra>",
         "legendgroup": "Rua Pedro Ernesto",
         "marker": {
          "color": "#FF97FF",
          "pattern": {
           "shape": ""
          }
         },
         "name": "Rua Pedro Ernesto",
         "offsetgroup": "Rua Pedro Ernesto",
         "orientation": "v",
         "showlegend": true,
         "texttemplate": "%{value}",
         "type": "histogram",
         "x": [
          "2023-08-08T00:00:00",
          "2024-02-26T00:00:00"
         ],
         "xaxis": "x",
         "yaxis": "y"
        },
        {
         "alignmentgroup": "True",
         "bingroup": "x",
         "hovertemplate": "Endereço=Avenida Marechal Floriano<br>Data cadastro=%{x}<br>count=%{y}<extra></extra>",
         "legendgroup": "Avenida Marechal Floriano",
         "marker": {
          "color": "#FECB52",
          "pattern": {
           "shape": ""
          }
         },
         "name": "Avenida Marechal Floriano",
         "offsetgroup": "Avenida Marechal Floriano",
         "orientation": "v",
         "showlegend": true,
         "texttemplate": "%{value}",
         "type": "histogram",
         "x": [
          "2023-08-10T00:00:00",
          "2023-09-26T00:00:00"
         ],
         "xaxis": "x",
         "yaxis": "y"
        },
        {
         "alignmentgroup": "True",
         "bingroup": "x",
         "hovertemplate": "Endereço=Rua do Propósito<br>Data cadastro=%{x}<br>count=%{y}<extra></extra>",
         "legendgroup": "Rua do Propósito",
         "marker": {
          "color": "#636efa",
          "pattern": {
           "shape": ""
          }
         },
         "name": "Rua do Propósito",
         "offsetgroup": "Rua do Propósito",
         "orientation": "v",
         "showlegend": true,
         "texttemplate": "%{value}",
         "type": "histogram",
         "x": [
          "2023-08-10T00:00:00",
          "2023-08-24T00:00:00",
          "2023-12-28T00:00:00",
          "2024-01-03T00:00:00",
          "2024-01-08T00:00:00",
          "2024-02-19T00:00:00"
         ],
         "xaxis": "x",
         "yaxis": "y"
        },
        {
         "alignmentgroup": "True",
         "bingroup": "x",
         "hovertemplate": "Endereço=Beco das Escadinhas do Livramento<br>Data cadastro=%{x}<br>count=%{y}<extra></extra>",
         "legendgroup": "Beco das Escadinhas do Livramento",
         "marker": {
          "color": "#EF553B",
          "pattern": {
           "shape": ""
          }
         },
         "name": "Beco das Escadinhas do Livramento",
         "offsetgroup": "Beco das Escadinhas do Livramento",
         "orientation": "v",
         "showlegend": true,
         "texttemplate": "%{value}",
         "type": "histogram",
         "x": [
          "2023-08-15T00:00:00",
          "2023-09-28T00:00:00",
          "2023-10-25T00:00:00",
          "2023-11-06T00:00:00",
          "2023-11-21T00:00:00"
         ],
         "xaxis": "x",
         "yaxis": "y"
        },
        {
         "alignmentgroup": "True",
         "bingroup": "x",
         "hovertemplate": "Endereço=Rua Sara<br>Data cadastro=%{x}<br>count=%{y}<extra></extra>",
         "legendgroup": "Rua Sara",
         "marker": {
          "color": "#00cc96",
          "pattern": {
           "shape": ""
          }
         },
         "name": "Rua Sara",
         "offsetgroup": "Rua Sara",
         "orientation": "v",
         "showlegend": true,
         "texttemplate": "%{value}",
         "type": "histogram",
         "x": [
          "2023-08-15T00:00:00",
          "2024-02-23T00:00:00",
          "2024-05-17T00:00:00"
         ],
         "xaxis": "x",
         "yaxis": "y"
        },
        {
         "alignmentgroup": "True",
         "bingroup": "x",
         "hovertemplate": "Endereço=Rua Deolinda<br>Data cadastro=%{x}<br>count=%{y}<extra></extra>",
         "legendgroup": "Rua Deolinda",
         "marker": {
          "color": "#ab63fa",
          "pattern": {
           "shape": ""
          }
         },
         "name": "Rua Deolinda",
         "offsetgroup": "Rua Deolinda",
         "orientation": "v",
         "showlegend": true,
         "texttemplate": "%{value}",
         "type": "histogram",
         "x": [
          "2023-08-16T00:00:00"
         ],
         "xaxis": "x",
         "yaxis": "y"
        },
        {
         "alignmentgroup": "True",
         "bingroup": "x",
         "hovertemplate": "Endereço=Rua Marcílio Dias<br>Data cadastro=%{x}<br>count=%{y}<extra></extra>",
         "legendgroup": "Rua Marcílio Dias",
         "marker": {
          "color": "#FFA15A",
          "pattern": {
           "shape": ""
          }
         },
         "name": "Rua Marcílio Dias",
         "offsetgroup": "Rua Marcílio Dias",
         "orientation": "v",
         "showlegend": true,
         "texttemplate": "%{value}",
         "type": "histogram",
         "x": [
          "2023-08-17T00:00:00",
          "2023-09-05T00:00:00",
          "2023-09-18T00:00:00",
          "2024-02-20T00:00:00",
          "2024-03-08T00:00:00"
         ],
         "xaxis": "x",
         "yaxis": "y"
        },
        {
         "alignmentgroup": "True",
         "bingroup": "x",
         "hovertemplate": "Endereço=Travessa da Felicidade<br>Data cadastro=%{x}<br>count=%{y}<extra></extra>",
         "legendgroup": "Travessa da Felicidade",
         "marker": {
          "color": "#19d3f3",
          "pattern": {
           "shape": ""
          }
         },
         "name": "Travessa da Felicidade",
         "offsetgroup": "Travessa da Felicidade",
         "orientation": "v",
         "showlegend": true,
         "texttemplate": "%{value}",
         "type": "histogram",
         "x": [
          "2023-08-21T00:00:00",
          "2023-08-23T00:00:00",
          "2023-09-18T00:00:00",
          "2023-10-31T00:00:00",
          "2023-12-19T00:00:00",
          "2024-03-13T00:00:00"
         ],
         "xaxis": "x",
         "yaxis": "y"
        },
        {
         "alignmentgroup": "True",
         "bingroup": "x",
         "hovertemplate": "Endereço=Rua Moreira Pinto<br>Data cadastro=%{x}<br>count=%{y}<extra></extra>",
         "legendgroup": "Rua Moreira Pinto",
         "marker": {
          "color": "#FF6692",
          "pattern": {
           "shape": ""
          }
         },
         "name": "Rua Moreira Pinto",
         "offsetgroup": "Rua Moreira Pinto",
         "orientation": "v",
         "showlegend": true,
         "texttemplate": "%{value}",
         "type": "histogram",
         "x": [
          "2023-08-23T00:00:00",
          "2023-09-14T00:00:00",
          "2023-12-15T00:00:00"
         ],
         "xaxis": "x",
         "yaxis": "y"
        },
        {
         "alignmentgroup": "True",
         "bingroup": "x",
         "hovertemplate": "Endereço=Rua Marquês de Sapucaí<br>Data cadastro=%{x}<br>count=%{y}<extra></extra>",
         "legendgroup": "Rua Marquês de Sapucaí",
         "marker": {
          "color": "#B6E880",
          "pattern": {
           "shape": ""
          }
         },
         "name": "Rua Marquês de Sapucaí",
         "offsetgroup": "Rua Marquês de Sapucaí",
         "orientation": "v",
         "showlegend": true,
         "texttemplate": "%{value}",
         "type": "histogram",
         "x": [
          "2023-08-23T00:00:00"
         ],
         "xaxis": "x",
         "yaxis": "y"
        },
        {
         "alignmentgroup": "True",
         "bingroup": "x",
         "hovertemplate": "Endereço=Rua Pedro Alves<br>Data cadastro=%{x}<br>count=%{y}<extra></extra>",
         "legendgroup": "Rua Pedro Alves",
         "marker": {
          "color": "#FF97FF",
          "pattern": {
           "shape": ""
          }
         },
         "name": "Rua Pedro Alves",
         "offsetgroup": "Rua Pedro Alves",
         "orientation": "v",
         "showlegend": true,
         "texttemplate": "%{value}",
         "type": "histogram",
         "x": [
          "2023-08-24T00:00:00",
          "2023-09-04T00:00:00",
          "2023-09-30T00:00:00",
          "2023-10-02T00:00:00",
          "2023-12-05T00:00:00",
          "2024-01-12T00:00:00",
          "2024-02-16T00:00:00",
          "2024-04-01T00:00:00",
          "2024-04-24T00:00:00"
         ],
         "xaxis": "x",
         "yaxis": "y"
        },
        {
         "alignmentgroup": "True",
         "bingroup": "x",
         "hovertemplate": "Endereço=Rua Dona Lucia<br>Data cadastro=%{x}<br>count=%{y}<extra></extra>",
         "legendgroup": "Rua Dona Lucia",
         "marker": {
          "color": "#FECB52",
          "pattern": {
           "shape": ""
          }
         },
         "name": "Rua Dona Lucia",
         "offsetgroup": "Rua Dona Lucia",
         "orientation": "v",
         "showlegend": true,
         "texttemplate": "%{value}",
         "type": "histogram",
         "x": [
          "2023-08-28T00:00:00"
         ],
         "xaxis": "x",
         "yaxis": "y"
        },
        {
         "alignmentgroup": "True",
         "bingroup": "x",
         "hovertemplate": "Endereço=Rua do Cruzeiro<br>Data cadastro=%{x}<br>count=%{y}<extra></extra>",
         "legendgroup": "Rua do Cruzeiro",
         "marker": {
          "color": "#636efa",
          "pattern": {
           "shape": ""
          }
         },
         "name": "Rua do Cruzeiro",
         "offsetgroup": "Rua do Cruzeiro",
         "orientation": "v",
         "showlegend": true,
         "texttemplate": "%{value}",
         "type": "histogram",
         "x": [
          "2023-09-05T00:00:00"
         ],
         "xaxis": "x",
         "yaxis": "y"
        },
        {
         "alignmentgroup": "True",
         "bingroup": "x",
         "hovertemplate": "Endereço=Rua Gasparina<br>Data cadastro=%{x}<br>count=%{y}<extra></extra>",
         "legendgroup": "Rua Gasparina",
         "marker": {
          "color": "#EF553B",
          "pattern": {
           "shape": ""
          }
         },
         "name": "Rua Gasparina",
         "offsetgroup": "Rua Gasparina",
         "orientation": "v",
         "showlegend": true,
         "texttemplate": "%{value}",
         "type": "histogram",
         "x": [
          "2023-09-08T00:00:00"
         ],
         "xaxis": "x",
         "yaxis": "y"
        },
        {
         "alignmentgroup": "True",
         "bingroup": "x",
         "hovertemplate": "Endereço=Ladeira Morro do Valongo<br>Data cadastro=%{x}<br>count=%{y}<extra></extra>",
         "legendgroup": "Ladeira Morro do Valongo",
         "marker": {
          "color": "#00cc96",
          "pattern": {
           "shape": ""
          }
         },
         "name": "Ladeira Morro do Valongo",
         "offsetgroup": "Ladeira Morro do Valongo",
         "orientation": "v",
         "showlegend": true,
         "texttemplate": "%{value}",
         "type": "histogram",
         "x": [
          "2023-09-09T00:00:00"
         ],
         "xaxis": "x",
         "yaxis": "y"
        },
        {
         "alignmentgroup": "True",
         "bingroup": "x",
         "hovertemplate": "Endereço=Ladeira Madre de Deus<br>Data cadastro=%{x}<br>count=%{y}<extra></extra>",
         "legendgroup": "Ladeira Madre de Deus",
         "marker": {
          "color": "#ab63fa",
          "pattern": {
           "shape": ""
          }
         },
         "name": "Ladeira Madre de Deus",
         "offsetgroup": "Ladeira Madre de Deus",
         "orientation": "v",
         "showlegend": true,
         "texttemplate": "%{value}",
         "type": "histogram",
         "x": [
          "2023-09-21T00:00:00",
          "2023-10-20T00:00:00",
          "2023-11-27T00:00:00",
          "2024-03-05T00:00:00"
         ],
         "xaxis": "x",
         "yaxis": "y"
        },
        {
         "alignmentgroup": "True",
         "bingroup": "x",
         "hovertemplate": "Endereço=Rua Leôncio de Albuquerque<br>Data cadastro=%{x}<br>count=%{y}<extra></extra>",
         "legendgroup": "Rua Leôncio de Albuquerque",
         "marker": {
          "color": "#FFA15A",
          "pattern": {
           "shape": ""
          }
         },
         "name": "Rua Leôncio de Albuquerque",
         "offsetgroup": "Rua Leôncio de Albuquerque",
         "orientation": "v",
         "showlegend": true,
         "texttemplate": "%{value}",
         "type": "histogram",
         "x": [
          "2023-09-26T00:00:00",
          "2023-10-02T00:00:00",
          "2023-11-06T00:00:00",
          "2023-12-28T00:00:00",
          "2024-02-07T00:00:00"
         ],
         "xaxis": "x",
         "yaxis": "y"
        },
        {
         "alignmentgroup": "True",
         "bingroup": "x",
         "hovertemplate": "Endereço=Rua Visconde da Gávea<br>Data cadastro=%{x}<br>count=%{y}<extra></extra>",
         "legendgroup": "Rua Visconde da Gávea",
         "marker": {
          "color": "#19d3f3",
          "pattern": {
           "shape": ""
          }
         },
         "name": "Rua Visconde da Gávea",
         "offsetgroup": "Rua Visconde da Gávea",
         "orientation": "v",
         "showlegend": true,
         "texttemplate": "%{value}",
         "type": "histogram",
         "x": [
          "2023-09-27T00:00:00",
          "2024-01-26T00:00:00",
          "2024-04-18T00:00:00"
         ],
         "xaxis": "x",
         "yaxis": "y"
        },
        {
         "alignmentgroup": "True",
         "bingroup": "x",
         "hovertemplate": "Endereço=Rua Alfredo Dolabela Portela<br>Data cadastro=%{x}<br>count=%{y}<extra></extra>",
         "legendgroup": "Rua Alfredo Dolabela Portela",
         "marker": {
          "color": "#FF6692",
          "pattern": {
           "shape": ""
          }
         },
         "name": "Rua Alfredo Dolabela Portela",
         "offsetgroup": "Rua Alfredo Dolabela Portela",
         "orientation": "v",
         "showlegend": true,
         "texttemplate": "%{value}",
         "type": "histogram",
         "x": [
          "2023-09-27T00:00:00",
          "2023-10-25T00:00:00",
          "2023-11-07T00:00:00",
          "2023-12-08T00:00:00",
          "2024-03-08T00:00:00"
         ],
         "xaxis": "x",
         "yaxis": "y"
        },
        {
         "alignmentgroup": "True",
         "bingroup": "x",
         "hovertemplate": "Endereço=Rua Macedo Júnior<br>Data cadastro=%{x}<br>count=%{y}<extra></extra>",
         "legendgroup": "Rua Macedo Júnior",
         "marker": {
          "color": "#B6E880",
          "pattern": {
           "shape": ""
          }
         },
         "name": "Rua Macedo Júnior",
         "offsetgroup": "Rua Macedo Júnior",
         "orientation": "v",
         "showlegend": true,
         "texttemplate": "%{value}",
         "type": "histogram",
         "x": [
          "2023-09-29T00:00:00"
         ],
         "xaxis": "x",
         "yaxis": "y"
        },
        {
         "alignmentgroup": "True",
         "bingroup": "x",
         "hovertemplate": "Endereço=Rua Cruzeiro<br>Data cadastro=%{x}<br>count=%{y}<extra></extra>",
         "legendgroup": "Rua Cruzeiro",
         "marker": {
          "color": "#FF97FF",
          "pattern": {
           "shape": ""
          }
         },
         "name": "Rua Cruzeiro",
         "offsetgroup": "Rua Cruzeiro",
         "orientation": "v",
         "showlegend": true,
         "texttemplate": "%{value}",
         "type": "histogram",
         "x": [
          "2023-10-16T00:00:00",
          "2024-04-16T00:00:00",
          "2024-05-06T00:00:00"
         ],
         "xaxis": "x",
         "yaxis": "y"
        },
        {
         "alignmentgroup": "True",
         "bingroup": "x",
         "hovertemplate": "Endereço=Rua Carlos Gomes<br>Data cadastro=%{x}<br>count=%{y}<extra></extra>",
         "legendgroup": "Rua Carlos Gomes",
         "marker": {
          "color": "#FECB52",
          "pattern": {
           "shape": ""
          }
         },
         "name": "Rua Carlos Gomes",
         "offsetgroup": "Rua Carlos Gomes",
         "orientation": "v",
         "showlegend": true,
         "texttemplate": "%{value}",
         "type": "histogram",
         "x": [
          "2023-10-23T00:00:00",
          "2024-04-29T00:00:00"
         ],
         "xaxis": "x",
         "yaxis": "y"
        },
        {
         "alignmentgroup": "True",
         "bingroup": "x",
         "hovertemplate": "Endereço=Rua Silvino Montenegro<br>Data cadastro=%{x}<br>count=%{y}<extra></extra>",
         "legendgroup": "Rua Silvino Montenegro",
         "marker": {
          "color": "#636efa",
          "pattern": {
           "shape": ""
          }
         },
         "name": "Rua Silvino Montenegro",
         "offsetgroup": "Rua Silvino Montenegro",
         "orientation": "v",
         "showlegend": true,
         "texttemplate": "%{value}",
         "type": "histogram",
         "x": [
          "2023-11-06T00:00:00"
         ],
         "xaxis": "x",
         "yaxis": "y"
        },
        {
         "alignmentgroup": "True",
         "bingroup": "x",
         "hovertemplate": "Endereço=Rua Waldemar Dutra<br>Data cadastro=%{x}<br>count=%{y}<extra></extra>",
         "legendgroup": "Rua Waldemar Dutra",
         "marker": {
          "color": "#EF553B",
          "pattern": {
           "shape": ""
          }
         },
         "name": "Rua Waldemar Dutra",
         "offsetgroup": "Rua Waldemar Dutra",
         "orientation": "v",
         "showlegend": true,
         "texttemplate": "%{value}",
         "type": "histogram",
         "x": [
          "2023-11-21T00:00:00"
         ],
         "xaxis": "x",
         "yaxis": "y"
        },
        {
         "alignmentgroup": "True",
         "bingroup": "x",
         "hovertemplate": "Endereço=Avenida Venezuela<br>Data cadastro=%{x}<br>count=%{y}<extra></extra>",
         "legendgroup": "Avenida Venezuela",
         "marker": {
          "color": "#00cc96",
          "pattern": {
           "shape": ""
          }
         },
         "name": "Avenida Venezuela",
         "offsetgroup": "Avenida Venezuela",
         "orientation": "v",
         "showlegend": true,
         "texttemplate": "%{value}",
         "type": "histogram",
         "x": [
          "2023-11-27T00:00:00"
         ],
         "xaxis": "x",
         "yaxis": "y"
        },
        {
         "alignmentgroup": "True",
         "bingroup": "x",
         "hovertemplate": "Endereço=Rua Farnese<br>Data cadastro=%{x}<br>count=%{y}<extra></extra>",
         "legendgroup": "Rua Farnese",
         "marker": {
          "color": "#ab63fa",
          "pattern": {
           "shape": ""
          }
         },
         "name": "Rua Farnese",
         "offsetgroup": "Rua Farnese",
         "orientation": "v",
         "showlegend": true,
         "texttemplate": "%{value}",
         "type": "histogram",
         "x": [
          "2023-12-02T00:00:00"
         ],
         "xaxis": "x",
         "yaxis": "y"
        },
        {
         "alignmentgroup": "True",
         "bingroup": "x",
         "hovertemplate": "Endereço=Rua Rosa Saião<br>Data cadastro=%{x}<br>count=%{y}<extra></extra>",
         "legendgroup": "Rua Rosa Saião",
         "marker": {
          "color": "#FFA15A",
          "pattern": {
           "shape": ""
          }
         },
         "name": "Rua Rosa Saião",
         "offsetgroup": "Rua Rosa Saião",
         "orientation": "v",
         "showlegend": true,
         "texttemplate": "%{value}",
         "type": "histogram",
         "x": [
          "2023-12-05T00:00:00",
          "2024-02-14T00:00:00"
         ],
         "xaxis": "x",
         "yaxis": "y"
        },
        {
         "alignmentgroup": "True",
         "bingroup": "x",
         "hovertemplate": "Endereço=Rua Capitão Sena<br>Data cadastro=%{x}<br>count=%{y}<extra></extra>",
         "legendgroup": "Rua Capitão Sena",
         "marker": {
          "color": "#19d3f3",
          "pattern": {
           "shape": ""
          }
         },
         "name": "Rua Capitão Sena",
         "offsetgroup": "Rua Capitão Sena",
         "orientation": "v",
         "showlegend": true,
         "texttemplate": "%{value}",
         "type": "histogram",
         "x": [
          "2023-12-14T00:00:00",
          "2024-04-05T00:00:00"
         ],
         "xaxis": "x",
         "yaxis": "y"
        },
        {
         "alignmentgroup": "True",
         "bingroup": "x",
         "hovertemplate": "Endereço=Rua Marquês de Pombal<br>Data cadastro=%{x}<br>count=%{y}<extra></extra>",
         "legendgroup": "Rua Marquês de Pombal",
         "marker": {
          "color": "#FF6692",
          "pattern": {
           "shape": ""
          }
         },
         "name": "Rua Marquês de Pombal",
         "offsetgroup": "Rua Marquês de Pombal",
         "orientation": "v",
         "showlegend": true,
         "texttemplate": "%{value}",
         "type": "histogram",
         "x": [
          "2023-12-16T00:00:00"
         ],
         "xaxis": "x",
         "yaxis": "y"
        },
        {
         "alignmentgroup": "True",
         "bingroup": "x",
         "hovertemplate": "Endereço=Rua Macedo Junior<br>Data cadastro=%{x}<br>count=%{y}<extra></extra>",
         "legendgroup": "Rua Macedo Junior",
         "marker": {
          "color": "#B6E880",
          "pattern": {
           "shape": ""
          }
         },
         "name": "Rua Macedo Junior",
         "offsetgroup": "Rua Macedo Junior",
         "orientation": "v",
         "showlegend": true,
         "texttemplate": "%{value}",
         "type": "histogram",
         "x": [
          "2023-12-28T00:00:00"
         ],
         "xaxis": "x",
         "yaxis": "y"
        },
        {
         "alignmentgroup": "True",
         "bingroup": "x",
         "hovertemplate": "Endereço=Rua da União<br>Data cadastro=%{x}<br>count=%{y}<extra></extra>",
         "legendgroup": "Rua da União",
         "marker": {
          "color": "#FF97FF",
          "pattern": {
           "shape": ""
          }
         },
         "name": "Rua da União",
         "offsetgroup": "Rua da União",
         "orientation": "v",
         "showlegend": true,
         "texttemplate": "%{value}",
         "type": "histogram",
         "x": [
          "2024-01-04T00:00:00"
         ],
         "xaxis": "x",
         "yaxis": "y"
        },
        {
         "alignmentgroup": "True",
         "bingroup": "x",
         "hovertemplate": "Endereço=Travessa Brito Teixeira<br>Data cadastro=%{x}<br>count=%{y}<extra></extra>",
         "legendgroup": "Travessa Brito Teixeira",
         "marker": {
          "color": "#FECB52",
          "pattern": {
           "shape": ""
          }
         },
         "name": "Travessa Brito Teixeira",
         "offsetgroup": "Travessa Brito Teixeira",
         "orientation": "v",
         "showlegend": true,
         "texttemplate": "%{value}",
         "type": "histogram",
         "x": [
          "2024-01-08T00:00:00"
         ],
         "xaxis": "x",
         "yaxis": "y"
        },
        {
         "alignmentgroup": "True",
         "bingroup": "x",
         "hovertemplate": "Endereço=Rua Camerino<br>Data cadastro=%{x}<br>count=%{y}<extra></extra>",
         "legendgroup": "Rua Camerino",
         "marker": {
          "color": "#636efa",
          "pattern": {
           "shape": ""
          }
         },
         "name": "Rua Camerino",
         "offsetgroup": "Rua Camerino",
         "orientation": "v",
         "showlegend": true,
         "texttemplate": "%{value}",
         "type": "histogram",
         "x": [
          "2024-02-03T00:00:00",
          "2024-02-07T00:00:00"
         ],
         "xaxis": "x",
         "yaxis": "y"
        },
        {
         "alignmentgroup": "True",
         "bingroup": "x",
         "hovertemplate": "Endereço=Rua Antônio Lage<br>Data cadastro=%{x}<br>count=%{y}<extra></extra>",
         "legendgroup": "Rua Antônio Lage",
         "marker": {
          "color": "#EF553B",
          "pattern": {
           "shape": ""
          }
         },
         "name": "Rua Antônio Lage",
         "offsetgroup": "Rua Antônio Lage",
         "orientation": "v",
         "showlegend": true,
         "texttemplate": "%{value}",
         "type": "histogram",
         "x": [
          "2024-02-06T00:00:00"
         ],
         "xaxis": "x",
         "yaxis": "y"
        },
        {
         "alignmentgroup": "True",
         "bingroup": "x",
         "hovertemplate": "Endereço=Rua Costa Barros<br>Data cadastro=%{x}<br>count=%{y}<extra></extra>",
         "legendgroup": "Rua Costa Barros",
         "marker": {
          "color": "#00cc96",
          "pattern": {
           "shape": ""
          }
         },
         "name": "Rua Costa Barros",
         "offsetgroup": "Rua Costa Barros",
         "orientation": "v",
         "showlegend": true,
         "texttemplate": "%{value}",
         "type": "histogram",
         "x": [
          "2024-02-17T00:00:00",
          "2024-04-17T00:00:00"
         ],
         "xaxis": "x",
         "yaxis": "y"
        },
        {
         "alignmentgroup": "True",
         "bingroup": "x",
         "hovertemplate": "Endereço=Rua Miguel Saião<br>Data cadastro=%{x}<br>count=%{y}<extra></extra>",
         "legendgroup": "Rua Miguel Saião",
         "marker": {
          "color": "#ab63fa",
          "pattern": {
           "shape": ""
          }
         },
         "name": "Rua Miguel Saião",
         "offsetgroup": "Rua Miguel Saião",
         "orientation": "v",
         "showlegend": true,
         "texttemplate": "%{value}",
         "type": "histogram",
         "x": [
          "2024-03-05T00:00:00"
         ],
         "xaxis": "x",
         "yaxis": "y"
        },
        {
         "alignmentgroup": "True",
         "bingroup": "x",
         "hovertemplate": "Endereço=Rua da América 81<br>Data cadastro=%{x}<br>count=%{y}<extra></extra>",
         "legendgroup": "Rua da América 81",
         "marker": {
          "color": "#FFA15A",
          "pattern": {
           "shape": ""
          }
         },
         "name": "Rua da América 81",
         "offsetgroup": "Rua da América 81",
         "orientation": "v",
         "showlegend": true,
         "texttemplate": "%{value}",
         "type": "histogram",
         "x": [
          "2024-03-15T00:00:00",
          "2024-04-22T00:00:00"
         ],
         "xaxis": "x",
         "yaxis": "y"
        },
        {
         "alignmentgroup": "True",
         "bingroup": "x",
         "hovertemplate": "Endereço=Rua João Cardoso<br>Data cadastro=%{x}<br>count=%{y}<extra></extra>",
         "legendgroup": "Rua João Cardoso",
         "marker": {
          "color": "#19d3f3",
          "pattern": {
           "shape": ""
          }
         },
         "name": "Rua João Cardoso",
         "offsetgroup": "Rua João Cardoso",
         "orientation": "v",
         "showlegend": true,
         "texttemplate": "%{value}",
         "type": "histogram",
         "x": [
          "2024-03-19T00:00:00"
         ],
         "xaxis": "x",
         "yaxis": "y"
        },
        {
         "alignmentgroup": "True",
         "bingroup": "x",
         "hovertemplate": "Endereço=Rua Major Saião<br>Data cadastro=%{x}<br>count=%{y}<extra></extra>",
         "legendgroup": "Rua Major Saião",
         "marker": {
          "color": "#FF6692",
          "pattern": {
           "shape": ""
          }
         },
         "name": "Rua Major Saião",
         "offsetgroup": "Rua Major Saião",
         "orientation": "v",
         "showlegend": true,
         "texttemplate": "%{value}",
         "type": "histogram",
         "x": [
          "2024-03-28T00:00:00",
          "2024-04-09T00:00:00"
         ],
         "xaxis": "x",
         "yaxis": "y"
        },
        {
         "alignmentgroup": "True",
         "bingroup": "x",
         "hovertemplate": "Endereço=Rua Saldanha Marinho<br>Data cadastro=%{x}<br>count=%{y}<extra></extra>",
         "legendgroup": "Rua Saldanha Marinho",
         "marker": {
          "color": "#B6E880",
          "pattern": {
           "shape": ""
          }
         },
         "name": "Rua Saldanha Marinho",
         "offsetgroup": "Rua Saldanha Marinho",
         "orientation": "v",
         "showlegend": true,
         "texttemplate": "%{value}",
         "type": "histogram",
         "x": [
          "2024-03-29T00:00:00"
         ],
         "xaxis": "x",
         "yaxis": "y"
        },
        {
         "alignmentgroup": "True",
         "bingroup": "x",
         "hovertemplate": "Endereço=Rua Joaquim Esposel<br>Data cadastro=%{x}<br>count=%{y}<extra></extra>",
         "legendgroup": "Rua Joaquim Esposel",
         "marker": {
          "color": "#FF97FF",
          "pattern": {
           "shape": ""
          }
         },
         "name": "Rua Joaquim Esposel",
         "offsetgroup": "Rua Joaquim Esposel",
         "orientation": "v",
         "showlegend": true,
         "texttemplate": "%{value}",
         "type": "histogram",
         "x": [
          "2024-04-04T00:00:00"
         ],
         "xaxis": "x",
         "yaxis": "y"
        },
        {
         "alignmentgroup": "True",
         "bingroup": "x",
         "hovertemplate": "Endereço=Avenida Presidente Vargas<br>Data cadastro=%{x}<br>count=%{y}<extra></extra>",
         "legendgroup": "Avenida Presidente Vargas",
         "marker": {
          "color": "#FECB52",
          "pattern": {
           "shape": ""
          }
         },
         "name": "Avenida Presidente Vargas",
         "offsetgroup": "Avenida Presidente Vargas",
         "orientation": "v",
         "showlegend": true,
         "texttemplate": "%{value}",
         "type": "histogram",
         "x": [
          "2024-04-09T00:00:00",
          "2024-04-16T00:00:00"
         ],
         "xaxis": "x",
         "yaxis": "y"
        },
        {
         "alignmentgroup": "True",
         "bingroup": "x",
         "hovertemplate": "Endereço=Rua João Álvares<br>Data cadastro=%{x}<br>count=%{y}<extra></extra>",
         "legendgroup": "Rua João Álvares",
         "marker": {
          "color": "#636efa",
          "pattern": {
           "shape": ""
          }
         },
         "name": "Rua João Álvares",
         "offsetgroup": "Rua João Álvares",
         "orientation": "v",
         "showlegend": true,
         "texttemplate": "%{value}",
         "type": "histogram",
         "x": [
          "2024-04-18T00:00:00"
         ],
         "xaxis": "x",
         "yaxis": "y"
        },
        {
         "alignmentgroup": "True",
         "bingroup": "x",
         "hovertemplate": "Endereço=Rua da Conceição<br>Data cadastro=%{x}<br>count=%{y}<extra></extra>",
         "legendgroup": "Rua da Conceição",
         "marker": {
          "color": "#EF553B",
          "pattern": {
           "shape": ""
          }
         },
         "name": "Rua da Conceição",
         "offsetgroup": "Rua da Conceição",
         "orientation": "v",
         "showlegend": true,
         "texttemplate": "%{value}",
         "type": "histogram",
         "x": [
          "2024-04-19T00:00:00",
          "2024-04-22T00:00:00"
         ],
         "xaxis": "x",
         "yaxis": "y"
        },
        {
         "alignmentgroup": "True",
         "bingroup": "x",
         "hovertemplate": "Endereço=Travessa da Odete<br>Data cadastro=%{x}<br>count=%{y}<extra></extra>",
         "legendgroup": "Travessa da Odete",
         "marker": {
          "color": "#00cc96",
          "pattern": {
           "shape": ""
          }
         },
         "name": "Travessa da Odete",
         "offsetgroup": "Travessa da Odete",
         "orientation": "v",
         "showlegend": true,
         "texttemplate": "%{value}",
         "type": "histogram",
         "x": [
          "2024-04-27T00:00:00"
         ],
         "xaxis": "x",
         "yaxis": "y"
        },
        {
         "alignmentgroup": "True",
         "bingroup": "x",
         "hovertemplate": "Endereço=Rua Atilia<br>Data cadastro=%{x}<br>count=%{y}<extra></extra>",
         "legendgroup": "Rua Atilia",
         "marker": {
          "color": "#ab63fa",
          "pattern": {
           "shape": ""
          }
         },
         "name": "Rua Atilia",
         "offsetgroup": "Rua Atilia",
         "orientation": "v",
         "showlegend": true,
         "texttemplate": "%{value}",
         "type": "histogram",
         "x": [
          "2024-05-06T00:00:00",
          "2024-05-06T00:00:00"
         ],
         "xaxis": "x",
         "yaxis": "y"
        },
        {
         "alignmentgroup": "True",
         "bingroup": "x",
         "hovertemplate": "Endereço=Rua Sacadura Cabral<br>Data cadastro=%{x}<br>count=%{y}<extra></extra>",
         "legendgroup": "Rua Sacadura Cabral",
         "marker": {
          "color": "#FFA15A",
          "pattern": {
           "shape": ""
          }
         },
         "name": "Rua Sacadura Cabral",
         "offsetgroup": "Rua Sacadura Cabral",
         "orientation": "v",
         "showlegend": true,
         "texttemplate": "%{value}",
         "type": "histogram",
         "x": [
          "2024-05-07T00:00:00"
         ],
         "xaxis": "x",
         "yaxis": "y"
        }
       ],
       "layout": {
        "barmode": "group",
        "legend": {
         "title": {
          "text": "Endereço"
         },
         "tracegroupgap": 0
        },
        "margin": {
         "t": 60
        },
        "template": {
         "data": {
          "bar": [
           {
            "error_x": {
             "color": "#2a3f5f"
            },
            "error_y": {
             "color": "#2a3f5f"
            },
            "marker": {
             "line": {
              "color": "#E5ECF6",
              "width": 0.5
             },
             "pattern": {
              "fillmode": "overlay",
              "size": 10,
              "solidity": 0.2
             }
            },
            "type": "bar"
           }
          ],
          "barpolar": [
           {
            "marker": {
             "line": {
              "color": "#E5ECF6",
              "width": 0.5
             },
             "pattern": {
              "fillmode": "overlay",
              "size": 10,
              "solidity": 0.2
             }
            },
            "type": "barpolar"
           }
          ],
          "carpet": [
           {
            "aaxis": {
             "endlinecolor": "#2a3f5f",
             "gridcolor": "white",
             "linecolor": "white",
             "minorgridcolor": "white",
             "startlinecolor": "#2a3f5f"
            },
            "baxis": {
             "endlinecolor": "#2a3f5f",
             "gridcolor": "white",
             "linecolor": "white",
             "minorgridcolor": "white",
             "startlinecolor": "#2a3f5f"
            },
            "type": "carpet"
           }
          ],
          "choropleth": [
           {
            "colorbar": {
             "outlinewidth": 0,
             "ticks": ""
            },
            "type": "choropleth"
           }
          ],
          "contour": [
           {
            "colorbar": {
             "outlinewidth": 0,
             "ticks": ""
            },
            "colorscale": [
             [
              0,
              "#0d0887"
             ],
             [
              0.1111111111111111,
              "#46039f"
             ],
             [
              0.2222222222222222,
              "#7201a8"
             ],
             [
              0.3333333333333333,
              "#9c179e"
             ],
             [
              0.4444444444444444,
              "#bd3786"
             ],
             [
              0.5555555555555556,
              "#d8576b"
             ],
             [
              0.6666666666666666,
              "#ed7953"
             ],
             [
              0.7777777777777778,
              "#fb9f3a"
             ],
             [
              0.8888888888888888,
              "#fdca26"
             ],
             [
              1,
              "#f0f921"
             ]
            ],
            "type": "contour"
           }
          ],
          "contourcarpet": [
           {
            "colorbar": {
             "outlinewidth": 0,
             "ticks": ""
            },
            "type": "contourcarpet"
           }
          ],
          "heatmap": [
           {
            "colorbar": {
             "outlinewidth": 0,
             "ticks": ""
            },
            "colorscale": [
             [
              0,
              "#0d0887"
             ],
             [
              0.1111111111111111,
              "#46039f"
             ],
             [
              0.2222222222222222,
              "#7201a8"
             ],
             [
              0.3333333333333333,
              "#9c179e"
             ],
             [
              0.4444444444444444,
              "#bd3786"
             ],
             [
              0.5555555555555556,
              "#d8576b"
             ],
             [
              0.6666666666666666,
              "#ed7953"
             ],
             [
              0.7777777777777778,
              "#fb9f3a"
             ],
             [
              0.8888888888888888,
              "#fdca26"
             ],
             [
              1,
              "#f0f921"
             ]
            ],
            "type": "heatmap"
           }
          ],
          "heatmapgl": [
           {
            "colorbar": {
             "outlinewidth": 0,
             "ticks": ""
            },
            "colorscale": [
             [
              0,
              "#0d0887"
             ],
             [
              0.1111111111111111,
              "#46039f"
             ],
             [
              0.2222222222222222,
              "#7201a8"
             ],
             [
              0.3333333333333333,
              "#9c179e"
             ],
             [
              0.4444444444444444,
              "#bd3786"
             ],
             [
              0.5555555555555556,
              "#d8576b"
             ],
             [
              0.6666666666666666,
              "#ed7953"
             ],
             [
              0.7777777777777778,
              "#fb9f3a"
             ],
             [
              0.8888888888888888,
              "#fdca26"
             ],
             [
              1,
              "#f0f921"
             ]
            ],
            "type": "heatmapgl"
           }
          ],
          "histogram": [
           {
            "marker": {
             "pattern": {
              "fillmode": "overlay",
              "size": 10,
              "solidity": 0.2
             }
            },
            "type": "histogram"
           }
          ],
          "histogram2d": [
           {
            "colorbar": {
             "outlinewidth": 0,
             "ticks": ""
            },
            "colorscale": [
             [
              0,
              "#0d0887"
             ],
             [
              0.1111111111111111,
              "#46039f"
             ],
             [
              0.2222222222222222,
              "#7201a8"
             ],
             [
              0.3333333333333333,
              "#9c179e"
             ],
             [
              0.4444444444444444,
              "#bd3786"
             ],
             [
              0.5555555555555556,
              "#d8576b"
             ],
             [
              0.6666666666666666,
              "#ed7953"
             ],
             [
              0.7777777777777778,
              "#fb9f3a"
             ],
             [
              0.8888888888888888,
              "#fdca26"
             ],
             [
              1,
              "#f0f921"
             ]
            ],
            "type": "histogram2d"
           }
          ],
          "histogram2dcontour": [
           {
            "colorbar": {
             "outlinewidth": 0,
             "ticks": ""
            },
            "colorscale": [
             [
              0,
              "#0d0887"
             ],
             [
              0.1111111111111111,
              "#46039f"
             ],
             [
              0.2222222222222222,
              "#7201a8"
             ],
             [
              0.3333333333333333,
              "#9c179e"
             ],
             [
              0.4444444444444444,
              "#bd3786"
             ],
             [
              0.5555555555555556,
              "#d8576b"
             ],
             [
              0.6666666666666666,
              "#ed7953"
             ],
             [
              0.7777777777777778,
              "#fb9f3a"
             ],
             [
              0.8888888888888888,
              "#fdca26"
             ],
             [
              1,
              "#f0f921"
             ]
            ],
            "type": "histogram2dcontour"
           }
          ],
          "mesh3d": [
           {
            "colorbar": {
             "outlinewidth": 0,
             "ticks": ""
            },
            "type": "mesh3d"
           }
          ],
          "parcoords": [
           {
            "line": {
             "colorbar": {
              "outlinewidth": 0,
              "ticks": ""
             }
            },
            "type": "parcoords"
           }
          ],
          "pie": [
           {
            "automargin": true,
            "type": "pie"
           }
          ],
          "scatter": [
           {
            "fillpattern": {
             "fillmode": "overlay",
             "size": 10,
             "solidity": 0.2
            },
            "type": "scatter"
           }
          ],
          "scatter3d": [
           {
            "line": {
             "colorbar": {
              "outlinewidth": 0,
              "ticks": ""
             }
            },
            "marker": {
             "colorbar": {
              "outlinewidth": 0,
              "ticks": ""
             }
            },
            "type": "scatter3d"
           }
          ],
          "scattercarpet": [
           {
            "marker": {
             "colorbar": {
              "outlinewidth": 0,
              "ticks": ""
             }
            },
            "type": "scattercarpet"
           }
          ],
          "scattergeo": [
           {
            "marker": {
             "colorbar": {
              "outlinewidth": 0,
              "ticks": ""
             }
            },
            "type": "scattergeo"
           }
          ],
          "scattergl": [
           {
            "marker": {
             "colorbar": {
              "outlinewidth": 0,
              "ticks": ""
             }
            },
            "type": "scattergl"
           }
          ],
          "scattermapbox": [
           {
            "marker": {
             "colorbar": {
              "outlinewidth": 0,
              "ticks": ""
             }
            },
            "type": "scattermapbox"
           }
          ],
          "scatterpolar": [
           {
            "marker": {
             "colorbar": {
              "outlinewidth": 0,
              "ticks": ""
             }
            },
            "type": "scatterpolar"
           }
          ],
          "scatterpolargl": [
           {
            "marker": {
             "colorbar": {
              "outlinewidth": 0,
              "ticks": ""
             }
            },
            "type": "scatterpolargl"
           }
          ],
          "scatterternary": [
           {
            "marker": {
             "colorbar": {
              "outlinewidth": 0,
              "ticks": ""
             }
            },
            "type": "scatterternary"
           }
          ],
          "surface": [
           {
            "colorbar": {
             "outlinewidth": 0,
             "ticks": ""
            },
            "colorscale": [
             [
              0,
              "#0d0887"
             ],
             [
              0.1111111111111111,
              "#46039f"
             ],
             [
              0.2222222222222222,
              "#7201a8"
             ],
             [
              0.3333333333333333,
              "#9c179e"
             ],
             [
              0.4444444444444444,
              "#bd3786"
             ],
             [
              0.5555555555555556,
              "#d8576b"
             ],
             [
              0.6666666666666666,
              "#ed7953"
             ],
             [
              0.7777777777777778,
              "#fb9f3a"
             ],
             [
              0.8888888888888888,
              "#fdca26"
             ],
             [
              1,
              "#f0f921"
             ]
            ],
            "type": "surface"
           }
          ],
          "table": [
           {
            "cells": {
             "fill": {
              "color": "#EBF0F8"
             },
             "line": {
              "color": "white"
             }
            },
            "header": {
             "fill": {
              "color": "#C8D4E3"
             },
             "line": {
              "color": "white"
             }
            },
            "type": "table"
           }
          ]
         },
         "layout": {
          "annotationdefaults": {
           "arrowcolor": "#2a3f5f",
           "arrowhead": 0,
           "arrowwidth": 1
          },
          "autotypenumbers": "strict",
          "coloraxis": {
           "colorbar": {
            "outlinewidth": 0,
            "ticks": ""
           }
          },
          "colorscale": {
           "diverging": [
            [
             0,
             "#8e0152"
            ],
            [
             0.1,
             "#c51b7d"
            ],
            [
             0.2,
             "#de77ae"
            ],
            [
             0.3,
             "#f1b6da"
            ],
            [
             0.4,
             "#fde0ef"
            ],
            [
             0.5,
             "#f7f7f7"
            ],
            [
             0.6,
             "#e6f5d0"
            ],
            [
             0.7,
             "#b8e186"
            ],
            [
             0.8,
             "#7fbc41"
            ],
            [
             0.9,
             "#4d9221"
            ],
            [
             1,
             "#276419"
            ]
           ],
           "sequential": [
            [
             0,
             "#0d0887"
            ],
            [
             0.1111111111111111,
             "#46039f"
            ],
            [
             0.2222222222222222,
             "#7201a8"
            ],
            [
             0.3333333333333333,
             "#9c179e"
            ],
            [
             0.4444444444444444,
             "#bd3786"
            ],
            [
             0.5555555555555556,
             "#d8576b"
            ],
            [
             0.6666666666666666,
             "#ed7953"
            ],
            [
             0.7777777777777778,
             "#fb9f3a"
            ],
            [
             0.8888888888888888,
             "#fdca26"
            ],
            [
             1,
             "#f0f921"
            ]
           ],
           "sequentialminus": [
            [
             0,
             "#0d0887"
            ],
            [
             0.1111111111111111,
             "#46039f"
            ],
            [
             0.2222222222222222,
             "#7201a8"
            ],
            [
             0.3333333333333333,
             "#9c179e"
            ],
            [
             0.4444444444444444,
             "#bd3786"
            ],
            [
             0.5555555555555556,
             "#d8576b"
            ],
            [
             0.6666666666666666,
             "#ed7953"
            ],
            [
             0.7777777777777778,
             "#fb9f3a"
            ],
            [
             0.8888888888888888,
             "#fdca26"
            ],
            [
             1,
             "#f0f921"
            ]
           ]
          },
          "colorway": [
           "#636efa",
           "#EF553B",
           "#00cc96",
           "#ab63fa",
           "#FFA15A",
           "#19d3f3",
           "#FF6692",
           "#B6E880",
           "#FF97FF",
           "#FECB52"
          ],
          "font": {
           "color": "#2a3f5f"
          },
          "geo": {
           "bgcolor": "white",
           "lakecolor": "white",
           "landcolor": "#E5ECF6",
           "showlakes": true,
           "showland": true,
           "subunitcolor": "white"
          },
          "hoverlabel": {
           "align": "left"
          },
          "hovermode": "closest",
          "mapbox": {
           "style": "light"
          },
          "paper_bgcolor": "white",
          "plot_bgcolor": "#E5ECF6",
          "polar": {
           "angularaxis": {
            "gridcolor": "white",
            "linecolor": "white",
            "ticks": ""
           },
           "bgcolor": "#E5ECF6",
           "radialaxis": {
            "gridcolor": "white",
            "linecolor": "white",
            "ticks": ""
           }
          },
          "scene": {
           "xaxis": {
            "backgroundcolor": "#E5ECF6",
            "gridcolor": "white",
            "gridwidth": 2,
            "linecolor": "white",
            "showbackground": true,
            "ticks": "",
            "zerolinecolor": "white"
           },
           "yaxis": {
            "backgroundcolor": "#E5ECF6",
            "gridcolor": "white",
            "gridwidth": 2,
            "linecolor": "white",
            "showbackground": true,
            "ticks": "",
            "zerolinecolor": "white"
           },
           "zaxis": {
            "backgroundcolor": "#E5ECF6",
            "gridcolor": "white",
            "gridwidth": 2,
            "linecolor": "white",
            "showbackground": true,
            "ticks": "",
            "zerolinecolor": "white"
           }
          },
          "shapedefaults": {
           "line": {
            "color": "#2a3f5f"
           }
          },
          "ternary": {
           "aaxis": {
            "gridcolor": "white",
            "linecolor": "white",
            "ticks": ""
           },
           "baxis": {
            "gridcolor": "white",
            "linecolor": "white",
            "ticks": ""
           },
           "bgcolor": "#E5ECF6",
           "caxis": {
            "gridcolor": "white",
            "linecolor": "white",
            "ticks": ""
           }
          },
          "title": {
           "x": 0.05
          },
          "xaxis": {
           "automargin": true,
           "gridcolor": "white",
           "linecolor": "white",
           "ticks": "",
           "title": {
            "standoff": 15
           },
           "zerolinecolor": "white",
           "zerolinewidth": 2
          },
          "yaxis": {
           "automargin": true,
           "gridcolor": "white",
           "linecolor": "white",
           "ticks": "",
           "title": {
            "standoff": 15
           },
           "zerolinecolor": "white",
           "zerolinewidth": 2
          }
         }
        },
        "xaxis": {
         "anchor": "y",
         "domain": [
          0,
          1
         ],
         "title": {
          "text": "Data cadastro"
         }
        },
        "yaxis": {
         "anchor": "x",
         "domain": [
          0,
          1
         ],
         "title": {
          "text": "count"
         }
        }
       }
      },
      "text/html": [
       "<div>                            <div id=\"39532473-e8a6-4116-80f9-da674cecb4b9\" class=\"plotly-graph-div\" style=\"height:525px; width:100%;\"></div>            <script type=\"text/javascript\">                require([\"plotly\"], function(Plotly) {                    window.PLOTLYENV=window.PLOTLYENV || {};                                    if (document.getElementById(\"39532473-e8a6-4116-80f9-da674cecb4b9\")) {                    Plotly.newPlot(                        \"39532473-e8a6-4116-80f9-da674cecb4b9\",                        [{\"alignmentgroup\":\"True\",\"bingroup\":\"x\",\"hovertemplate\":\"Endere\\u00e7o=Rua do Monte\\u003cbr\\u003eData cadastro=%{x}\\u003cbr\\u003ecount=%{y}\\u003cextra\\u003e\\u003c\\u002fextra\\u003e\",\"legendgroup\":\"Rua do Monte\",\"marker\":{\"color\":\"#636efa\",\"pattern\":{\"shape\":\"\"}},\"name\":\"Rua do Monte\",\"offsetgroup\":\"Rua do Monte\",\"orientation\":\"v\",\"showlegend\":true,\"texttemplate\":\"%{value}\",\"x\":[\"2023-07-01T00:00:00\",\"2023-08-19T00:00:00\",\"2023-08-25T00:00:00\",\"2023-10-04T00:00:00\",\"2023-12-05T00:00:00\",\"2024-01-11T00:00:00\",\"2024-02-29T00:00:00\",\"2024-03-07T00:00:00\"],\"xaxis\":\"x\",\"yaxis\":\"y\",\"type\":\"histogram\"},{\"alignmentgroup\":\"True\",\"bingroup\":\"x\",\"hovertemplate\":\"Endere\\u00e7o=Rua da Am\\u00e9rica\\u003cbr\\u003eData cadastro=%{x}\\u003cbr\\u003ecount=%{y}\\u003cextra\\u003e\\u003c\\u002fextra\\u003e\",\"legendgroup\":\"Rua da Am\\u00e9rica\",\"marker\":{\"color\":\"#EF553B\",\"pattern\":{\"shape\":\"\"}},\"name\":\"Rua da Am\\u00e9rica\",\"offsetgroup\":\"Rua da Am\\u00e9rica\",\"orientation\":\"v\",\"showlegend\":true,\"texttemplate\":\"%{value}\",\"x\":[\"2023-07-04T00:00:00\",\"2023-07-05T00:00:00\",\"2023-07-07T00:00:00\",\"2023-07-11T00:00:00\",\"2023-07-21T00:00:00\",\"2023-07-25T00:00:00\",\"2023-08-16T00:00:00\",\"2023-08-28T00:00:00\",\"2023-09-05T00:00:00\",\"2023-10-06T00:00:00\",\"2023-10-09T00:00:00\",\"2023-10-13T00:00:00\",\"2023-10-16T00:00:00\",\"2023-10-18T00:00:00\",\"2023-11-03T00:00:00\",\"2023-12-15T00:00:00\",\"2023-12-27T00:00:00\",\"2024-01-13T00:00:00\",\"2024-01-26T00:00:00\",\"2024-02-23T00:00:00\"],\"xaxis\":\"x\",\"yaxis\":\"y\",\"type\":\"histogram\"},{\"alignmentgroup\":\"True\",\"bingroup\":\"x\",\"hovertemplate\":\"Endere\\u00e7o=Rua Senador Pompeu\\u003cbr\\u003eData cadastro=%{x}\\u003cbr\\u003ecount=%{y}\\u003cextra\\u003e\\u003c\\u002fextra\\u003e\",\"legendgroup\":\"Rua Senador Pompeu\",\"marker\":{\"color\":\"#00cc96\",\"pattern\":{\"shape\":\"\"}},\"name\":\"Rua Senador Pompeu\",\"offsetgroup\":\"Rua Senador Pompeu\",\"orientation\":\"v\",\"showlegend\":true,\"texttemplate\":\"%{value}\",\"x\":[\"2023-07-04T00:00:00\",\"2023-10-26T00:00:00\",\"2023-11-06T00:00:00\",\"2024-01-03T00:00:00\",\"2024-02-07T00:00:00\",\"2024-02-15T00:00:00\",\"2024-02-21T00:00:00\",\"2024-03-02T00:00:00\",\"2024-03-23T00:00:00\",\"2024-03-26T00:00:00\",\"2024-03-27T00:00:00\",\"2024-05-13T00:00:00\"],\"xaxis\":\"x\",\"yaxis\":\"y\",\"type\":\"histogram\"},{\"alignmentgroup\":\"True\",\"bingroup\":\"x\",\"hovertemplate\":\"Endere\\u00e7o=Rua da Bica\\u003cbr\\u003eData cadastro=%{x}\\u003cbr\\u003ecount=%{y}\\u003cextra\\u003e\\u003c\\u002fextra\\u003e\",\"legendgroup\":\"Rua da Bica\",\"marker\":{\"color\":\"#ab63fa\",\"pattern\":{\"shape\":\"\"}},\"name\":\"Rua da Bica\",\"offsetgroup\":\"Rua da Bica\",\"orientation\":\"v\",\"showlegend\":true,\"texttemplate\":\"%{value}\",\"x\":[\"2023-07-06T00:00:00\",\"2023-08-05T00:00:00\"],\"xaxis\":\"x\",\"yaxis\":\"y\",\"type\":\"histogram\"},{\"alignmentgroup\":\"True\",\"bingroup\":\"x\",\"hovertemplate\":\"Endere\\u00e7o=Rua Costa Ferreira\\u003cbr\\u003eData cadastro=%{x}\\u003cbr\\u003ecount=%{y}\\u003cextra\\u003e\\u003c\\u002fextra\\u003e\",\"legendgroup\":\"Rua Costa Ferreira\",\"marker\":{\"color\":\"#FFA15A\",\"pattern\":{\"shape\":\"\"}},\"name\":\"Rua Costa Ferreira\",\"offsetgroup\":\"Rua Costa Ferreira\",\"orientation\":\"v\",\"showlegend\":true,\"texttemplate\":\"%{value}\",\"x\":[\"2023-07-06T00:00:00\",\"2023-07-25T00:00:00\",\"2023-11-25T00:00:00\",\"2024-01-17T00:00:00\",\"2024-02-15T00:00:00\",\"2024-03-02T00:00:00\",\"2024-04-24T00:00:00\",\"2024-05-06T00:00:00\"],\"xaxis\":\"x\",\"yaxis\":\"y\",\"type\":\"histogram\"},{\"alignmentgroup\":\"True\",\"bingroup\":\"x\",\"hovertemplate\":\"Endere\\u00e7o=Rua Conselheiro Zacarias\\u003cbr\\u003eData cadastro=%{x}\\u003cbr\\u003ecount=%{y}\\u003cextra\\u003e\\u003c\\u002fextra\\u003e\",\"legendgroup\":\"Rua Conselheiro Zacarias\",\"marker\":{\"color\":\"#19d3f3\",\"pattern\":{\"shape\":\"\"}},\"name\":\"Rua Conselheiro Zacarias\",\"offsetgroup\":\"Rua Conselheiro Zacarias\",\"orientation\":\"v\",\"showlegend\":true,\"texttemplate\":\"%{value}\",\"x\":[\"2023-07-06T00:00:00\",\"2023-10-06T00:00:00\",\"2023-11-22T00:00:00\",\"2024-03-22T00:00:00\",\"2024-04-22T00:00:00\",\"2024-05-09T00:00:00\"],\"xaxis\":\"x\",\"yaxis\":\"y\",\"type\":\"histogram\"},{\"alignmentgroup\":\"True\",\"bingroup\":\"x\",\"hovertemplate\":\"Endere\\u00e7o=Rua da Gamboa\\u003cbr\\u003eData cadastro=%{x}\\u003cbr\\u003ecount=%{y}\\u003cextra\\u003e\\u003c\\u002fextra\\u003e\",\"legendgroup\":\"Rua da Gamboa\",\"marker\":{\"color\":\"#FF6692\",\"pattern\":{\"shape\":\"\"}},\"name\":\"Rua da Gamboa\",\"offsetgroup\":\"Rua da Gamboa\",\"orientation\":\"v\",\"showlegend\":true,\"texttemplate\":\"%{value}\",\"x\":[\"2023-07-07T00:00:00\",\"2023-08-08T00:00:00\",\"2023-08-21T00:00:00\",\"2023-08-24T00:00:00\",\"2023-10-03T00:00:00\",\"2023-10-16T00:00:00\",\"2023-10-30T00:00:00\",\"2023-12-19T00:00:00\",\"2024-03-08T00:00:00\",\"2024-03-22T00:00:00\",\"2024-05-08T00:00:00\"],\"xaxis\":\"x\",\"yaxis\":\"y\",\"type\":\"histogram\"},{\"alignmentgroup\":\"True\",\"bingroup\":\"x\",\"hovertemplate\":\"Endere\\u00e7o=Rua Para\\u00edba\\u003cbr\\u003eData cadastro=%{x}\\u003cbr\\u003ecount=%{y}\\u003cextra\\u003e\\u003c\\u002fextra\\u003e\",\"legendgroup\":\"Rua Para\\u00edba\",\"marker\":{\"color\":\"#B6E880\",\"pattern\":{\"shape\":\"\"}},\"name\":\"Rua Para\\u00edba\",\"offsetgroup\":\"Rua Para\\u00edba\",\"orientation\":\"v\",\"showlegend\":true,\"texttemplate\":\"%{value}\",\"x\":[\"2023-07-07T00:00:00\"],\"xaxis\":\"x\",\"yaxis\":\"y\",\"type\":\"histogram\"},{\"alignmentgroup\":\"True\",\"bingroup\":\"x\",\"hovertemplate\":\"Endere\\u00e7o=Rua Bar\\u00e3o de S\\u00e3o F\\u00e9lix\\u003cbr\\u003eData cadastro=%{x}\\u003cbr\\u003ecount=%{y}\\u003cextra\\u003e\\u003c\\u002fextra\\u003e\",\"legendgroup\":\"Rua Bar\\u00e3o de S\\u00e3o F\\u00e9lix\",\"marker\":{\"color\":\"#FF97FF\",\"pattern\":{\"shape\":\"\"}},\"name\":\"Rua Bar\\u00e3o de S\\u00e3o F\\u00e9lix\",\"offsetgroup\":\"Rua Bar\\u00e3o de S\\u00e3o F\\u00e9lix\",\"orientation\":\"v\",\"showlegend\":true,\"texttemplate\":\"%{value}\",\"x\":[\"2023-07-07T00:00:00\",\"2023-07-15T00:00:00\",\"2023-07-17T00:00:00\",\"2023-07-21T00:00:00\",\"2023-07-28T00:00:00\",\"2023-09-11T00:00:00\",\"2023-11-03T00:00:00\",\"2023-11-06T00:00:00\",\"2023-11-23T00:00:00\",\"2023-12-08T00:00:00\",\"2023-12-16T00:00:00\",\"2023-12-28T00:00:00\",\"2023-12-29T00:00:00\",\"2024-01-10T00:00:00\",\"2024-01-12T00:00:00\",\"2024-02-20T00:00:00\",\"2024-03-12T00:00:00\",\"2024-04-08T00:00:00\",\"2024-04-12T00:00:00\",\"2024-05-15T00:00:00\"],\"xaxis\":\"x\",\"yaxis\":\"y\",\"type\":\"histogram\"},{\"alignmentgroup\":\"True\",\"bingroup\":\"x\",\"hovertemplate\":\"Endere\\u00e7o=Ladeira Livramento\\u003cbr\\u003eData cadastro=%{x}\\u003cbr\\u003ecount=%{y}\\u003cextra\\u003e\\u003c\\u002fextra\\u003e\",\"legendgroup\":\"Ladeira Livramento\",\"marker\":{\"color\":\"#FECB52\",\"pattern\":{\"shape\":\"\"}},\"name\":\"Ladeira Livramento\",\"offsetgroup\":\"Ladeira Livramento\",\"orientation\":\"v\",\"showlegend\":true,\"texttemplate\":\"%{value}\",\"x\":[\"2023-07-07T00:00:00\",\"2023-07-28T00:00:00\",\"2023-08-23T00:00:00\",\"2023-08-29T00:00:00\",\"2023-09-25T00:00:00\",\"2023-10-03T00:00:00\",\"2023-10-10T00:00:00\",\"2023-10-23T00:00:00\",\"2024-01-10T00:00:00\",\"2024-02-02T00:00:00\",\"2024-02-22T00:00:00\",\"2024-02-26T00:00:00\",\"2024-02-27T00:00:00\",\"2024-02-27T00:00:00\",\"2024-04-19T00:00:00\",\"2024-05-17T00:00:00\"],\"xaxis\":\"x\",\"yaxis\":\"y\",\"type\":\"histogram\"},{\"alignmentgroup\":\"True\",\"bingroup\":\"x\",\"hovertemplate\":\"Endere\\u00e7o=Rua Cunha Barbosa\\u003cbr\\u003eData cadastro=%{x}\\u003cbr\\u003ecount=%{y}\\u003cextra\\u003e\\u003c\\u002fextra\\u003e\",\"legendgroup\":\"Rua Cunha Barbosa\",\"marker\":{\"color\":\"#636efa\",\"pattern\":{\"shape\":\"\"}},\"name\":\"Rua Cunha Barbosa\",\"offsetgroup\":\"Rua Cunha Barbosa\",\"orientation\":\"v\",\"showlegend\":true,\"texttemplate\":\"%{value}\",\"x\":[\"2023-07-08T00:00:00\",\"2023-08-26T00:00:00\",\"2024-03-09T00:00:00\",\"2024-04-04T00:00:00\",\"2024-05-08T00:00:00\"],\"xaxis\":\"x\",\"yaxis\":\"y\",\"type\":\"histogram\"},{\"alignmentgroup\":\"True\",\"bingroup\":\"x\",\"hovertemplate\":\"Endere\\u00e7o=Rua Grota\\u003cbr\\u003eData cadastro=%{x}\\u003cbr\\u003ecount=%{y}\\u003cextra\\u003e\\u003c\\u002fextra\\u003e\",\"legendgroup\":\"Rua Grota\",\"marker\":{\"color\":\"#EF553B\",\"pattern\":{\"shape\":\"\"}},\"name\":\"Rua Grota\",\"offsetgroup\":\"Rua Grota\",\"orientation\":\"v\",\"showlegend\":true,\"texttemplate\":\"%{value}\",\"x\":[\"2023-07-08T00:00:00\",\"2023-11-21T00:00:00\"],\"xaxis\":\"x\",\"yaxis\":\"y\",\"type\":\"histogram\"},{\"alignmentgroup\":\"True\",\"bingroup\":\"x\",\"hovertemplate\":\"Endere\\u00e7o=Rua do Pinto\\u003cbr\\u003eData cadastro=%{x}\\u003cbr\\u003ecount=%{y}\\u003cextra\\u003e\\u003c\\u002fextra\\u003e\",\"legendgroup\":\"Rua do Pinto\",\"marker\":{\"color\":\"#00cc96\",\"pattern\":{\"shape\":\"\"}},\"name\":\"Rua do Pinto\",\"offsetgroup\":\"Rua do Pinto\",\"orientation\":\"v\",\"showlegend\":true,\"texttemplate\":\"%{value}\",\"x\":[\"2023-07-10T00:00:00\",\"2024-03-19T00:00:00\",\"2024-04-09T00:00:00\"],\"xaxis\":\"x\",\"yaxis\":\"y\",\"type\":\"histogram\"},{\"alignmentgroup\":\"True\",\"bingroup\":\"x\",\"hovertemplate\":\"Endere\\u00e7o=Rua Bar\\u00e3o da Gamboa\\u003cbr\\u003eData cadastro=%{x}\\u003cbr\\u003ecount=%{y}\\u003cextra\\u003e\\u003c\\u002fextra\\u003e\",\"legendgroup\":\"Rua Bar\\u00e3o da Gamboa\",\"marker\":{\"color\":\"#ab63fa\",\"pattern\":{\"shape\":\"\"}},\"name\":\"Rua Bar\\u00e3o da Gamboa\",\"offsetgroup\":\"Rua Bar\\u00e3o da Gamboa\",\"orientation\":\"v\",\"showlegend\":true,\"texttemplate\":\"%{value}\",\"x\":[\"2023-07-11T00:00:00\",\"2024-05-06T00:00:00\"],\"xaxis\":\"x\",\"yaxis\":\"y\",\"type\":\"histogram\"},{\"alignmentgroup\":\"True\",\"bingroup\":\"x\",\"hovertemplate\":\"Endere\\u00e7o=Rua Vidal de Negreiros\\u003cbr\\u003eData cadastro=%{x}\\u003cbr\\u003ecount=%{y}\\u003cextra\\u003e\\u003c\\u002fextra\\u003e\",\"legendgroup\":\"Rua Vidal de Negreiros\",\"marker\":{\"color\":\"#FFA15A\",\"pattern\":{\"shape\":\"\"}},\"name\":\"Rua Vidal de Negreiros\",\"offsetgroup\":\"Rua Vidal de Negreiros\",\"orientation\":\"v\",\"showlegend\":true,\"texttemplate\":\"%{value}\",\"x\":[\"2023-07-11T00:00:00\",\"2023-08-24T00:00:00\",\"2024-01-26T00:00:00\"],\"xaxis\":\"x\",\"yaxis\":\"y\",\"type\":\"histogram\"},{\"alignmentgroup\":\"True\",\"bingroup\":\"x\",\"hovertemplate\":\"Endere\\u00e7o=Largo Cruzeiro\\u003cbr\\u003eData cadastro=%{x}\\u003cbr\\u003ecount=%{y}\\u003cextra\\u003e\\u003c\\u002fextra\\u003e\",\"legendgroup\":\"Largo Cruzeiro\",\"marker\":{\"color\":\"#19d3f3\",\"pattern\":{\"shape\":\"\"}},\"name\":\"Largo Cruzeiro\",\"offsetgroup\":\"Largo Cruzeiro\",\"orientation\":\"v\",\"showlegend\":true,\"texttemplate\":\"%{value}\",\"x\":[\"2023-07-12T00:00:00\"],\"xaxis\":\"x\",\"yaxis\":\"y\",\"type\":\"histogram\"},{\"alignmentgroup\":\"True\",\"bingroup\":\"x\",\"hovertemplate\":\"Endere\\u00e7o=Rua Santo Cristo\\u003cbr\\u003eData cadastro=%{x}\\u003cbr\\u003ecount=%{y}\\u003cextra\\u003e\\u003c\\u002fextra\\u003e\",\"legendgroup\":\"Rua Santo Cristo\",\"marker\":{\"color\":\"#FF6692\",\"pattern\":{\"shape\":\"\"}},\"name\":\"Rua Santo Cristo\",\"offsetgroup\":\"Rua Santo Cristo\",\"orientation\":\"v\",\"showlegend\":true,\"texttemplate\":\"%{value}\",\"x\":[\"2023-07-12T00:00:00\",\"2023-07-28T00:00:00\",\"2023-08-09T00:00:00\",\"2023-08-11T00:00:00\",\"2023-08-12T00:00:00\",\"2023-08-18T00:00:00\",\"2023-09-04T00:00:00\",\"2023-09-09T00:00:00\",\"2023-10-08T00:00:00\",\"2023-10-09T00:00:00\",\"2023-10-17T00:00:00\",\"2023-10-18T00:00:00\",\"2023-11-15T00:00:00\",\"2024-01-09T00:00:00\",\"2024-05-06T00:00:00\",\"2024-05-07T00:00:00\",\"2024-05-08T00:00:00\",\"2024-05-10T00:00:00\"],\"xaxis\":\"x\",\"yaxis\":\"y\",\"type\":\"histogram\"},{\"alignmentgroup\":\"True\",\"bingroup\":\"x\",\"hovertemplate\":\"Endere\\u00e7o=Ladeira Morro da Sa\\u00fade\\u003cbr\\u003eData cadastro=%{x}\\u003cbr\\u003ecount=%{y}\\u003cextra\\u003e\\u003c\\u002fextra\\u003e\",\"legendgroup\":\"Ladeira Morro da Sa\\u00fade\",\"marker\":{\"color\":\"#B6E880\",\"pattern\":{\"shape\":\"\"}},\"name\":\"Ladeira Morro da Sa\\u00fade\",\"offsetgroup\":\"Ladeira Morro da Sa\\u00fade\",\"orientation\":\"v\",\"showlegend\":true,\"texttemplate\":\"%{value}\",\"x\":[\"2023-07-13T00:00:00\",\"2023-07-20T00:00:00\",\"2023-10-24T00:00:00\",\"2024-02-16T00:00:00\",\"2024-02-23T00:00:00\"],\"xaxis\":\"x\",\"yaxis\":\"y\",\"type\":\"histogram\"},{\"alignmentgroup\":\"True\",\"bingroup\":\"x\",\"hovertemplate\":\"Endere\\u00e7o=Rua Coronel Audomaro Costa\\u003cbr\\u003eData cadastro=%{x}\\u003cbr\\u003ecount=%{y}\\u003cextra\\u003e\\u003c\\u002fextra\\u003e\",\"legendgroup\":\"Rua Coronel Audomaro Costa\",\"marker\":{\"color\":\"#FF97FF\",\"pattern\":{\"shape\":\"\"}},\"name\":\"Rua Coronel Audomaro Costa\",\"offsetgroup\":\"Rua Coronel Audomaro Costa\",\"orientation\":\"v\",\"showlegend\":true,\"texttemplate\":\"%{value}\",\"x\":[\"2023-07-14T00:00:00\",\"2023-07-19T00:00:00\",\"2023-08-10T00:00:00\",\"2023-12-05T00:00:00\",\"2023-12-08T00:00:00\",\"2024-01-04T00:00:00\",\"2024-05-13T00:00:00\",\"2024-05-14T00:00:00\",\"2024-05-17T00:00:00\"],\"xaxis\":\"x\",\"yaxis\":\"y\",\"type\":\"histogram\"},{\"alignmentgroup\":\"True\",\"bingroup\":\"x\",\"hovertemplate\":\"Endere\\u00e7o=Ladeira do Barroso\\u003cbr\\u003eData cadastro=%{x}\\u003cbr\\u003ecount=%{y}\\u003cextra\\u003e\\u003c\\u002fextra\\u003e\",\"legendgroup\":\"Ladeira do Barroso\",\"marker\":{\"color\":\"#FECB52\",\"pattern\":{\"shape\":\"\"}},\"name\":\"Ladeira do Barroso\",\"offsetgroup\":\"Ladeira do Barroso\",\"orientation\":\"v\",\"showlegend\":true,\"texttemplate\":\"%{value}\",\"x\":[\"2023-07-15T00:00:00\",\"2023-07-27T00:00:00\",\"2023-07-28T00:00:00\",\"2023-08-04T00:00:00\",\"2023-09-26T00:00:00\",\"2023-10-17T00:00:00\",\"2023-10-18T00:00:00\",\"2023-10-25T00:00:00\",\"2023-12-01T00:00:00\",\"2024-01-11T00:00:00\",\"2024-01-24T00:00:00\",\"2024-02-02T00:00:00\",\"2024-02-08T00:00:00\",\"2024-02-15T00:00:00\",\"2024-02-28T00:00:00\",\"2024-04-04T00:00:00\",\"2024-04-11T00:00:00\",\"2024-04-15T00:00:00\",\"2024-04-29T00:00:00\"],\"xaxis\":\"x\",\"yaxis\":\"y\",\"type\":\"histogram\"},{\"alignmentgroup\":\"True\",\"bingroup\":\"x\",\"hovertemplate\":\"Endere\\u00e7o=Rua Dona Bela\\u003cbr\\u003eData cadastro=%{x}\\u003cbr\\u003ecount=%{y}\\u003cextra\\u003e\\u003c\\u002fextra\\u003e\",\"legendgroup\":\"Rua Dona Bela\",\"marker\":{\"color\":\"#636efa\",\"pattern\":{\"shape\":\"\"}},\"name\":\"Rua Dona Bela\",\"offsetgroup\":\"Rua Dona Bela\",\"orientation\":\"v\",\"showlegend\":true,\"texttemplate\":\"%{value}\",\"x\":[\"2023-07-17T00:00:00\"],\"xaxis\":\"x\",\"yaxis\":\"y\",\"type\":\"histogram\"},{\"alignmentgroup\":\"True\",\"bingroup\":\"x\",\"hovertemplate\":\"Endere\\u00e7o=Rua Bento Teixeira\\u003cbr\\u003eData cadastro=%{x}\\u003cbr\\u003ecount=%{y}\\u003cextra\\u003e\\u003c\\u002fextra\\u003e\",\"legendgroup\":\"Rua Bento Teixeira\",\"marker\":{\"color\":\"#EF553B\",\"pattern\":{\"shape\":\"\"}},\"name\":\"Rua Bento Teixeira\",\"offsetgroup\":\"Rua Bento Teixeira\",\"orientation\":\"v\",\"showlegend\":true,\"texttemplate\":\"%{value}\",\"x\":[\"2023-07-18T00:00:00\",\"2023-07-22T00:00:00\",\"2023-08-30T00:00:00\",\"2023-09-19T00:00:00\",\"2023-09-26T00:00:00\",\"2023-12-27T00:00:00\"],\"xaxis\":\"x\",\"yaxis\":\"y\",\"type\":\"histogram\"},{\"alignmentgroup\":\"True\",\"bingroup\":\"x\",\"hovertemplate\":\"Endere\\u00e7o=Rua Mariano Proc\\u00f3pio\\u003cbr\\u003eData cadastro=%{x}\\u003cbr\\u003ecount=%{y}\\u003cextra\\u003e\\u003c\\u002fextra\\u003e\",\"legendgroup\":\"Rua Mariano Proc\\u00f3pio\",\"marker\":{\"color\":\"#00cc96\",\"pattern\":{\"shape\":\"\"}},\"name\":\"Rua Mariano Proc\\u00f3pio\",\"offsetgroup\":\"Rua Mariano Proc\\u00f3pio\",\"orientation\":\"v\",\"showlegend\":true,\"texttemplate\":\"%{value}\",\"x\":[\"2023-07-20T00:00:00\",\"2024-05-14T00:00:00\"],\"xaxis\":\"x\",\"yaxis\":\"y\",\"type\":\"histogram\"},{\"alignmentgroup\":\"True\",\"bingroup\":\"x\",\"hovertemplate\":\"Endere\\u00e7o=Rua Rego Barros\\u003cbr\\u003eData cadastro=%{x}\\u003cbr\\u003ecount=%{y}\\u003cextra\\u003e\\u003c\\u002fextra\\u003e\",\"legendgroup\":\"Rua Rego Barros\",\"marker\":{\"color\":\"#ab63fa\",\"pattern\":{\"shape\":\"\"}},\"name\":\"Rua Rego Barros\",\"offsetgroup\":\"Rua Rego Barros\",\"orientation\":\"v\",\"showlegend\":true,\"texttemplate\":\"%{value}\",\"x\":[\"2023-07-21T00:00:00\",\"2023-07-26T00:00:00\",\"2023-08-24T00:00:00\",\"2023-11-02T00:00:00\",\"2023-11-10T00:00:00\",\"2024-01-08T00:00:00\",\"2024-02-02T00:00:00\",\"2024-02-20T00:00:00\"],\"xaxis\":\"x\",\"yaxis\":\"y\",\"type\":\"histogram\"},{\"alignmentgroup\":\"True\",\"bingroup\":\"x\",\"hovertemplate\":\"Endere\\u00e7o=Rua dona Nair\\u003cbr\\u003eData cadastro=%{x}\\u003cbr\\u003ecount=%{y}\\u003cextra\\u003e\\u003c\\u002fextra\\u003e\",\"legendgroup\":\"Rua dona Nair\",\"marker\":{\"color\":\"#FFA15A\",\"pattern\":{\"shape\":\"\"}},\"name\":\"Rua dona Nair\",\"offsetgroup\":\"Rua dona Nair\",\"orientation\":\"v\",\"showlegend\":true,\"texttemplate\":\"%{value}\",\"x\":[\"2023-07-24T00:00:00\"],\"xaxis\":\"x\",\"yaxis\":\"y\",\"type\":\"histogram\"},{\"alignmentgroup\":\"True\",\"bingroup\":\"x\",\"hovertemplate\":\"Endere\\u00e7o=Rua Nabuco de Freitas\\u003cbr\\u003eData cadastro=%{x}\\u003cbr\\u003ecount=%{y}\\u003cextra\\u003e\\u003c\\u002fextra\\u003e\",\"legendgroup\":\"Rua Nabuco de Freitas\",\"marker\":{\"color\":\"#19d3f3\",\"pattern\":{\"shape\":\"\"}},\"name\":\"Rua Nabuco de Freitas\",\"offsetgroup\":\"Rua Nabuco de Freitas\",\"orientation\":\"v\",\"showlegend\":true,\"texttemplate\":\"%{value}\",\"x\":[\"2023-07-24T00:00:00\",\"2023-07-24T00:00:00\",\"2023-09-26T00:00:00\",\"2023-10-07T00:00:00\",\"2024-02-19T00:00:00\",\"2024-03-14T00:00:00\",\"2024-04-12T00:00:00\"],\"xaxis\":\"x\",\"yaxis\":\"y\",\"type\":\"histogram\"},{\"alignmentgroup\":\"True\",\"bingroup\":\"x\",\"hovertemplate\":\"Endere\\u00e7o=Rua do Livramento\\u003cbr\\u003eData cadastro=%{x}\\u003cbr\\u003ecount=%{y}\\u003cextra\\u003e\\u003c\\u002fextra\\u003e\",\"legendgroup\":\"Rua do Livramento\",\"marker\":{\"color\":\"#FF6692\",\"pattern\":{\"shape\":\"\"}},\"name\":\"Rua do Livramento\",\"offsetgroup\":\"Rua do Livramento\",\"orientation\":\"v\",\"showlegend\":true,\"texttemplate\":\"%{value}\",\"x\":[\"2023-07-25T00:00:00\",\"2023-08-03T00:00:00\",\"2023-09-08T00:00:00\",\"2023-10-13T00:00:00\",\"2023-10-31T00:00:00\",\"2023-11-17T00:00:00\",\"2023-12-04T00:00:00\",\"2024-02-08T00:00:00\",\"2024-02-09T00:00:00\",\"2024-02-15T00:00:00\",\"2024-05-07T00:00:00\",\"2024-05-15T00:00:00\",\"2024-05-15T00:00:00\",\"2024-05-16T00:00:00\"],\"xaxis\":\"x\",\"yaxis\":\"y\",\"type\":\"histogram\"},{\"alignmentgroup\":\"True\",\"bingroup\":\"x\",\"hovertemplate\":\"Endere\\u00e7o=Rua Ebroino Uruguai\\u003cbr\\u003eData cadastro=%{x}\\u003cbr\\u003ecount=%{y}\\u003cextra\\u003e\\u003c\\u002fextra\\u003e\",\"legendgroup\":\"Rua Ebroino Uruguai\",\"marker\":{\"color\":\"#B6E880\",\"pattern\":{\"shape\":\"\"}},\"name\":\"Rua Ebroino Uruguai\",\"offsetgroup\":\"Rua Ebroino Uruguai\",\"orientation\":\"v\",\"showlegend\":true,\"texttemplate\":\"%{value}\",\"x\":[\"2023-07-26T00:00:00\",\"2023-08-26T00:00:00\",\"2023-09-13T00:00:00\",\"2023-09-19T00:00:00\",\"2023-09-21T00:00:00\",\"2023-11-11T00:00:00\",\"2024-01-08T00:00:00\",\"2024-01-20T00:00:00\",\"2024-02-28T00:00:00\",\"2024-05-07T00:00:00\"],\"xaxis\":\"x\",\"yaxis\":\"y\",\"type\":\"histogram\"},{\"alignmentgroup\":\"True\",\"bingroup\":\"x\",\"hovertemplate\":\"Endere\\u00e7o=Rua Mont Alverne\\u003cbr\\u003eData cadastro=%{x}\\u003cbr\\u003ecount=%{y}\\u003cextra\\u003e\\u003c\\u002fextra\\u003e\",\"legendgroup\":\"Rua Mont Alverne\",\"marker\":{\"color\":\"#FF97FF\",\"pattern\":{\"shape\":\"\"}},\"name\":\"Rua Mont Alverne\",\"offsetgroup\":\"Rua Mont Alverne\",\"orientation\":\"v\",\"showlegend\":true,\"texttemplate\":\"%{value}\",\"x\":[\"2023-07-26T00:00:00\",\"2024-03-22T00:00:00\"],\"xaxis\":\"x\",\"yaxis\":\"y\",\"type\":\"histogram\"},{\"alignmentgroup\":\"True\",\"bingroup\":\"x\",\"hovertemplate\":\"Endere\\u00e7o=Gasparina\\u003cbr\\u003eData cadastro=%{x}\\u003cbr\\u003ecount=%{y}\\u003cextra\\u003e\\u003c\\u002fextra\\u003e\",\"legendgroup\":\"Gasparina\",\"marker\":{\"color\":\"#FECB52\",\"pattern\":{\"shape\":\"\"}},\"name\":\"Gasparina\",\"offsetgroup\":\"Gasparina\",\"orientation\":\"v\",\"showlegend\":true,\"texttemplate\":\"%{value}\",\"x\":[\"2023-07-27T00:00:00\"],\"xaxis\":\"x\",\"yaxis\":\"y\",\"type\":\"histogram\"},{\"alignmentgroup\":\"True\",\"bingroup\":\"x\",\"hovertemplate\":\"Endere\\u00e7o=Rua Bento Ribeiro\\u003cbr\\u003eData cadastro=%{x}\\u003cbr\\u003ecount=%{y}\\u003cextra\\u003e\\u003c\\u002fextra\\u003e\",\"legendgroup\":\"Rua Bento Ribeiro\",\"marker\":{\"color\":\"#636efa\",\"pattern\":{\"shape\":\"\"}},\"name\":\"Rua Bento Ribeiro\",\"offsetgroup\":\"Rua Bento Ribeiro\",\"orientation\":\"v\",\"showlegend\":true,\"texttemplate\":\"%{value}\",\"x\":[\"2023-07-27T00:00:00\",\"2023-09-30T00:00:00\",\"2023-12-04T00:00:00\",\"2023-12-18T00:00:00\",\"2024-03-11T00:00:00\",\"2024-04-03T00:00:00\"],\"xaxis\":\"x\",\"yaxis\":\"y\",\"type\":\"histogram\"},{\"alignmentgroup\":\"True\",\"bingroup\":\"x\",\"hovertemplate\":\"Endere\\u00e7o=Ladeira do Faria\\u003cbr\\u003eData cadastro=%{x}\\u003cbr\\u003ecount=%{y}\\u003cextra\\u003e\\u003c\\u002fextra\\u003e\",\"legendgroup\":\"Ladeira do Faria\",\"marker\":{\"color\":\"#EF553B\",\"pattern\":{\"shape\":\"\"}},\"name\":\"Ladeira do Faria\",\"offsetgroup\":\"Ladeira do Faria\",\"orientation\":\"v\",\"showlegend\":true,\"texttemplate\":\"%{value}\",\"x\":[\"2023-08-01T00:00:00\",\"2023-08-16T00:00:00\",\"2023-09-02T00:00:00\",\"2023-09-08T00:00:00\",\"2023-10-23T00:00:00\",\"2023-11-08T00:00:00\",\"2023-11-11T00:00:00\",\"2023-12-20T00:00:00\",\"2024-01-03T00:00:00\",\"2024-01-18T00:00:00\",\"2024-01-23T00:00:00\",\"2024-02-03T00:00:00\",\"2024-03-05T00:00:00\",\"2024-04-04T00:00:00\",\"2024-04-10T00:00:00\"],\"xaxis\":\"x\",\"yaxis\":\"y\",\"type\":\"histogram\"},{\"alignmentgroup\":\"True\",\"bingroup\":\"x\",\"hovertemplate\":\"Endere\\u00e7o=Rua Cardoso Marinho\\u003cbr\\u003eData cadastro=%{x}\\u003cbr\\u003ecount=%{y}\\u003cextra\\u003e\\u003c\\u002fextra\\u003e\",\"legendgroup\":\"Rua Cardoso Marinho\",\"marker\":{\"color\":\"#00cc96\",\"pattern\":{\"shape\":\"\"}},\"name\":\"Rua Cardoso Marinho\",\"offsetgroup\":\"Rua Cardoso Marinho\",\"orientation\":\"v\",\"showlegend\":true,\"texttemplate\":\"%{value}\",\"x\":[\"2023-08-02T00:00:00\",\"2023-09-09T00:00:00\",\"2023-11-24T00:00:00\",\"2023-12-24T00:00:00\",\"2024-02-07T00:00:00\",\"2024-02-14T00:00:00\",\"2024-03-11T00:00:00\",\"2024-05-10T00:00:00\"],\"xaxis\":\"x\",\"yaxis\":\"y\",\"type\":\"histogram\"},{\"alignmentgroup\":\"True\",\"bingroup\":\"x\",\"hovertemplate\":\"Endere\\u00e7o=Travessa S\\u00e3o Diogo\\u003cbr\\u003eData cadastro=%{x}\\u003cbr\\u003ecount=%{y}\\u003cextra\\u003e\\u003c\\u002fextra\\u003e\",\"legendgroup\":\"Travessa S\\u00e3o Diogo\",\"marker\":{\"color\":\"#ab63fa\",\"pattern\":{\"shape\":\"\"}},\"name\":\"Travessa S\\u00e3o Diogo\",\"offsetgroup\":\"Travessa S\\u00e3o Diogo\",\"orientation\":\"v\",\"showlegend\":true,\"texttemplate\":\"%{value}\",\"x\":[\"2023-08-02T00:00:00\",\"2023-09-18T00:00:00\",\"2023-09-25T00:00:00\",\"2023-12-20T00:00:00\",\"2024-01-22T00:00:00\"],\"xaxis\":\"x\",\"yaxis\":\"y\",\"type\":\"histogram\"},{\"alignmentgroup\":\"True\",\"bingroup\":\"x\",\"hovertemplate\":\"Endere\\u00e7o=Beco da Bica\\u003cbr\\u003eData cadastro=%{x}\\u003cbr\\u003ecount=%{y}\\u003cextra\\u003e\\u003c\\u002fextra\\u003e\",\"legendgroup\":\"Beco da Bica\",\"marker\":{\"color\":\"#FFA15A\",\"pattern\":{\"shape\":\"\"}},\"name\":\"Beco da Bica\",\"offsetgroup\":\"Beco da Bica\",\"orientation\":\"v\",\"showlegend\":true,\"texttemplate\":\"%{value}\",\"x\":[\"2023-08-04T00:00:00\"],\"xaxis\":\"x\",\"yaxis\":\"y\",\"type\":\"histogram\"},{\"alignmentgroup\":\"True\",\"bingroup\":\"x\",\"hovertemplate\":\"Endere\\u00e7o=Rua Ana Mascarenhas\\u003cbr\\u003eData cadastro=%{x}\\u003cbr\\u003ecount=%{y}\\u003cextra\\u003e\\u003c\\u002fextra\\u003e\",\"legendgroup\":\"Rua Ana Mascarenhas\",\"marker\":{\"color\":\"#19d3f3\",\"pattern\":{\"shape\":\"\"}},\"name\":\"Rua Ana Mascarenhas\",\"offsetgroup\":\"Rua Ana Mascarenhas\",\"orientation\":\"v\",\"showlegend\":true,\"texttemplate\":\"%{value}\",\"x\":[\"2023-08-07T00:00:00\"],\"xaxis\":\"x\",\"yaxis\":\"y\",\"type\":\"histogram\"},{\"alignmentgroup\":\"True\",\"bingroup\":\"x\",\"hovertemplate\":\"Endere\\u00e7o=Rua Leandro Martins\\u003cbr\\u003eData cadastro=%{x}\\u003cbr\\u003ecount=%{y}\\u003cextra\\u003e\\u003c\\u002fextra\\u003e\",\"legendgroup\":\"Rua Leandro Martins\",\"marker\":{\"color\":\"#FF6692\",\"pattern\":{\"shape\":\"\"}},\"name\":\"Rua Leandro Martins\",\"offsetgroup\":\"Rua Leandro Martins\",\"orientation\":\"v\",\"showlegend\":true,\"texttemplate\":\"%{value}\",\"x\":[\"2023-08-08T00:00:00\"],\"xaxis\":\"x\",\"yaxis\":\"y\",\"type\":\"histogram\"},{\"alignmentgroup\":\"True\",\"bingroup\":\"x\",\"hovertemplate\":\"Endere\\u00e7o=Rua Rivadavia Correia\\u003cbr\\u003eData cadastro=%{x}\\u003cbr\\u003ecount=%{y}\\u003cextra\\u003e\\u003c\\u002fextra\\u003e\",\"legendgroup\":\"Rua Rivadavia Correia\",\"marker\":{\"color\":\"#B6E880\",\"pattern\":{\"shape\":\"\"}},\"name\":\"Rua Rivadavia Correia\",\"offsetgroup\":\"Rua Rivadavia Correia\",\"orientation\":\"v\",\"showlegend\":true,\"texttemplate\":\"%{value}\",\"x\":[\"2023-08-08T00:00:00\",\"2023-10-04T00:00:00\",\"2023-12-02T00:00:00\",\"2023-12-27T00:00:00\"],\"xaxis\":\"x\",\"yaxis\":\"y\",\"type\":\"histogram\"},{\"alignmentgroup\":\"True\",\"bingroup\":\"x\",\"hovertemplate\":\"Endere\\u00e7o=Rua Pedro Ernesto\\u003cbr\\u003eData cadastro=%{x}\\u003cbr\\u003ecount=%{y}\\u003cextra\\u003e\\u003c\\u002fextra\\u003e\",\"legendgroup\":\"Rua Pedro Ernesto\",\"marker\":{\"color\":\"#FF97FF\",\"pattern\":{\"shape\":\"\"}},\"name\":\"Rua Pedro Ernesto\",\"offsetgroup\":\"Rua Pedro Ernesto\",\"orientation\":\"v\",\"showlegend\":true,\"texttemplate\":\"%{value}\",\"x\":[\"2023-08-08T00:00:00\",\"2024-02-26T00:00:00\"],\"xaxis\":\"x\",\"yaxis\":\"y\",\"type\":\"histogram\"},{\"alignmentgroup\":\"True\",\"bingroup\":\"x\",\"hovertemplate\":\"Endere\\u00e7o=Avenida Marechal Floriano\\u003cbr\\u003eData cadastro=%{x}\\u003cbr\\u003ecount=%{y}\\u003cextra\\u003e\\u003c\\u002fextra\\u003e\",\"legendgroup\":\"Avenida Marechal Floriano\",\"marker\":{\"color\":\"#FECB52\",\"pattern\":{\"shape\":\"\"}},\"name\":\"Avenida Marechal Floriano\",\"offsetgroup\":\"Avenida Marechal Floriano\",\"orientation\":\"v\",\"showlegend\":true,\"texttemplate\":\"%{value}\",\"x\":[\"2023-08-10T00:00:00\",\"2023-09-26T00:00:00\"],\"xaxis\":\"x\",\"yaxis\":\"y\",\"type\":\"histogram\"},{\"alignmentgroup\":\"True\",\"bingroup\":\"x\",\"hovertemplate\":\"Endere\\u00e7o=Rua do Prop\\u00f3sito\\u003cbr\\u003eData cadastro=%{x}\\u003cbr\\u003ecount=%{y}\\u003cextra\\u003e\\u003c\\u002fextra\\u003e\",\"legendgroup\":\"Rua do Prop\\u00f3sito\",\"marker\":{\"color\":\"#636efa\",\"pattern\":{\"shape\":\"\"}},\"name\":\"Rua do Prop\\u00f3sito\",\"offsetgroup\":\"Rua do Prop\\u00f3sito\",\"orientation\":\"v\",\"showlegend\":true,\"texttemplate\":\"%{value}\",\"x\":[\"2023-08-10T00:00:00\",\"2023-08-24T00:00:00\",\"2023-12-28T00:00:00\",\"2024-01-03T00:00:00\",\"2024-01-08T00:00:00\",\"2024-02-19T00:00:00\"],\"xaxis\":\"x\",\"yaxis\":\"y\",\"type\":\"histogram\"},{\"alignmentgroup\":\"True\",\"bingroup\":\"x\",\"hovertemplate\":\"Endere\\u00e7o=Beco das Escadinhas do Livramento\\u003cbr\\u003eData cadastro=%{x}\\u003cbr\\u003ecount=%{y}\\u003cextra\\u003e\\u003c\\u002fextra\\u003e\",\"legendgroup\":\"Beco das Escadinhas do Livramento\",\"marker\":{\"color\":\"#EF553B\",\"pattern\":{\"shape\":\"\"}},\"name\":\"Beco das Escadinhas do Livramento\",\"offsetgroup\":\"Beco das Escadinhas do Livramento\",\"orientation\":\"v\",\"showlegend\":true,\"texttemplate\":\"%{value}\",\"x\":[\"2023-08-15T00:00:00\",\"2023-09-28T00:00:00\",\"2023-10-25T00:00:00\",\"2023-11-06T00:00:00\",\"2023-11-21T00:00:00\"],\"xaxis\":\"x\",\"yaxis\":\"y\",\"type\":\"histogram\"},{\"alignmentgroup\":\"True\",\"bingroup\":\"x\",\"hovertemplate\":\"Endere\\u00e7o=Rua Sara\\u003cbr\\u003eData cadastro=%{x}\\u003cbr\\u003ecount=%{y}\\u003cextra\\u003e\\u003c\\u002fextra\\u003e\",\"legendgroup\":\"Rua Sara\",\"marker\":{\"color\":\"#00cc96\",\"pattern\":{\"shape\":\"\"}},\"name\":\"Rua Sara\",\"offsetgroup\":\"Rua Sara\",\"orientation\":\"v\",\"showlegend\":true,\"texttemplate\":\"%{value}\",\"x\":[\"2023-08-15T00:00:00\",\"2024-02-23T00:00:00\",\"2024-05-17T00:00:00\"],\"xaxis\":\"x\",\"yaxis\":\"y\",\"type\":\"histogram\"},{\"alignmentgroup\":\"True\",\"bingroup\":\"x\",\"hovertemplate\":\"Endere\\u00e7o=Rua Deolinda\\u003cbr\\u003eData cadastro=%{x}\\u003cbr\\u003ecount=%{y}\\u003cextra\\u003e\\u003c\\u002fextra\\u003e\",\"legendgroup\":\"Rua Deolinda\",\"marker\":{\"color\":\"#ab63fa\",\"pattern\":{\"shape\":\"\"}},\"name\":\"Rua Deolinda\",\"offsetgroup\":\"Rua Deolinda\",\"orientation\":\"v\",\"showlegend\":true,\"texttemplate\":\"%{value}\",\"x\":[\"2023-08-16T00:00:00\"],\"xaxis\":\"x\",\"yaxis\":\"y\",\"type\":\"histogram\"},{\"alignmentgroup\":\"True\",\"bingroup\":\"x\",\"hovertemplate\":\"Endere\\u00e7o=Rua Marc\\u00edlio Dias\\u003cbr\\u003eData cadastro=%{x}\\u003cbr\\u003ecount=%{y}\\u003cextra\\u003e\\u003c\\u002fextra\\u003e\",\"legendgroup\":\"Rua Marc\\u00edlio Dias\",\"marker\":{\"color\":\"#FFA15A\",\"pattern\":{\"shape\":\"\"}},\"name\":\"Rua Marc\\u00edlio Dias\",\"offsetgroup\":\"Rua Marc\\u00edlio Dias\",\"orientation\":\"v\",\"showlegend\":true,\"texttemplate\":\"%{value}\",\"x\":[\"2023-08-17T00:00:00\",\"2023-09-05T00:00:00\",\"2023-09-18T00:00:00\",\"2024-02-20T00:00:00\",\"2024-03-08T00:00:00\"],\"xaxis\":\"x\",\"yaxis\":\"y\",\"type\":\"histogram\"},{\"alignmentgroup\":\"True\",\"bingroup\":\"x\",\"hovertemplate\":\"Endere\\u00e7o=Travessa da Felicidade\\u003cbr\\u003eData cadastro=%{x}\\u003cbr\\u003ecount=%{y}\\u003cextra\\u003e\\u003c\\u002fextra\\u003e\",\"legendgroup\":\"Travessa da Felicidade\",\"marker\":{\"color\":\"#19d3f3\",\"pattern\":{\"shape\":\"\"}},\"name\":\"Travessa da Felicidade\",\"offsetgroup\":\"Travessa da Felicidade\",\"orientation\":\"v\",\"showlegend\":true,\"texttemplate\":\"%{value}\",\"x\":[\"2023-08-21T00:00:00\",\"2023-08-23T00:00:00\",\"2023-09-18T00:00:00\",\"2023-10-31T00:00:00\",\"2023-12-19T00:00:00\",\"2024-03-13T00:00:00\"],\"xaxis\":\"x\",\"yaxis\":\"y\",\"type\":\"histogram\"},{\"alignmentgroup\":\"True\",\"bingroup\":\"x\",\"hovertemplate\":\"Endere\\u00e7o=Rua Moreira Pinto\\u003cbr\\u003eData cadastro=%{x}\\u003cbr\\u003ecount=%{y}\\u003cextra\\u003e\\u003c\\u002fextra\\u003e\",\"legendgroup\":\"Rua Moreira Pinto\",\"marker\":{\"color\":\"#FF6692\",\"pattern\":{\"shape\":\"\"}},\"name\":\"Rua Moreira Pinto\",\"offsetgroup\":\"Rua Moreira Pinto\",\"orientation\":\"v\",\"showlegend\":true,\"texttemplate\":\"%{value}\",\"x\":[\"2023-08-23T00:00:00\",\"2023-09-14T00:00:00\",\"2023-12-15T00:00:00\"],\"xaxis\":\"x\",\"yaxis\":\"y\",\"type\":\"histogram\"},{\"alignmentgroup\":\"True\",\"bingroup\":\"x\",\"hovertemplate\":\"Endere\\u00e7o=Rua Marqu\\u00eas de Sapuca\\u00ed\\u003cbr\\u003eData cadastro=%{x}\\u003cbr\\u003ecount=%{y}\\u003cextra\\u003e\\u003c\\u002fextra\\u003e\",\"legendgroup\":\"Rua Marqu\\u00eas de Sapuca\\u00ed\",\"marker\":{\"color\":\"#B6E880\",\"pattern\":{\"shape\":\"\"}},\"name\":\"Rua Marqu\\u00eas de Sapuca\\u00ed\",\"offsetgroup\":\"Rua Marqu\\u00eas de Sapuca\\u00ed\",\"orientation\":\"v\",\"showlegend\":true,\"texttemplate\":\"%{value}\",\"x\":[\"2023-08-23T00:00:00\"],\"xaxis\":\"x\",\"yaxis\":\"y\",\"type\":\"histogram\"},{\"alignmentgroup\":\"True\",\"bingroup\":\"x\",\"hovertemplate\":\"Endere\\u00e7o=Rua Pedro Alves\\u003cbr\\u003eData cadastro=%{x}\\u003cbr\\u003ecount=%{y}\\u003cextra\\u003e\\u003c\\u002fextra\\u003e\",\"legendgroup\":\"Rua Pedro Alves\",\"marker\":{\"color\":\"#FF97FF\",\"pattern\":{\"shape\":\"\"}},\"name\":\"Rua Pedro Alves\",\"offsetgroup\":\"Rua Pedro Alves\",\"orientation\":\"v\",\"showlegend\":true,\"texttemplate\":\"%{value}\",\"x\":[\"2023-08-24T00:00:00\",\"2023-09-04T00:00:00\",\"2023-09-30T00:00:00\",\"2023-10-02T00:00:00\",\"2023-12-05T00:00:00\",\"2024-01-12T00:00:00\",\"2024-02-16T00:00:00\",\"2024-04-01T00:00:00\",\"2024-04-24T00:00:00\"],\"xaxis\":\"x\",\"yaxis\":\"y\",\"type\":\"histogram\"},{\"alignmentgroup\":\"True\",\"bingroup\":\"x\",\"hovertemplate\":\"Endere\\u00e7o=Rua Dona Lucia\\u003cbr\\u003eData cadastro=%{x}\\u003cbr\\u003ecount=%{y}\\u003cextra\\u003e\\u003c\\u002fextra\\u003e\",\"legendgroup\":\"Rua Dona Lucia\",\"marker\":{\"color\":\"#FECB52\",\"pattern\":{\"shape\":\"\"}},\"name\":\"Rua Dona Lucia\",\"offsetgroup\":\"Rua Dona Lucia\",\"orientation\":\"v\",\"showlegend\":true,\"texttemplate\":\"%{value}\",\"x\":[\"2023-08-28T00:00:00\"],\"xaxis\":\"x\",\"yaxis\":\"y\",\"type\":\"histogram\"},{\"alignmentgroup\":\"True\",\"bingroup\":\"x\",\"hovertemplate\":\"Endere\\u00e7o=Rua do Cruzeiro\\u003cbr\\u003eData cadastro=%{x}\\u003cbr\\u003ecount=%{y}\\u003cextra\\u003e\\u003c\\u002fextra\\u003e\",\"legendgroup\":\"Rua do Cruzeiro\",\"marker\":{\"color\":\"#636efa\",\"pattern\":{\"shape\":\"\"}},\"name\":\"Rua do Cruzeiro\",\"offsetgroup\":\"Rua do Cruzeiro\",\"orientation\":\"v\",\"showlegend\":true,\"texttemplate\":\"%{value}\",\"x\":[\"2023-09-05T00:00:00\"],\"xaxis\":\"x\",\"yaxis\":\"y\",\"type\":\"histogram\"},{\"alignmentgroup\":\"True\",\"bingroup\":\"x\",\"hovertemplate\":\"Endere\\u00e7o=Rua Gasparina\\u003cbr\\u003eData cadastro=%{x}\\u003cbr\\u003ecount=%{y}\\u003cextra\\u003e\\u003c\\u002fextra\\u003e\",\"legendgroup\":\"Rua Gasparina\",\"marker\":{\"color\":\"#EF553B\",\"pattern\":{\"shape\":\"\"}},\"name\":\"Rua Gasparina\",\"offsetgroup\":\"Rua Gasparina\",\"orientation\":\"v\",\"showlegend\":true,\"texttemplate\":\"%{value}\",\"x\":[\"2023-09-08T00:00:00\"],\"xaxis\":\"x\",\"yaxis\":\"y\",\"type\":\"histogram\"},{\"alignmentgroup\":\"True\",\"bingroup\":\"x\",\"hovertemplate\":\"Endere\\u00e7o=Ladeira Morro do Valongo\\u003cbr\\u003eData cadastro=%{x}\\u003cbr\\u003ecount=%{y}\\u003cextra\\u003e\\u003c\\u002fextra\\u003e\",\"legendgroup\":\"Ladeira Morro do Valongo\",\"marker\":{\"color\":\"#00cc96\",\"pattern\":{\"shape\":\"\"}},\"name\":\"Ladeira Morro do Valongo\",\"offsetgroup\":\"Ladeira Morro do Valongo\",\"orientation\":\"v\",\"showlegend\":true,\"texttemplate\":\"%{value}\",\"x\":[\"2023-09-09T00:00:00\"],\"xaxis\":\"x\",\"yaxis\":\"y\",\"type\":\"histogram\"},{\"alignmentgroup\":\"True\",\"bingroup\":\"x\",\"hovertemplate\":\"Endere\\u00e7o=Ladeira Madre de Deus\\u003cbr\\u003eData cadastro=%{x}\\u003cbr\\u003ecount=%{y}\\u003cextra\\u003e\\u003c\\u002fextra\\u003e\",\"legendgroup\":\"Ladeira Madre de Deus\",\"marker\":{\"color\":\"#ab63fa\",\"pattern\":{\"shape\":\"\"}},\"name\":\"Ladeira Madre de Deus\",\"offsetgroup\":\"Ladeira Madre de Deus\",\"orientation\":\"v\",\"showlegend\":true,\"texttemplate\":\"%{value}\",\"x\":[\"2023-09-21T00:00:00\",\"2023-10-20T00:00:00\",\"2023-11-27T00:00:00\",\"2024-03-05T00:00:00\"],\"xaxis\":\"x\",\"yaxis\":\"y\",\"type\":\"histogram\"},{\"alignmentgroup\":\"True\",\"bingroup\":\"x\",\"hovertemplate\":\"Endere\\u00e7o=Rua Le\\u00f4ncio de Albuquerque\\u003cbr\\u003eData cadastro=%{x}\\u003cbr\\u003ecount=%{y}\\u003cextra\\u003e\\u003c\\u002fextra\\u003e\",\"legendgroup\":\"Rua Le\\u00f4ncio de Albuquerque\",\"marker\":{\"color\":\"#FFA15A\",\"pattern\":{\"shape\":\"\"}},\"name\":\"Rua Le\\u00f4ncio de Albuquerque\",\"offsetgroup\":\"Rua Le\\u00f4ncio de Albuquerque\",\"orientation\":\"v\",\"showlegend\":true,\"texttemplate\":\"%{value}\",\"x\":[\"2023-09-26T00:00:00\",\"2023-10-02T00:00:00\",\"2023-11-06T00:00:00\",\"2023-12-28T00:00:00\",\"2024-02-07T00:00:00\"],\"xaxis\":\"x\",\"yaxis\":\"y\",\"type\":\"histogram\"},{\"alignmentgroup\":\"True\",\"bingroup\":\"x\",\"hovertemplate\":\"Endere\\u00e7o=Rua Visconde da G\\u00e1vea\\u003cbr\\u003eData cadastro=%{x}\\u003cbr\\u003ecount=%{y}\\u003cextra\\u003e\\u003c\\u002fextra\\u003e\",\"legendgroup\":\"Rua Visconde da G\\u00e1vea\",\"marker\":{\"color\":\"#19d3f3\",\"pattern\":{\"shape\":\"\"}},\"name\":\"Rua Visconde da G\\u00e1vea\",\"offsetgroup\":\"Rua Visconde da G\\u00e1vea\",\"orientation\":\"v\",\"showlegend\":true,\"texttemplate\":\"%{value}\",\"x\":[\"2023-09-27T00:00:00\",\"2024-01-26T00:00:00\",\"2024-04-18T00:00:00\"],\"xaxis\":\"x\",\"yaxis\":\"y\",\"type\":\"histogram\"},{\"alignmentgroup\":\"True\",\"bingroup\":\"x\",\"hovertemplate\":\"Endere\\u00e7o=Rua Alfredo Dolabela Portela\\u003cbr\\u003eData cadastro=%{x}\\u003cbr\\u003ecount=%{y}\\u003cextra\\u003e\\u003c\\u002fextra\\u003e\",\"legendgroup\":\"Rua Alfredo Dolabela Portela\",\"marker\":{\"color\":\"#FF6692\",\"pattern\":{\"shape\":\"\"}},\"name\":\"Rua Alfredo Dolabela Portela\",\"offsetgroup\":\"Rua Alfredo Dolabela Portela\",\"orientation\":\"v\",\"showlegend\":true,\"texttemplate\":\"%{value}\",\"x\":[\"2023-09-27T00:00:00\",\"2023-10-25T00:00:00\",\"2023-11-07T00:00:00\",\"2023-12-08T00:00:00\",\"2024-03-08T00:00:00\"],\"xaxis\":\"x\",\"yaxis\":\"y\",\"type\":\"histogram\"},{\"alignmentgroup\":\"True\",\"bingroup\":\"x\",\"hovertemplate\":\"Endere\\u00e7o=Rua Macedo J\\u00fanior\\u003cbr\\u003eData cadastro=%{x}\\u003cbr\\u003ecount=%{y}\\u003cextra\\u003e\\u003c\\u002fextra\\u003e\",\"legendgroup\":\"Rua Macedo J\\u00fanior\",\"marker\":{\"color\":\"#B6E880\",\"pattern\":{\"shape\":\"\"}},\"name\":\"Rua Macedo J\\u00fanior\",\"offsetgroup\":\"Rua Macedo J\\u00fanior\",\"orientation\":\"v\",\"showlegend\":true,\"texttemplate\":\"%{value}\",\"x\":[\"2023-09-29T00:00:00\"],\"xaxis\":\"x\",\"yaxis\":\"y\",\"type\":\"histogram\"},{\"alignmentgroup\":\"True\",\"bingroup\":\"x\",\"hovertemplate\":\"Endere\\u00e7o=Rua Cruzeiro\\u003cbr\\u003eData cadastro=%{x}\\u003cbr\\u003ecount=%{y}\\u003cextra\\u003e\\u003c\\u002fextra\\u003e\",\"legendgroup\":\"Rua Cruzeiro\",\"marker\":{\"color\":\"#FF97FF\",\"pattern\":{\"shape\":\"\"}},\"name\":\"Rua Cruzeiro\",\"offsetgroup\":\"Rua Cruzeiro\",\"orientation\":\"v\",\"showlegend\":true,\"texttemplate\":\"%{value}\",\"x\":[\"2023-10-16T00:00:00\",\"2024-04-16T00:00:00\",\"2024-05-06T00:00:00\"],\"xaxis\":\"x\",\"yaxis\":\"y\",\"type\":\"histogram\"},{\"alignmentgroup\":\"True\",\"bingroup\":\"x\",\"hovertemplate\":\"Endere\\u00e7o=Rua Carlos Gomes\\u003cbr\\u003eData cadastro=%{x}\\u003cbr\\u003ecount=%{y}\\u003cextra\\u003e\\u003c\\u002fextra\\u003e\",\"legendgroup\":\"Rua Carlos Gomes\",\"marker\":{\"color\":\"#FECB52\",\"pattern\":{\"shape\":\"\"}},\"name\":\"Rua Carlos Gomes\",\"offsetgroup\":\"Rua Carlos Gomes\",\"orientation\":\"v\",\"showlegend\":true,\"texttemplate\":\"%{value}\",\"x\":[\"2023-10-23T00:00:00\",\"2024-04-29T00:00:00\"],\"xaxis\":\"x\",\"yaxis\":\"y\",\"type\":\"histogram\"},{\"alignmentgroup\":\"True\",\"bingroup\":\"x\",\"hovertemplate\":\"Endere\\u00e7o=Rua Silvino Montenegro\\u003cbr\\u003eData cadastro=%{x}\\u003cbr\\u003ecount=%{y}\\u003cextra\\u003e\\u003c\\u002fextra\\u003e\",\"legendgroup\":\"Rua Silvino Montenegro\",\"marker\":{\"color\":\"#636efa\",\"pattern\":{\"shape\":\"\"}},\"name\":\"Rua Silvino Montenegro\",\"offsetgroup\":\"Rua Silvino Montenegro\",\"orientation\":\"v\",\"showlegend\":true,\"texttemplate\":\"%{value}\",\"x\":[\"2023-11-06T00:00:00\"],\"xaxis\":\"x\",\"yaxis\":\"y\",\"type\":\"histogram\"},{\"alignmentgroup\":\"True\",\"bingroup\":\"x\",\"hovertemplate\":\"Endere\\u00e7o=Rua Waldemar Dutra\\u003cbr\\u003eData cadastro=%{x}\\u003cbr\\u003ecount=%{y}\\u003cextra\\u003e\\u003c\\u002fextra\\u003e\",\"legendgroup\":\"Rua Waldemar Dutra\",\"marker\":{\"color\":\"#EF553B\",\"pattern\":{\"shape\":\"\"}},\"name\":\"Rua Waldemar Dutra\",\"offsetgroup\":\"Rua Waldemar Dutra\",\"orientation\":\"v\",\"showlegend\":true,\"texttemplate\":\"%{value}\",\"x\":[\"2023-11-21T00:00:00\"],\"xaxis\":\"x\",\"yaxis\":\"y\",\"type\":\"histogram\"},{\"alignmentgroup\":\"True\",\"bingroup\":\"x\",\"hovertemplate\":\"Endere\\u00e7o=Avenida Venezuela\\u003cbr\\u003eData cadastro=%{x}\\u003cbr\\u003ecount=%{y}\\u003cextra\\u003e\\u003c\\u002fextra\\u003e\",\"legendgroup\":\"Avenida Venezuela\",\"marker\":{\"color\":\"#00cc96\",\"pattern\":{\"shape\":\"\"}},\"name\":\"Avenida Venezuela\",\"offsetgroup\":\"Avenida Venezuela\",\"orientation\":\"v\",\"showlegend\":true,\"texttemplate\":\"%{value}\",\"x\":[\"2023-11-27T00:00:00\"],\"xaxis\":\"x\",\"yaxis\":\"y\",\"type\":\"histogram\"},{\"alignmentgroup\":\"True\",\"bingroup\":\"x\",\"hovertemplate\":\"Endere\\u00e7o=Rua Farnese\\u003cbr\\u003eData cadastro=%{x}\\u003cbr\\u003ecount=%{y}\\u003cextra\\u003e\\u003c\\u002fextra\\u003e\",\"legendgroup\":\"Rua Farnese\",\"marker\":{\"color\":\"#ab63fa\",\"pattern\":{\"shape\":\"\"}},\"name\":\"Rua Farnese\",\"offsetgroup\":\"Rua Farnese\",\"orientation\":\"v\",\"showlegend\":true,\"texttemplate\":\"%{value}\",\"x\":[\"2023-12-02T00:00:00\"],\"xaxis\":\"x\",\"yaxis\":\"y\",\"type\":\"histogram\"},{\"alignmentgroup\":\"True\",\"bingroup\":\"x\",\"hovertemplate\":\"Endere\\u00e7o=Rua Rosa Sai\\u00e3o\\u003cbr\\u003eData cadastro=%{x}\\u003cbr\\u003ecount=%{y}\\u003cextra\\u003e\\u003c\\u002fextra\\u003e\",\"legendgroup\":\"Rua Rosa Sai\\u00e3o\",\"marker\":{\"color\":\"#FFA15A\",\"pattern\":{\"shape\":\"\"}},\"name\":\"Rua Rosa Sai\\u00e3o\",\"offsetgroup\":\"Rua Rosa Sai\\u00e3o\",\"orientation\":\"v\",\"showlegend\":true,\"texttemplate\":\"%{value}\",\"x\":[\"2023-12-05T00:00:00\",\"2024-02-14T00:00:00\"],\"xaxis\":\"x\",\"yaxis\":\"y\",\"type\":\"histogram\"},{\"alignmentgroup\":\"True\",\"bingroup\":\"x\",\"hovertemplate\":\"Endere\\u00e7o=Rua Capit\\u00e3o Sena\\u003cbr\\u003eData cadastro=%{x}\\u003cbr\\u003ecount=%{y}\\u003cextra\\u003e\\u003c\\u002fextra\\u003e\",\"legendgroup\":\"Rua Capit\\u00e3o Sena\",\"marker\":{\"color\":\"#19d3f3\",\"pattern\":{\"shape\":\"\"}},\"name\":\"Rua Capit\\u00e3o Sena\",\"offsetgroup\":\"Rua Capit\\u00e3o Sena\",\"orientation\":\"v\",\"showlegend\":true,\"texttemplate\":\"%{value}\",\"x\":[\"2023-12-14T00:00:00\",\"2024-04-05T00:00:00\"],\"xaxis\":\"x\",\"yaxis\":\"y\",\"type\":\"histogram\"},{\"alignmentgroup\":\"True\",\"bingroup\":\"x\",\"hovertemplate\":\"Endere\\u00e7o=Rua Marqu\\u00eas de Pombal\\u003cbr\\u003eData cadastro=%{x}\\u003cbr\\u003ecount=%{y}\\u003cextra\\u003e\\u003c\\u002fextra\\u003e\",\"legendgroup\":\"Rua Marqu\\u00eas de Pombal\",\"marker\":{\"color\":\"#FF6692\",\"pattern\":{\"shape\":\"\"}},\"name\":\"Rua Marqu\\u00eas de Pombal\",\"offsetgroup\":\"Rua Marqu\\u00eas de Pombal\",\"orientation\":\"v\",\"showlegend\":true,\"texttemplate\":\"%{value}\",\"x\":[\"2023-12-16T00:00:00\"],\"xaxis\":\"x\",\"yaxis\":\"y\",\"type\":\"histogram\"},{\"alignmentgroup\":\"True\",\"bingroup\":\"x\",\"hovertemplate\":\"Endere\\u00e7o=Rua Macedo Junior\\u003cbr\\u003eData cadastro=%{x}\\u003cbr\\u003ecount=%{y}\\u003cextra\\u003e\\u003c\\u002fextra\\u003e\",\"legendgroup\":\"Rua Macedo Junior\",\"marker\":{\"color\":\"#B6E880\",\"pattern\":{\"shape\":\"\"}},\"name\":\"Rua Macedo Junior\",\"offsetgroup\":\"Rua Macedo Junior\",\"orientation\":\"v\",\"showlegend\":true,\"texttemplate\":\"%{value}\",\"x\":[\"2023-12-28T00:00:00\"],\"xaxis\":\"x\",\"yaxis\":\"y\",\"type\":\"histogram\"},{\"alignmentgroup\":\"True\",\"bingroup\":\"x\",\"hovertemplate\":\"Endere\\u00e7o=Rua da Uni\\u00e3o\\u003cbr\\u003eData cadastro=%{x}\\u003cbr\\u003ecount=%{y}\\u003cextra\\u003e\\u003c\\u002fextra\\u003e\",\"legendgroup\":\"Rua da Uni\\u00e3o\",\"marker\":{\"color\":\"#FF97FF\",\"pattern\":{\"shape\":\"\"}},\"name\":\"Rua da Uni\\u00e3o\",\"offsetgroup\":\"Rua da Uni\\u00e3o\",\"orientation\":\"v\",\"showlegend\":true,\"texttemplate\":\"%{value}\",\"x\":[\"2024-01-04T00:00:00\"],\"xaxis\":\"x\",\"yaxis\":\"y\",\"type\":\"histogram\"},{\"alignmentgroup\":\"True\",\"bingroup\":\"x\",\"hovertemplate\":\"Endere\\u00e7o=Travessa Brito Teixeira\\u003cbr\\u003eData cadastro=%{x}\\u003cbr\\u003ecount=%{y}\\u003cextra\\u003e\\u003c\\u002fextra\\u003e\",\"legendgroup\":\"Travessa Brito Teixeira\",\"marker\":{\"color\":\"#FECB52\",\"pattern\":{\"shape\":\"\"}},\"name\":\"Travessa Brito Teixeira\",\"offsetgroup\":\"Travessa Brito Teixeira\",\"orientation\":\"v\",\"showlegend\":true,\"texttemplate\":\"%{value}\",\"x\":[\"2024-01-08T00:00:00\"],\"xaxis\":\"x\",\"yaxis\":\"y\",\"type\":\"histogram\"},{\"alignmentgroup\":\"True\",\"bingroup\":\"x\",\"hovertemplate\":\"Endere\\u00e7o=Rua Camerino\\u003cbr\\u003eData cadastro=%{x}\\u003cbr\\u003ecount=%{y}\\u003cextra\\u003e\\u003c\\u002fextra\\u003e\",\"legendgroup\":\"Rua Camerino\",\"marker\":{\"color\":\"#636efa\",\"pattern\":{\"shape\":\"\"}},\"name\":\"Rua Camerino\",\"offsetgroup\":\"Rua Camerino\",\"orientation\":\"v\",\"showlegend\":true,\"texttemplate\":\"%{value}\",\"x\":[\"2024-02-03T00:00:00\",\"2024-02-07T00:00:00\"],\"xaxis\":\"x\",\"yaxis\":\"y\",\"type\":\"histogram\"},{\"alignmentgroup\":\"True\",\"bingroup\":\"x\",\"hovertemplate\":\"Endere\\u00e7o=Rua Ant\\u00f4nio Lage\\u003cbr\\u003eData cadastro=%{x}\\u003cbr\\u003ecount=%{y}\\u003cextra\\u003e\\u003c\\u002fextra\\u003e\",\"legendgroup\":\"Rua Ant\\u00f4nio Lage\",\"marker\":{\"color\":\"#EF553B\",\"pattern\":{\"shape\":\"\"}},\"name\":\"Rua Ant\\u00f4nio Lage\",\"offsetgroup\":\"Rua Ant\\u00f4nio Lage\",\"orientation\":\"v\",\"showlegend\":true,\"texttemplate\":\"%{value}\",\"x\":[\"2024-02-06T00:00:00\"],\"xaxis\":\"x\",\"yaxis\":\"y\",\"type\":\"histogram\"},{\"alignmentgroup\":\"True\",\"bingroup\":\"x\",\"hovertemplate\":\"Endere\\u00e7o=Rua Costa Barros\\u003cbr\\u003eData cadastro=%{x}\\u003cbr\\u003ecount=%{y}\\u003cextra\\u003e\\u003c\\u002fextra\\u003e\",\"legendgroup\":\"Rua Costa Barros\",\"marker\":{\"color\":\"#00cc96\",\"pattern\":{\"shape\":\"\"}},\"name\":\"Rua Costa Barros\",\"offsetgroup\":\"Rua Costa Barros\",\"orientation\":\"v\",\"showlegend\":true,\"texttemplate\":\"%{value}\",\"x\":[\"2024-02-17T00:00:00\",\"2024-04-17T00:00:00\"],\"xaxis\":\"x\",\"yaxis\":\"y\",\"type\":\"histogram\"},{\"alignmentgroup\":\"True\",\"bingroup\":\"x\",\"hovertemplate\":\"Endere\\u00e7o=Rua Miguel Sai\\u00e3o\\u003cbr\\u003eData cadastro=%{x}\\u003cbr\\u003ecount=%{y}\\u003cextra\\u003e\\u003c\\u002fextra\\u003e\",\"legendgroup\":\"Rua Miguel Sai\\u00e3o\",\"marker\":{\"color\":\"#ab63fa\",\"pattern\":{\"shape\":\"\"}},\"name\":\"Rua Miguel Sai\\u00e3o\",\"offsetgroup\":\"Rua Miguel Sai\\u00e3o\",\"orientation\":\"v\",\"showlegend\":true,\"texttemplate\":\"%{value}\",\"x\":[\"2024-03-05T00:00:00\"],\"xaxis\":\"x\",\"yaxis\":\"y\",\"type\":\"histogram\"},{\"alignmentgroup\":\"True\",\"bingroup\":\"x\",\"hovertemplate\":\"Endere\\u00e7o=Rua da Am\\u00e9rica 81\\u003cbr\\u003eData cadastro=%{x}\\u003cbr\\u003ecount=%{y}\\u003cextra\\u003e\\u003c\\u002fextra\\u003e\",\"legendgroup\":\"Rua da Am\\u00e9rica 81\",\"marker\":{\"color\":\"#FFA15A\",\"pattern\":{\"shape\":\"\"}},\"name\":\"Rua da Am\\u00e9rica 81\",\"offsetgroup\":\"Rua da Am\\u00e9rica 81\",\"orientation\":\"v\",\"showlegend\":true,\"texttemplate\":\"%{value}\",\"x\":[\"2024-03-15T00:00:00\",\"2024-04-22T00:00:00\"],\"xaxis\":\"x\",\"yaxis\":\"y\",\"type\":\"histogram\"},{\"alignmentgroup\":\"True\",\"bingroup\":\"x\",\"hovertemplate\":\"Endere\\u00e7o=Rua Jo\\u00e3o Cardoso\\u003cbr\\u003eData cadastro=%{x}\\u003cbr\\u003ecount=%{y}\\u003cextra\\u003e\\u003c\\u002fextra\\u003e\",\"legendgroup\":\"Rua Jo\\u00e3o Cardoso\",\"marker\":{\"color\":\"#19d3f3\",\"pattern\":{\"shape\":\"\"}},\"name\":\"Rua Jo\\u00e3o Cardoso\",\"offsetgroup\":\"Rua Jo\\u00e3o Cardoso\",\"orientation\":\"v\",\"showlegend\":true,\"texttemplate\":\"%{value}\",\"x\":[\"2024-03-19T00:00:00\"],\"xaxis\":\"x\",\"yaxis\":\"y\",\"type\":\"histogram\"},{\"alignmentgroup\":\"True\",\"bingroup\":\"x\",\"hovertemplate\":\"Endere\\u00e7o=Rua Major Sai\\u00e3o\\u003cbr\\u003eData cadastro=%{x}\\u003cbr\\u003ecount=%{y}\\u003cextra\\u003e\\u003c\\u002fextra\\u003e\",\"legendgroup\":\"Rua Major Sai\\u00e3o\",\"marker\":{\"color\":\"#FF6692\",\"pattern\":{\"shape\":\"\"}},\"name\":\"Rua Major Sai\\u00e3o\",\"offsetgroup\":\"Rua Major Sai\\u00e3o\",\"orientation\":\"v\",\"showlegend\":true,\"texttemplate\":\"%{value}\",\"x\":[\"2024-03-28T00:00:00\",\"2024-04-09T00:00:00\"],\"xaxis\":\"x\",\"yaxis\":\"y\",\"type\":\"histogram\"},{\"alignmentgroup\":\"True\",\"bingroup\":\"x\",\"hovertemplate\":\"Endere\\u00e7o=Rua Saldanha Marinho\\u003cbr\\u003eData cadastro=%{x}\\u003cbr\\u003ecount=%{y}\\u003cextra\\u003e\\u003c\\u002fextra\\u003e\",\"legendgroup\":\"Rua Saldanha Marinho\",\"marker\":{\"color\":\"#B6E880\",\"pattern\":{\"shape\":\"\"}},\"name\":\"Rua Saldanha Marinho\",\"offsetgroup\":\"Rua Saldanha Marinho\",\"orientation\":\"v\",\"showlegend\":true,\"texttemplate\":\"%{value}\",\"x\":[\"2024-03-29T00:00:00\"],\"xaxis\":\"x\",\"yaxis\":\"y\",\"type\":\"histogram\"},{\"alignmentgroup\":\"True\",\"bingroup\":\"x\",\"hovertemplate\":\"Endere\\u00e7o=Rua Joaquim Esposel\\u003cbr\\u003eData cadastro=%{x}\\u003cbr\\u003ecount=%{y}\\u003cextra\\u003e\\u003c\\u002fextra\\u003e\",\"legendgroup\":\"Rua Joaquim Esposel\",\"marker\":{\"color\":\"#FF97FF\",\"pattern\":{\"shape\":\"\"}},\"name\":\"Rua Joaquim Esposel\",\"offsetgroup\":\"Rua Joaquim Esposel\",\"orientation\":\"v\",\"showlegend\":true,\"texttemplate\":\"%{value}\",\"x\":[\"2024-04-04T00:00:00\"],\"xaxis\":\"x\",\"yaxis\":\"y\",\"type\":\"histogram\"},{\"alignmentgroup\":\"True\",\"bingroup\":\"x\",\"hovertemplate\":\"Endere\\u00e7o=Avenida Presidente Vargas\\u003cbr\\u003eData cadastro=%{x}\\u003cbr\\u003ecount=%{y}\\u003cextra\\u003e\\u003c\\u002fextra\\u003e\",\"legendgroup\":\"Avenida Presidente Vargas\",\"marker\":{\"color\":\"#FECB52\",\"pattern\":{\"shape\":\"\"}},\"name\":\"Avenida Presidente Vargas\",\"offsetgroup\":\"Avenida Presidente Vargas\",\"orientation\":\"v\",\"showlegend\":true,\"texttemplate\":\"%{value}\",\"x\":[\"2024-04-09T00:00:00\",\"2024-04-16T00:00:00\"],\"xaxis\":\"x\",\"yaxis\":\"y\",\"type\":\"histogram\"},{\"alignmentgroup\":\"True\",\"bingroup\":\"x\",\"hovertemplate\":\"Endere\\u00e7o=Rua Jo\\u00e3o \\u00c1lvares\\u003cbr\\u003eData cadastro=%{x}\\u003cbr\\u003ecount=%{y}\\u003cextra\\u003e\\u003c\\u002fextra\\u003e\",\"legendgroup\":\"Rua Jo\\u00e3o \\u00c1lvares\",\"marker\":{\"color\":\"#636efa\",\"pattern\":{\"shape\":\"\"}},\"name\":\"Rua Jo\\u00e3o \\u00c1lvares\",\"offsetgroup\":\"Rua Jo\\u00e3o \\u00c1lvares\",\"orientation\":\"v\",\"showlegend\":true,\"texttemplate\":\"%{value}\",\"x\":[\"2024-04-18T00:00:00\"],\"xaxis\":\"x\",\"yaxis\":\"y\",\"type\":\"histogram\"},{\"alignmentgroup\":\"True\",\"bingroup\":\"x\",\"hovertemplate\":\"Endere\\u00e7o=Rua da Concei\\u00e7\\u00e3o\\u003cbr\\u003eData cadastro=%{x}\\u003cbr\\u003ecount=%{y}\\u003cextra\\u003e\\u003c\\u002fextra\\u003e\",\"legendgroup\":\"Rua da Concei\\u00e7\\u00e3o\",\"marker\":{\"color\":\"#EF553B\",\"pattern\":{\"shape\":\"\"}},\"name\":\"Rua da Concei\\u00e7\\u00e3o\",\"offsetgroup\":\"Rua da Concei\\u00e7\\u00e3o\",\"orientation\":\"v\",\"showlegend\":true,\"texttemplate\":\"%{value}\",\"x\":[\"2024-04-19T00:00:00\",\"2024-04-22T00:00:00\"],\"xaxis\":\"x\",\"yaxis\":\"y\",\"type\":\"histogram\"},{\"alignmentgroup\":\"True\",\"bingroup\":\"x\",\"hovertemplate\":\"Endere\\u00e7o=Travessa da Odete\\u003cbr\\u003eData cadastro=%{x}\\u003cbr\\u003ecount=%{y}\\u003cextra\\u003e\\u003c\\u002fextra\\u003e\",\"legendgroup\":\"Travessa da Odete\",\"marker\":{\"color\":\"#00cc96\",\"pattern\":{\"shape\":\"\"}},\"name\":\"Travessa da Odete\",\"offsetgroup\":\"Travessa da Odete\",\"orientation\":\"v\",\"showlegend\":true,\"texttemplate\":\"%{value}\",\"x\":[\"2024-04-27T00:00:00\"],\"xaxis\":\"x\",\"yaxis\":\"y\",\"type\":\"histogram\"},{\"alignmentgroup\":\"True\",\"bingroup\":\"x\",\"hovertemplate\":\"Endere\\u00e7o=Rua Atilia\\u003cbr\\u003eData cadastro=%{x}\\u003cbr\\u003ecount=%{y}\\u003cextra\\u003e\\u003c\\u002fextra\\u003e\",\"legendgroup\":\"Rua Atilia\",\"marker\":{\"color\":\"#ab63fa\",\"pattern\":{\"shape\":\"\"}},\"name\":\"Rua Atilia\",\"offsetgroup\":\"Rua Atilia\",\"orientation\":\"v\",\"showlegend\":true,\"texttemplate\":\"%{value}\",\"x\":[\"2024-05-06T00:00:00\",\"2024-05-06T00:00:00\"],\"xaxis\":\"x\",\"yaxis\":\"y\",\"type\":\"histogram\"},{\"alignmentgroup\":\"True\",\"bingroup\":\"x\",\"hovertemplate\":\"Endere\\u00e7o=Rua Sacadura Cabral\\u003cbr\\u003eData cadastro=%{x}\\u003cbr\\u003ecount=%{y}\\u003cextra\\u003e\\u003c\\u002fextra\\u003e\",\"legendgroup\":\"Rua Sacadura Cabral\",\"marker\":{\"color\":\"#FFA15A\",\"pattern\":{\"shape\":\"\"}},\"name\":\"Rua Sacadura Cabral\",\"offsetgroup\":\"Rua Sacadura Cabral\",\"orientation\":\"v\",\"showlegend\":true,\"texttemplate\":\"%{value}\",\"x\":[\"2024-05-07T00:00:00\"],\"xaxis\":\"x\",\"yaxis\":\"y\",\"type\":\"histogram\"}],                        {\"template\":{\"data\":{\"histogram2dcontour\":[{\"type\":\"histogram2dcontour\",\"colorbar\":{\"outlinewidth\":0,\"ticks\":\"\"},\"colorscale\":[[0.0,\"#0d0887\"],[0.1111111111111111,\"#46039f\"],[0.2222222222222222,\"#7201a8\"],[0.3333333333333333,\"#9c179e\"],[0.4444444444444444,\"#bd3786\"],[0.5555555555555556,\"#d8576b\"],[0.6666666666666666,\"#ed7953\"],[0.7777777777777778,\"#fb9f3a\"],[0.8888888888888888,\"#fdca26\"],[1.0,\"#f0f921\"]]}],\"choropleth\":[{\"type\":\"choropleth\",\"colorbar\":{\"outlinewidth\":0,\"ticks\":\"\"}}],\"histogram2d\":[{\"type\":\"histogram2d\",\"colorbar\":{\"outlinewidth\":0,\"ticks\":\"\"},\"colorscale\":[[0.0,\"#0d0887\"],[0.1111111111111111,\"#46039f\"],[0.2222222222222222,\"#7201a8\"],[0.3333333333333333,\"#9c179e\"],[0.4444444444444444,\"#bd3786\"],[0.5555555555555556,\"#d8576b\"],[0.6666666666666666,\"#ed7953\"],[0.7777777777777778,\"#fb9f3a\"],[0.8888888888888888,\"#fdca26\"],[1.0,\"#f0f921\"]]}],\"heatmap\":[{\"type\":\"heatmap\",\"colorbar\":{\"outlinewidth\":0,\"ticks\":\"\"},\"colorscale\":[[0.0,\"#0d0887\"],[0.1111111111111111,\"#46039f\"],[0.2222222222222222,\"#7201a8\"],[0.3333333333333333,\"#9c179e\"],[0.4444444444444444,\"#bd3786\"],[0.5555555555555556,\"#d8576b\"],[0.6666666666666666,\"#ed7953\"],[0.7777777777777778,\"#fb9f3a\"],[0.8888888888888888,\"#fdca26\"],[1.0,\"#f0f921\"]]}],\"heatmapgl\":[{\"type\":\"heatmapgl\",\"colorbar\":{\"outlinewidth\":0,\"ticks\":\"\"},\"colorscale\":[[0.0,\"#0d0887\"],[0.1111111111111111,\"#46039f\"],[0.2222222222222222,\"#7201a8\"],[0.3333333333333333,\"#9c179e\"],[0.4444444444444444,\"#bd3786\"],[0.5555555555555556,\"#d8576b\"],[0.6666666666666666,\"#ed7953\"],[0.7777777777777778,\"#fb9f3a\"],[0.8888888888888888,\"#fdca26\"],[1.0,\"#f0f921\"]]}],\"contourcarpet\":[{\"type\":\"contourcarpet\",\"colorbar\":{\"outlinewidth\":0,\"ticks\":\"\"}}],\"contour\":[{\"type\":\"contour\",\"colorbar\":{\"outlinewidth\":0,\"ticks\":\"\"},\"colorscale\":[[0.0,\"#0d0887\"],[0.1111111111111111,\"#46039f\"],[0.2222222222222222,\"#7201a8\"],[0.3333333333333333,\"#9c179e\"],[0.4444444444444444,\"#bd3786\"],[0.5555555555555556,\"#d8576b\"],[0.6666666666666666,\"#ed7953\"],[0.7777777777777778,\"#fb9f3a\"],[0.8888888888888888,\"#fdca26\"],[1.0,\"#f0f921\"]]}],\"surface\":[{\"type\":\"surface\",\"colorbar\":{\"outlinewidth\":0,\"ticks\":\"\"},\"colorscale\":[[0.0,\"#0d0887\"],[0.1111111111111111,\"#46039f\"],[0.2222222222222222,\"#7201a8\"],[0.3333333333333333,\"#9c179e\"],[0.4444444444444444,\"#bd3786\"],[0.5555555555555556,\"#d8576b\"],[0.6666666666666666,\"#ed7953\"],[0.7777777777777778,\"#fb9f3a\"],[0.8888888888888888,\"#fdca26\"],[1.0,\"#f0f921\"]]}],\"mesh3d\":[{\"type\":\"mesh3d\",\"colorbar\":{\"outlinewidth\":0,\"ticks\":\"\"}}],\"scatter\":[{\"fillpattern\":{\"fillmode\":\"overlay\",\"size\":10,\"solidity\":0.2},\"type\":\"scatter\"}],\"parcoords\":[{\"type\":\"parcoords\",\"line\":{\"colorbar\":{\"outlinewidth\":0,\"ticks\":\"\"}}}],\"scatterpolargl\":[{\"type\":\"scatterpolargl\",\"marker\":{\"colorbar\":{\"outlinewidth\":0,\"ticks\":\"\"}}}],\"bar\":[{\"error_x\":{\"color\":\"#2a3f5f\"},\"error_y\":{\"color\":\"#2a3f5f\"},\"marker\":{\"line\":{\"color\":\"#E5ECF6\",\"width\":0.5},\"pattern\":{\"fillmode\":\"overlay\",\"size\":10,\"solidity\":0.2}},\"type\":\"bar\"}],\"scattergeo\":[{\"type\":\"scattergeo\",\"marker\":{\"colorbar\":{\"outlinewidth\":0,\"ticks\":\"\"}}}],\"scatterpolar\":[{\"type\":\"scatterpolar\",\"marker\":{\"colorbar\":{\"outlinewidth\":0,\"ticks\":\"\"}}}],\"histogram\":[{\"marker\":{\"pattern\":{\"fillmode\":\"overlay\",\"size\":10,\"solidity\":0.2}},\"type\":\"histogram\"}],\"scattergl\":[{\"type\":\"scattergl\",\"marker\":{\"colorbar\":{\"outlinewidth\":0,\"ticks\":\"\"}}}],\"scatter3d\":[{\"type\":\"scatter3d\",\"line\":{\"colorbar\":{\"outlinewidth\":0,\"ticks\":\"\"}},\"marker\":{\"colorbar\":{\"outlinewidth\":0,\"ticks\":\"\"}}}],\"scattermapbox\":[{\"type\":\"scattermapbox\",\"marker\":{\"colorbar\":{\"outlinewidth\":0,\"ticks\":\"\"}}}],\"scatterternary\":[{\"type\":\"scatterternary\",\"marker\":{\"colorbar\":{\"outlinewidth\":0,\"ticks\":\"\"}}}],\"scattercarpet\":[{\"type\":\"scattercarpet\",\"marker\":{\"colorbar\":{\"outlinewidth\":0,\"ticks\":\"\"}}}],\"carpet\":[{\"aaxis\":{\"endlinecolor\":\"#2a3f5f\",\"gridcolor\":\"white\",\"linecolor\":\"white\",\"minorgridcolor\":\"white\",\"startlinecolor\":\"#2a3f5f\"},\"baxis\":{\"endlinecolor\":\"#2a3f5f\",\"gridcolor\":\"white\",\"linecolor\":\"white\",\"minorgridcolor\":\"white\",\"startlinecolor\":\"#2a3f5f\"},\"type\":\"carpet\"}],\"table\":[{\"cells\":{\"fill\":{\"color\":\"#EBF0F8\"},\"line\":{\"color\":\"white\"}},\"header\":{\"fill\":{\"color\":\"#C8D4E3\"},\"line\":{\"color\":\"white\"}},\"type\":\"table\"}],\"barpolar\":[{\"marker\":{\"line\":{\"color\":\"#E5ECF6\",\"width\":0.5},\"pattern\":{\"fillmode\":\"overlay\",\"size\":10,\"solidity\":0.2}},\"type\":\"barpolar\"}],\"pie\":[{\"automargin\":true,\"type\":\"pie\"}]},\"layout\":{\"autotypenumbers\":\"strict\",\"colorway\":[\"#636efa\",\"#EF553B\",\"#00cc96\",\"#ab63fa\",\"#FFA15A\",\"#19d3f3\",\"#FF6692\",\"#B6E880\",\"#FF97FF\",\"#FECB52\"],\"font\":{\"color\":\"#2a3f5f\"},\"hovermode\":\"closest\",\"hoverlabel\":{\"align\":\"left\"},\"paper_bgcolor\":\"white\",\"plot_bgcolor\":\"#E5ECF6\",\"polar\":{\"bgcolor\":\"#E5ECF6\",\"angularaxis\":{\"gridcolor\":\"white\",\"linecolor\":\"white\",\"ticks\":\"\"},\"radialaxis\":{\"gridcolor\":\"white\",\"linecolor\":\"white\",\"ticks\":\"\"}},\"ternary\":{\"bgcolor\":\"#E5ECF6\",\"aaxis\":{\"gridcolor\":\"white\",\"linecolor\":\"white\",\"ticks\":\"\"},\"baxis\":{\"gridcolor\":\"white\",\"linecolor\":\"white\",\"ticks\":\"\"},\"caxis\":{\"gridcolor\":\"white\",\"linecolor\":\"white\",\"ticks\":\"\"}},\"coloraxis\":{\"colorbar\":{\"outlinewidth\":0,\"ticks\":\"\"}},\"colorscale\":{\"sequential\":[[0.0,\"#0d0887\"],[0.1111111111111111,\"#46039f\"],[0.2222222222222222,\"#7201a8\"],[0.3333333333333333,\"#9c179e\"],[0.4444444444444444,\"#bd3786\"],[0.5555555555555556,\"#d8576b\"],[0.6666666666666666,\"#ed7953\"],[0.7777777777777778,\"#fb9f3a\"],[0.8888888888888888,\"#fdca26\"],[1.0,\"#f0f921\"]],\"sequentialminus\":[[0.0,\"#0d0887\"],[0.1111111111111111,\"#46039f\"],[0.2222222222222222,\"#7201a8\"],[0.3333333333333333,\"#9c179e\"],[0.4444444444444444,\"#bd3786\"],[0.5555555555555556,\"#d8576b\"],[0.6666666666666666,\"#ed7953\"],[0.7777777777777778,\"#fb9f3a\"],[0.8888888888888888,\"#fdca26\"],[1.0,\"#f0f921\"]],\"diverging\":[[0,\"#8e0152\"],[0.1,\"#c51b7d\"],[0.2,\"#de77ae\"],[0.3,\"#f1b6da\"],[0.4,\"#fde0ef\"],[0.5,\"#f7f7f7\"],[0.6,\"#e6f5d0\"],[0.7,\"#b8e186\"],[0.8,\"#7fbc41\"],[0.9,\"#4d9221\"],[1,\"#276419\"]]},\"xaxis\":{\"gridcolor\":\"white\",\"linecolor\":\"white\",\"ticks\":\"\",\"title\":{\"standoff\":15},\"zerolinecolor\":\"white\",\"automargin\":true,\"zerolinewidth\":2},\"yaxis\":{\"gridcolor\":\"white\",\"linecolor\":\"white\",\"ticks\":\"\",\"title\":{\"standoff\":15},\"zerolinecolor\":\"white\",\"automargin\":true,\"zerolinewidth\":2},\"scene\":{\"xaxis\":{\"backgroundcolor\":\"#E5ECF6\",\"gridcolor\":\"white\",\"linecolor\":\"white\",\"showbackground\":true,\"ticks\":\"\",\"zerolinecolor\":\"white\",\"gridwidth\":2},\"yaxis\":{\"backgroundcolor\":\"#E5ECF6\",\"gridcolor\":\"white\",\"linecolor\":\"white\",\"showbackground\":true,\"ticks\":\"\",\"zerolinecolor\":\"white\",\"gridwidth\":2},\"zaxis\":{\"backgroundcolor\":\"#E5ECF6\",\"gridcolor\":\"white\",\"linecolor\":\"white\",\"showbackground\":true,\"ticks\":\"\",\"zerolinecolor\":\"white\",\"gridwidth\":2}},\"shapedefaults\":{\"line\":{\"color\":\"#2a3f5f\"}},\"annotationdefaults\":{\"arrowcolor\":\"#2a3f5f\",\"arrowhead\":0,\"arrowwidth\":1},\"geo\":{\"bgcolor\":\"white\",\"landcolor\":\"#E5ECF6\",\"subunitcolor\":\"white\",\"showland\":true,\"showlakes\":true,\"lakecolor\":\"white\"},\"title\":{\"x\":0.05},\"mapbox\":{\"style\":\"light\"}}},\"xaxis\":{\"anchor\":\"y\",\"domain\":[0.0,1.0],\"title\":{\"text\":\"Data cadastro\"}},\"yaxis\":{\"anchor\":\"x\",\"domain\":[0.0,1.0],\"title\":{\"text\":\"count\"}},\"legend\":{\"title\":{\"text\":\"Endere\\u00e7o\"},\"tracegroupgap\":0},\"margin\":{\"t\":60},\"barmode\":\"group\"},                        {\"responsive\": true}                    ).then(function(){\n",
       "                            \n",
       "var gd = document.getElementById('39532473-e8a6-4116-80f9-da674cecb4b9');\n",
       "var x = new MutationObserver(function (mutations, observer) {{\n",
       "        var display = window.getComputedStyle(gd).display;\n",
       "        if (!display || display === 'none') {{\n",
       "            console.log([gd, 'removed!']);\n",
       "            Plotly.purge(gd);\n",
       "            observer.disconnect();\n",
       "        }}\n",
       "}});\n",
       "\n",
       "// Listen for the removal of the full notebook cells\n",
       "var notebookContainer = gd.closest('#notebook-container');\n",
       "if (notebookContainer) {{\n",
       "    x.observe(notebookContainer, {childList: true});\n",
       "}}\n",
       "\n",
       "// Listen for the clearing of the current output cell\n",
       "var outputEl = gd.closest('.output');\n",
       "if (outputEl) {{\n",
       "    x.observe(outputEl, {childList: true});\n",
       "}}\n",
       "\n",
       "                        })                };                });            </script>        </div>"
      ]
     },
     "metadata": {},
     "output_type": "display_data"
    }
   ],
   "source": [
    "px.histogram(dados,x='Data cadastro',text_auto=True,color='Endereço',barmode='group')"
   ]
  }
 ],
 "metadata": {
  "kernelspec": {
   "display_name": "Python 3",
   "language": "python",
   "name": "python3"
  },
  "language_info": {
   "codemirror_mode": {
    "name": "ipython",
    "version": 3
   },
   "file_extension": ".py",
   "mimetype": "text/x-python",
   "name": "python",
   "nbconvert_exporter": "python",
   "pygments_lexer": "ipython3",
   "version": "3.undefined.undefined"
  }
 },
 "nbformat": 4,
 "nbformat_minor": 2
}
